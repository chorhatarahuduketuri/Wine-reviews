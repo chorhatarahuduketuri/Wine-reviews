{
 "cells": [
  {
   "cell_type": "code",
   "execution_count": 1,
   "metadata": {},
   "outputs": [
    {
     "name": "stderr",
     "output_type": "stream",
     "text": [
      "/home/chhk/.local/lib/python3.6/site-packages/matplotlib/__init__.py:886: MatplotlibDeprecationWarning: \n",
      "examples.directory is deprecated; in the future, examples will be found relative to the 'datapath' directory.\n",
      "  \"found relative to the 'datapath' directory.\".format(key))\n"
     ]
    }
   ],
   "source": [
    "# Imports and data loading\n",
    "import pandas as pd\n",
    "import numpy as np\n",
    "import matplotlib.pyplot as plt\n",
    "from scipy import stats\n",
    "import matplotlib.pyplot as plt\n",
    "import seaborn as sns\n",
    "from sklearn.preprocessing import LabelEncoder\n",
    "from sklearn.preprocessing import OneHotEncoder"
   ]
  },
  {
   "cell_type": "code",
   "execution_count": 2,
   "metadata": {},
   "outputs": [
    {
     "name": "stdout",
     "output_type": "stream",
     "text": [
      "64-bit\n"
     ]
    }
   ],
   "source": [
    "import sys\n",
    "if sys.maxsize > 2**32:\n",
    "    print('64-bit')\n",
    "else:\n",
    "    print('32-bit')"
   ]
  },
  {
   "cell_type": "code",
   "execution_count": 3,
   "metadata": {},
   "outputs": [],
   "source": [
    "first_150k = pd.read_csv('../input/wine-reviews/winemag-data_first150k.csv', index_col=0)\n",
    "data_csv = pd.read_csv('../input/wine-reviews/winemag-data-130k-v2.csv', index_col=0)\n",
    "data_json = pd.read_json('../input/wine-reviews/winemag-data-130k-v2.json')\n",
    "\n",
    "data = data_csv\n",
    "target_data = data['points']\n",
    "feature_data = data.drop('points', axis=1)"
   ]
  },
  {
   "cell_type": "markdown",
   "metadata": {},
   "source": [
    "## Read the manual\n",
    "The 'manual' for this data comes in the form of text descriptions on the kaggle site about this data that I have copied and pasted into a txt file, then formatted. \n",
    "\n",
    ">Here is a CSV version of the data I scraped. This dataset has three new fields  \n",
    "--Title (which you can parse the vintage from), Taster Name, and Taster Twitter Handle. This should also fix the duplicate entries problem in the first version of the dataset and add ~25k unique reviews to play with. \n",
    "\n",
    "So There are two copies of the dataset, one of which I can see is duplicated in .json form. \n",
    "\n",
    "> After watching Somm (a documentary on master sommeliers) I wondered how I could create a predictive model to identify wines through blind tasting like a master sommelier would. The first step in this journey was gathering some data to train a model. I plan to use deep learning to predict the wine variety using words in the description/review. The model still won't be able to taste the wine, but theoretically it could identify the wine based on a description that a sommelier could give. If anyone has any ideas on how to accomplish this, please post them!\n",
    "\n",
    "So their purpose was similar to mine: pick good wines. \n",
    "\n",
    ">winemag-data-130k-v2.csv contains 10 columns and 130k rows of wine reviews.  \n",
    "winemag-data_first150k.csv contains 10 columns and 150k rows of wine reviews.  \n",
    "winemag-data-130k-v2.json contains 6919 nodes of wine reviews.\n",
    "\n",
    "There are three files, one of which is the 'first', and the other two are 'v2', but in different file formats. \n",
    "\n",
    ">The data was scraped from WineEnthusiast during the week of June 15th, 2017. The code for the scraper can be found here if you have any more specific questions about data collection that I didn't address.  \n",
    "**UPDATE 11/24/2017** After feedback from users of the dataset I scraped the reviews again on November 22nd, 2017. This time around I collected the title of each review, which you can parse the year out of, the tasters name, and the taster's Twitter handle. This should also fix the duplicate entry issue.\n",
    "\n",
    "The data was acquired by web scraping, and then an updated version was scraped that removed some issues with the data. I guess that's what 'first' and 'v2' are referring to. \n",
    "\n",
    ">**Inspiration**  \n",
    "I think that this dataset offers some great opportunities for sentiment analysis and other text related predictive models. My overall goal is to create a model that can identify the variety, winery, and location of a wine based on a description. If anyone has any ideas, breakthroughs, or other interesting insights/models please post them.\n",
    "\n",
    "Yes. This is a worthy goal. \n",
    "\n",
    ">Numeric: unnamed, but functions as a count from 0 ID number  \n",
    "**String: country**  \n",
    "The country that the wine is from  \n",
    "**String: description**  \n",
    "A few sentences from a sommelier describing the wine's taste, smell, look, feel, etc.  \n",
    "**String: designation**  \n",
    "The vineyard within the winery where the grapes that made the wine are from  \n",
    "**Numeric: points**  \n",
    "The number of points WineEnthusiast rated the wine on a scale of 1-100 (though they say they only post reviews for wines that score >=80)  \n",
    "**Numeric: price**  \n",
    "The cost for a bottle of the wine  \n",
    "**String: province**  \n",
    "The province or state that the wine is from  \n",
    "**String: region_1**  \n",
    "The wine growing area in a province or state (ie Napa)  \n",
    "**String: region_2**  \n",
    "Sometimes there are more specific regions specified within a wine growing area (ie Rutherford inside the Napa Valley), but this value can sometimes be blank  \n",
    "**String: taster_name**  \n",
    "Name of the person who tasted and reviewed the wine  \n",
    "**String: taster_twitter_handle**  \n",
    "Twitter handle for the person who tasted and reviewed the wine  \n",
    "**String: title**  \n",
    "The title of the wine review, which often contains the vintage if you're interested in extracting that feature  \n",
    "**String: variety**  \n",
    "The type of grapes used to make the wine (ie Pinot Noir)  \n",
    "**String: winery**  \n",
    "The winery that made the wine  \n",
    "\n",
    "Useful data types and descriptions for the 14 columns. One of them is just an ID column, which I'll incorporate into the dataframe as the index upon loading. The rest are useful looking things, including a freeform text description, name, point score, price, location data, reviewer data (who wrote the description and gave the point score), some text data indicating it's name and year the grapes were picked, the variety of grapes, and the winery that produced the wine. \n",
    "\n",
    "Most significantly, above all previous wine-related datasets, these features (besides points and reviewer) are things I can actually find out by reading the label in the shop. This is probably the most useful wine related dataset so far (it's also by far the largest). \n",
    "\n",
    "The text data is all freeform and needs to be processed to make it usable. Some needs simple encoding, others require further processing to be useful. "
   ]
  },
  {
   "cell_type": "markdown",
   "metadata": {},
   "source": [
    "## Basics\n",
    "What does the data look like?  \n",
    "How much of it is there?  \n",
    "What type of data is it? "
   ]
  },
  {
   "cell_type": "code",
   "execution_count": 4,
   "metadata": {},
   "outputs": [
    {
     "data": {
      "text/html": [
       "<div>\n",
       "<style scoped>\n",
       "    .dataframe tbody tr th:only-of-type {\n",
       "        vertical-align: middle;\n",
       "    }\n",
       "\n",
       "    .dataframe tbody tr th {\n",
       "        vertical-align: top;\n",
       "    }\n",
       "\n",
       "    .dataframe thead th {\n",
       "        text-align: right;\n",
       "    }\n",
       "</style>\n",
       "<table border=\"1\" class=\"dataframe\">\n",
       "  <thead>\n",
       "    <tr style=\"text-align: right;\">\n",
       "      <th></th>\n",
       "      <th>country</th>\n",
       "      <th>description</th>\n",
       "      <th>designation</th>\n",
       "      <th>points</th>\n",
       "      <th>price</th>\n",
       "      <th>province</th>\n",
       "      <th>region_1</th>\n",
       "      <th>region_2</th>\n",
       "      <th>variety</th>\n",
       "      <th>winery</th>\n",
       "    </tr>\n",
       "  </thead>\n",
       "  <tbody>\n",
       "    <tr>\n",
       "      <th>31034</th>\n",
       "      <td>US</td>\n",
       "      <td>The aromas seem a bit muddled, with notes of j...</td>\n",
       "      <td>Colter's Creek Estate</td>\n",
       "      <td>84</td>\n",
       "      <td>10.0</td>\n",
       "      <td>Idaho</td>\n",
       "      <td>Idaho</td>\n",
       "      <td>NaN</td>\n",
       "      <td>Riesling</td>\n",
       "      <td>Colter's Creek</td>\n",
       "    </tr>\n",
       "    <tr>\n",
       "      <th>58</th>\n",
       "      <td>US</td>\n",
       "      <td>Cabernet makes up just over half of this blend...</td>\n",
       "      <td>Final Final</td>\n",
       "      <td>90</td>\n",
       "      <td>30.0</td>\n",
       "      <td>Washington</td>\n",
       "      <td>Columbia Valley (WA)</td>\n",
       "      <td>Columbia Valley</td>\n",
       "      <td>Cabernet Sauvignon-Syrah</td>\n",
       "      <td>Efeste</td>\n",
       "    </tr>\n",
       "    <tr>\n",
       "      <th>24657</th>\n",
       "      <td>Italy</td>\n",
       "      <td>Le Macchiole's Bolgheri Rosso blend (Merlot, C...</td>\n",
       "      <td>NaN</td>\n",
       "      <td>90</td>\n",
       "      <td>30.0</td>\n",
       "      <td>Tuscany</td>\n",
       "      <td>Bolgheri</td>\n",
       "      <td>NaN</td>\n",
       "      <td>Red Blend</td>\n",
       "      <td>Le Macchiole</td>\n",
       "    </tr>\n",
       "    <tr>\n",
       "      <th>139801</th>\n",
       "      <td>Italy</td>\n",
       "      <td>A special, gentle wine with caressing persiste...</td>\n",
       "      <td>NaN</td>\n",
       "      <td>92</td>\n",
       "      <td>60.0</td>\n",
       "      <td>Tuscany</td>\n",
       "      <td>Brunello di Montalcino</td>\n",
       "      <td>NaN</td>\n",
       "      <td>Sangiovese</td>\n",
       "      <td>Fornacina</td>\n",
       "    </tr>\n",
       "    <tr>\n",
       "      <th>1820</th>\n",
       "      <td>US</td>\n",
       "      <td>Winemaker Nick Goldschmidt does wonders with t...</td>\n",
       "      <td>Lone Tree Vineyard</td>\n",
       "      <td>90</td>\n",
       "      <td>50.0</td>\n",
       "      <td>California</td>\n",
       "      <td>Alexander Valley</td>\n",
       "      <td>Sonoma</td>\n",
       "      <td>Cabernet Sauvignon</td>\n",
       "      <td>Forefathers</td>\n",
       "    </tr>\n",
       "  </tbody>\n",
       "</table>\n",
       "</div>"
      ],
      "text/plain": [
       "       country                                        description  \\\n",
       "31034       US  The aromas seem a bit muddled, with notes of j...   \n",
       "58          US  Cabernet makes up just over half of this blend...   \n",
       "24657    Italy  Le Macchiole's Bolgheri Rosso blend (Merlot, C...   \n",
       "139801   Italy  A special, gentle wine with caressing persiste...   \n",
       "1820        US  Winemaker Nick Goldschmidt does wonders with t...   \n",
       "\n",
       "                  designation  points  price    province  \\\n",
       "31034   Colter's Creek Estate      84   10.0       Idaho   \n",
       "58                Final Final      90   30.0  Washington   \n",
       "24657                     NaN      90   30.0     Tuscany   \n",
       "139801                    NaN      92   60.0     Tuscany   \n",
       "1820       Lone Tree Vineyard      90   50.0  California   \n",
       "\n",
       "                      region_1         region_2                   variety  \\\n",
       "31034                    Idaho              NaN                  Riesling   \n",
       "58        Columbia Valley (WA)  Columbia Valley  Cabernet Sauvignon-Syrah   \n",
       "24657                 Bolgheri              NaN                 Red Blend   \n",
       "139801  Brunello di Montalcino              NaN                Sangiovese   \n",
       "1820          Alexander Valley           Sonoma        Cabernet Sauvignon   \n",
       "\n",
       "                winery  \n",
       "31034   Colter's Creek  \n",
       "58              Efeste  \n",
       "24657     Le Macchiole  \n",
       "139801       Fornacina  \n",
       "1820       Forefathers  "
      ]
     },
     "execution_count": 4,
     "metadata": {},
     "output_type": "execute_result"
    }
   ],
   "source": [
    "first_150k.sample(5, random_state=4)"
   ]
  },
  {
   "cell_type": "markdown",
   "metadata": {},
   "source": [
    "The first data collected has fewer columns, but is otherwise as described. Since I've already decided not to use the old data, and to work with the more recently collected data (that also has more features), I will not analyse this any further. "
   ]
  },
  {
   "cell_type": "code",
   "execution_count": 5,
   "metadata": {},
   "outputs": [
    {
     "data": {
      "text/html": [
       "<div>\n",
       "<style scoped>\n",
       "    .dataframe tbody tr th:only-of-type {\n",
       "        vertical-align: middle;\n",
       "    }\n",
       "\n",
       "    .dataframe tbody tr th {\n",
       "        vertical-align: top;\n",
       "    }\n",
       "\n",
       "    .dataframe thead th {\n",
       "        text-align: right;\n",
       "    }\n",
       "</style>\n",
       "<table border=\"1\" class=\"dataframe\">\n",
       "  <thead>\n",
       "    <tr style=\"text-align: right;\">\n",
       "      <th></th>\n",
       "      <th>country</th>\n",
       "      <th>description</th>\n",
       "      <th>designation</th>\n",
       "      <th>points</th>\n",
       "      <th>price</th>\n",
       "      <th>province</th>\n",
       "      <th>region_1</th>\n",
       "      <th>region_2</th>\n",
       "      <th>taster_name</th>\n",
       "      <th>taster_twitter_handle</th>\n",
       "      <th>title</th>\n",
       "      <th>variety</th>\n",
       "      <th>winery</th>\n",
       "    </tr>\n",
       "  </thead>\n",
       "  <tbody>\n",
       "    <tr>\n",
       "      <th>105424</th>\n",
       "      <td>France</td>\n",
       "      <td>Steinbach is a village at the extreme southern...</td>\n",
       "      <td>Steinbach</td>\n",
       "      <td>90</td>\n",
       "      <td>35.0</td>\n",
       "      <td>Alsace</td>\n",
       "      <td>Alsace</td>\n",
       "      <td>NaN</td>\n",
       "      <td>Roger Voss</td>\n",
       "      <td>@vossroger</td>\n",
       "      <td>Joseph Cattin 2010 Steinbach Pinot Noir (Alsace)</td>\n",
       "      <td>Pinot Noir</td>\n",
       "      <td>Joseph Cattin</td>\n",
       "    </tr>\n",
       "    <tr>\n",
       "      <th>30811</th>\n",
       "      <td>US</td>\n",
       "      <td>Salted lemon rinds, ice-cold apple, fresh-sque...</td>\n",
       "      <td>Bien Nacido Vineyard Block II Mount Eden Clone</td>\n",
       "      <td>92</td>\n",
       "      <td>46.0</td>\n",
       "      <td>California</td>\n",
       "      <td>Santa Maria Valley</td>\n",
       "      <td>Central Coast</td>\n",
       "      <td>Matt Kettmann</td>\n",
       "      <td>@mattkettmann</td>\n",
       "      <td>Scar of the Sea 2013 Bien Nacido Vineyard Bloc...</td>\n",
       "      <td>Chardonnay</td>\n",
       "      <td>Scar of the Sea</td>\n",
       "    </tr>\n",
       "    <tr>\n",
       "      <th>86983</th>\n",
       "      <td>Italy</td>\n",
       "      <td>Delicately scented, this offers subtle aromas ...</td>\n",
       "      <td>Occhi di Ciumi</td>\n",
       "      <td>89</td>\n",
       "      <td>20.0</td>\n",
       "      <td>Sicily &amp; Sardinia</td>\n",
       "      <td>Etna</td>\n",
       "      <td>NaN</td>\n",
       "      <td>Kerin O’Keefe</td>\n",
       "      <td>@kerinokeefe</td>\n",
       "      <td>Al-Cantàra 2015 Occhi di Ciumi  (Etna)</td>\n",
       "      <td>White Blend</td>\n",
       "      <td>Al-Cantàra</td>\n",
       "    </tr>\n",
       "    <tr>\n",
       "      <th>109619</th>\n",
       "      <td>US</td>\n",
       "      <td>As sweet as angel food cake, with sugary vanil...</td>\n",
       "      <td>NaN</td>\n",
       "      <td>82</td>\n",
       "      <td>14.0</td>\n",
       "      <td>California</td>\n",
       "      <td>Central Coast</td>\n",
       "      <td>Central Coast</td>\n",
       "      <td>NaN</td>\n",
       "      <td>NaN</td>\n",
       "      <td>Cupcake 2008 Chardonnay (Central Coast)</td>\n",
       "      <td>Chardonnay</td>\n",
       "      <td>Cupcake</td>\n",
       "    </tr>\n",
       "    <tr>\n",
       "      <th>98442</th>\n",
       "      <td>France</td>\n",
       "      <td>Very dense and firm, this has powerful tannins...</td>\n",
       "      <td>NaN</td>\n",
       "      <td>94</td>\n",
       "      <td>NaN</td>\n",
       "      <td>Bordeaux</td>\n",
       "      <td>Pessac-Léognan</td>\n",
       "      <td>NaN</td>\n",
       "      <td>Roger Voss</td>\n",
       "      <td>@vossroger</td>\n",
       "      <td>Château Smith Haut Lafitte 2009  Pessac-Léognan</td>\n",
       "      <td>Bordeaux-style Red Blend</td>\n",
       "      <td>Château Smith Haut Lafitte</td>\n",
       "    </tr>\n",
       "  </tbody>\n",
       "</table>\n",
       "</div>"
      ],
      "text/plain": [
       "       country                                        description  \\\n",
       "105424  France  Steinbach is a village at the extreme southern...   \n",
       "30811       US  Salted lemon rinds, ice-cold apple, fresh-sque...   \n",
       "86983    Italy  Delicately scented, this offers subtle aromas ...   \n",
       "109619      US  As sweet as angel food cake, with sugary vanil...   \n",
       "98442   France  Very dense and firm, this has powerful tannins...   \n",
       "\n",
       "                                           designation  points  price  \\\n",
       "105424                                       Steinbach      90   35.0   \n",
       "30811   Bien Nacido Vineyard Block II Mount Eden Clone      92   46.0   \n",
       "86983                                   Occhi di Ciumi      89   20.0   \n",
       "109619                                             NaN      82   14.0   \n",
       "98442                                              NaN      94    NaN   \n",
       "\n",
       "                 province            region_1       region_2    taster_name  \\\n",
       "105424             Alsace              Alsace            NaN     Roger Voss   \n",
       "30811          California  Santa Maria Valley  Central Coast  Matt Kettmann   \n",
       "86983   Sicily & Sardinia                Etna            NaN  Kerin O’Keefe   \n",
       "109619         California       Central Coast  Central Coast            NaN   \n",
       "98442            Bordeaux      Pessac-Léognan            NaN     Roger Voss   \n",
       "\n",
       "       taster_twitter_handle  \\\n",
       "105424            @vossroger   \n",
       "30811          @mattkettmann   \n",
       "86983           @kerinokeefe   \n",
       "109619                   NaN   \n",
       "98442             @vossroger   \n",
       "\n",
       "                                                    title  \\\n",
       "105424   Joseph Cattin 2010 Steinbach Pinot Noir (Alsace)   \n",
       "30811   Scar of the Sea 2013 Bien Nacido Vineyard Bloc...   \n",
       "86983              Al-Cantàra 2015 Occhi di Ciumi  (Etna)   \n",
       "109619            Cupcake 2008 Chardonnay (Central Coast)   \n",
       "98442     Château Smith Haut Lafitte 2009  Pessac-Léognan   \n",
       "\n",
       "                         variety                      winery  \n",
       "105424                Pinot Noir               Joseph Cattin  \n",
       "30811                 Chardonnay             Scar of the Sea  \n",
       "86983                White Blend                  Al-Cantàra  \n",
       "109619                Chardonnay                     Cupcake  \n",
       "98442   Bordeaux-style Red Blend  Château Smith Haut Lafitte  "
      ]
     },
     "execution_count": 5,
     "metadata": {},
     "output_type": "execute_result"
    }
   ],
   "source": [
    "data_csv.sample(5, random_state=4)"
   ]
  },
  {
   "cell_type": "markdown",
   "metadata": {},
   "source": [
    "The features all seem to be as described. Notably, the points are in integers and price is in decimals. Also, in this random sample of 5 rows I can already see seven data are missing. Much of the longer text data is inconsistent in structure, though all seem to have a year (vintage) which - if present in enough of them - could be useful for determining the age of the wine. Relevantly, the reviews were scraped on 22/02/2017. "
   ]
  },
  {
   "cell_type": "code",
   "execution_count": 6,
   "metadata": {},
   "outputs": [
    {
     "data": {
      "text/html": [
       "<div>\n",
       "<style scoped>\n",
       "    .dataframe tbody tr th:only-of-type {\n",
       "        vertical-align: middle;\n",
       "    }\n",
       "\n",
       "    .dataframe tbody tr th {\n",
       "        vertical-align: top;\n",
       "    }\n",
       "\n",
       "    .dataframe thead th {\n",
       "        text-align: right;\n",
       "    }\n",
       "</style>\n",
       "<table border=\"1\" class=\"dataframe\">\n",
       "  <thead>\n",
       "    <tr style=\"text-align: right;\">\n",
       "      <th></th>\n",
       "      <th>country</th>\n",
       "      <th>description</th>\n",
       "      <th>designation</th>\n",
       "      <th>points</th>\n",
       "      <th>price</th>\n",
       "      <th>province</th>\n",
       "      <th>region_1</th>\n",
       "      <th>region_2</th>\n",
       "      <th>taster_name</th>\n",
       "      <th>taster_twitter_handle</th>\n",
       "      <th>title</th>\n",
       "      <th>variety</th>\n",
       "      <th>winery</th>\n",
       "    </tr>\n",
       "  </thead>\n",
       "  <tbody>\n",
       "    <tr>\n",
       "      <th>105424</th>\n",
       "      <td>France</td>\n",
       "      <td>Steinbach is a village at the extreme southern...</td>\n",
       "      <td>Steinbach</td>\n",
       "      <td>90</td>\n",
       "      <td>35.0</td>\n",
       "      <td>Alsace</td>\n",
       "      <td>Alsace</td>\n",
       "      <td>None</td>\n",
       "      <td>Roger Voss</td>\n",
       "      <td>@vossroger</td>\n",
       "      <td>Joseph Cattin 2010 Steinbach Pinot Noir (Alsace)</td>\n",
       "      <td>Pinot Noir</td>\n",
       "      <td>Joseph Cattin</td>\n",
       "    </tr>\n",
       "    <tr>\n",
       "      <th>30811</th>\n",
       "      <td>US</td>\n",
       "      <td>Salted lemon rinds, ice-cold apple, fresh-sque...</td>\n",
       "      <td>Bien Nacido Vineyard Block II Mount Eden Clone</td>\n",
       "      <td>92</td>\n",
       "      <td>46.0</td>\n",
       "      <td>California</td>\n",
       "      <td>Santa Maria Valley</td>\n",
       "      <td>Central Coast</td>\n",
       "      <td>Matt Kettmann</td>\n",
       "      <td>@mattkettmann</td>\n",
       "      <td>Scar of the Sea 2013 Bien Nacido Vineyard Bloc...</td>\n",
       "      <td>Chardonnay</td>\n",
       "      <td>Scar of the Sea</td>\n",
       "    </tr>\n",
       "    <tr>\n",
       "      <th>86983</th>\n",
       "      <td>Italy</td>\n",
       "      <td>Delicately scented, this offers subtle aromas ...</td>\n",
       "      <td>Occhi di Ciumi</td>\n",
       "      <td>89</td>\n",
       "      <td>20.0</td>\n",
       "      <td>Sicily &amp; Sardinia</td>\n",
       "      <td>Etna</td>\n",
       "      <td>None</td>\n",
       "      <td>Kerin O’Keefe</td>\n",
       "      <td>@kerinokeefe</td>\n",
       "      <td>Al-Cantàra 2015 Occhi di Ciumi  (Etna)</td>\n",
       "      <td>White Blend</td>\n",
       "      <td>Al-Cantàra</td>\n",
       "    </tr>\n",
       "    <tr>\n",
       "      <th>109619</th>\n",
       "      <td>US</td>\n",
       "      <td>As sweet as angel food cake, with sugary vanil...</td>\n",
       "      <td>None</td>\n",
       "      <td>82</td>\n",
       "      <td>14.0</td>\n",
       "      <td>California</td>\n",
       "      <td>Central Coast</td>\n",
       "      <td>Central Coast</td>\n",
       "      <td>None</td>\n",
       "      <td>None</td>\n",
       "      <td>Cupcake 2008 Chardonnay (Central Coast)</td>\n",
       "      <td>Chardonnay</td>\n",
       "      <td>Cupcake</td>\n",
       "    </tr>\n",
       "    <tr>\n",
       "      <th>98442</th>\n",
       "      <td>France</td>\n",
       "      <td>Very dense and firm, this has powerful tannins...</td>\n",
       "      <td>None</td>\n",
       "      <td>94</td>\n",
       "      <td>NaN</td>\n",
       "      <td>Bordeaux</td>\n",
       "      <td>Pessac-Léognan</td>\n",
       "      <td>None</td>\n",
       "      <td>Roger Voss</td>\n",
       "      <td>@vossroger</td>\n",
       "      <td>Château Smith Haut Lafitte 2009  Pessac-Léognan</td>\n",
       "      <td>Bordeaux-style Red Blend</td>\n",
       "      <td>Château Smith Haut Lafitte</td>\n",
       "    </tr>\n",
       "  </tbody>\n",
       "</table>\n",
       "</div>"
      ],
      "text/plain": [
       "       country                                        description  \\\n",
       "105424  France  Steinbach is a village at the extreme southern...   \n",
       "30811       US  Salted lemon rinds, ice-cold apple, fresh-sque...   \n",
       "86983    Italy  Delicately scented, this offers subtle aromas ...   \n",
       "109619      US  As sweet as angel food cake, with sugary vanil...   \n",
       "98442   France  Very dense and firm, this has powerful tannins...   \n",
       "\n",
       "                                           designation  points  price  \\\n",
       "105424                                       Steinbach      90   35.0   \n",
       "30811   Bien Nacido Vineyard Block II Mount Eden Clone      92   46.0   \n",
       "86983                                   Occhi di Ciumi      89   20.0   \n",
       "109619                                            None      82   14.0   \n",
       "98442                                             None      94    NaN   \n",
       "\n",
       "                 province            region_1       region_2    taster_name  \\\n",
       "105424             Alsace              Alsace           None     Roger Voss   \n",
       "30811          California  Santa Maria Valley  Central Coast  Matt Kettmann   \n",
       "86983   Sicily & Sardinia                Etna           None  Kerin O’Keefe   \n",
       "109619         California       Central Coast  Central Coast           None   \n",
       "98442            Bordeaux      Pessac-Léognan           None     Roger Voss   \n",
       "\n",
       "       taster_twitter_handle  \\\n",
       "105424            @vossroger   \n",
       "30811          @mattkettmann   \n",
       "86983           @kerinokeefe   \n",
       "109619                  None   \n",
       "98442             @vossroger   \n",
       "\n",
       "                                                    title  \\\n",
       "105424   Joseph Cattin 2010 Steinbach Pinot Noir (Alsace)   \n",
       "30811   Scar of the Sea 2013 Bien Nacido Vineyard Bloc...   \n",
       "86983              Al-Cantàra 2015 Occhi di Ciumi  (Etna)   \n",
       "109619            Cupcake 2008 Chardonnay (Central Coast)   \n",
       "98442     Château Smith Haut Lafitte 2009  Pessac-Léognan   \n",
       "\n",
       "                         variety                      winery  \n",
       "105424                Pinot Noir               Joseph Cattin  \n",
       "30811                 Chardonnay             Scar of the Sea  \n",
       "86983                White Blend                  Al-Cantàra  \n",
       "109619                Chardonnay                     Cupcake  \n",
       "98442   Bordeaux-style Red Blend  Château Smith Haut Lafitte  "
      ]
     },
     "execution_count": 6,
     "metadata": {},
     "output_type": "execute_result"
    }
   ],
   "source": [
    "data_json.sample(5, random_state=4)"
   ]
  },
  {
   "cell_type": "markdown",
   "metadata": {},
   "source": [
    "Immediately, this data looks the same as `data_csv`, except that 'NaN' is replaced by 'None' in the cases of missing data. "
   ]
  },
  {
   "cell_type": "code",
   "execution_count": 7,
   "metadata": {},
   "outputs": [
    {
     "data": {
      "text/plain": [
       "True"
      ]
     },
     "execution_count": 7,
     "metadata": {},
     "output_type": "execute_result"
    }
   ],
   "source": [
    "data_json.equals(data_csv)"
   ]
  },
  {
   "cell_type": "markdown",
   "metadata": {},
   "source": [
    "They are exactly the same, and the 'NaN'-'None' difference is a formatting difference between csv and json data. I can safely disregard `data_json`. This leaves a single data file, in CSV format, left to continue with. "
   ]
  },
  {
   "cell_type": "code",
   "execution_count": 8,
   "metadata": {},
   "outputs": [
    {
     "data": {
      "text/plain": [
       "(129971, 13)"
      ]
     },
     "execution_count": 8,
     "metadata": {},
     "output_type": "execute_result"
    }
   ],
   "source": [
    "data_csv.shape"
   ]
  },
  {
   "cell_type": "markdown",
   "metadata": {},
   "source": [
    "With 13 features and 129,971 samples, there are 1,689,623 pices of data. \n",
    "- **country**: String. Nominal categorical. \n",
    "- **description**: String. Freeform text. \n",
    "- **designation**: String. Freeform text. \n",
    "- **points**: Numeric. Integer ratio. \n",
    "- **price**: Numeric. Continuous ratio. \n",
    "- **province**: String. Nominal categorical. \n",
    "- **region_1**: String. Nominal categorical. \n",
    "- **region_2**: String. Nominal categorical. \n",
    "- **taster_name**: String. Nominal categorical. \n",
    "- **taster_twitter_handle**: String. Nominal categorical. \n",
    "- **title**: String. Freeform text. Contains an integer interval datum that could be parsed. \n",
    "- **variety**: String. Nominal categorical. \n",
    "- **winery**: String. Nominal categorical. "
   ]
  },
  {
   "cell_type": "markdown",
   "metadata": {},
   "source": [
    "## Target variable\n",
    "Datatype?  \n",
    "Descriptive statistics?  \n",
    "Unbalanced? Does it need weighting?  \n",
    "Is it linearly separable?  \n",
    "What sorts of models can predict this?  \n",
    "\n",
    "The target variable is `points`. It's data type is integer ratio. "
   ]
  },
  {
   "cell_type": "code",
   "execution_count": 9,
   "metadata": {},
   "outputs": [
    {
     "data": {
      "text/plain": [
       "count    129971.000000\n",
       "mean         88.447138\n",
       "std           3.039730\n",
       "min          80.000000\n",
       "25%          86.000000\n",
       "50%          88.000000\n",
       "75%          91.000000\n",
       "max         100.000000\n",
       "Name: points, dtype: float64"
      ]
     },
     "execution_count": 9,
     "metadata": {},
     "output_type": "execute_result"
    }
   ],
   "source": [
    "# Descriptive statistics\n",
    "target_data.describe()"
   ]
  },
  {
   "cell_type": "markdown",
   "metadata": {},
   "source": [
    "There is no missing data in the target variable. There are also no scores below 80, which on a 0-100 score system would be farcical - I imagine the dataset was gathered explicitly excluding wines with point scores below that threshold? \n",
    "\n",
    "Having just read the code that scraped the website, I've found that it was hardcoded to scrape all the pages of reviews that were there at the time. I then went to the website itself; [ https://www.winemag.com/?s=&drink_type=wine&page=1&sort_by=rating&sort_dir=asc ], and discoverd that of 249,314 reiviews, only two were below 80. One is 22 points, and the other is 44 and marked as a duplicate. \n",
    "\n",
    "As I read further, I found this explanation of their ratings (table headers and formatting added by me): \n",
    "\n",
    ">| Score range | Quality | Description |\n",
    ">|---|---|---|\n",
    ">| 98–100 | Classic | The pinnacle of quality. |\n",
    ">| 94–97 | Superb | A great achievement. |\n",
    ">| 90–93 | Excellent | Highly recommended. |\n",
    ">| 87–89 | Very Good | Often good value; well recommended. |\n",
    ">| 83–86 | Good | Suitable for everyday consumption; often good value. |\n",
    ">| 80–82 | Acceptable | Can be employed in casual, less-critical circumstances. |\n",
    ">\n",
    ">Products deemed Unacceptable (receiving a rating below 80 points) are not reviewed.\n",
    "\n",
    "Which explains this completely. I don't know why the two sub-80 reviews aren't in this dataset, but they're clearly anomalies and I will discount them. "
   ]
  },
  {
   "cell_type": "code",
   "execution_count": 10,
   "metadata": {},
   "outputs": [
    {
     "data": {
      "image/png": "[encoded data removed]",
      "text/plain": [
       "<Figure size 1080x360 with 1 Axes>"
      ]
     },
     "metadata": {
      "needs_background": "light"
     },
     "output_type": "display_data"
    }
   ],
   "source": [
    "ax_1 = target_data.value_counts().sort_index().plot.bar(title='Number of wines achieving each score', figsize=(15,5));\n",
    "\n",
    "ax_1.set_xlabel('Point scores');\n",
    "ax_1.set_ylabel('Number of wines achieving each score');"
   ]
  },
  {
   "cell_type": "code",
   "execution_count": 11,
   "metadata": {},
   "outputs": [
    {
     "name": "stdout",
     "output_type": "stream",
     "text": [
      "Target data skewness: 0.04592022248056047\n",
      "Target data kurtosis: -0.29599796801102096\n"
     ]
    }
   ],
   "source": [
    "stats_describe_target = stats.describe(target_data)\n",
    "print('Target data skewness: {}'.format(stats_describe_target.skewness))\n",
    "print('Target data kurtosis: {}'.format(stats_describe_target.kurtosis))"
   ]
  },
  {
   "cell_type": "markdown",
   "metadata": {},
   "source": [
    "These skewness and kurtosis scores make sense, and the distribution of the target variable does look rather like a normal distribution, give or take. "
   ]
  },
  {
   "cell_type": "code",
   "execution_count": 12,
   "metadata": {},
   "outputs": [
    {
     "data": {
      "image/png": "[encoded data removed]",
      "text/plain": [
       "<Figure size 1080x360 with 1 Axes>"
      ]
     },
     "metadata": {
      "needs_background": "light"
     },
     "output_type": "display_data"
    }
   ],
   "source": [
    "ax_2 = target_data.plot.box(title='Plot of quartiles of target data', figsize=(15,5), vert=False, widths=0.5)\n",
    "\n",
    "ax_2.set_xticks(target_data.value_counts().sort_index().index);\n",
    "ax_2.set_xlabel('Point scores');"
   ]
  },
  {
   "cell_type": "markdown",
   "metadata": {},
   "source": [
    "This boxplot shows that despite the distribution being fairly normal, it does have outliers - fortunately it doesn't look like there are too many. Since they're everything above 98, I'll check how many there are: "
   ]
  },
  {
   "cell_type": "code",
   "execution_count": 13,
   "metadata": {},
   "outputs": [
    {
     "data": {
      "text/plain": [
       "52"
      ]
     },
     "execution_count": 13,
     "metadata": {},
     "output_type": "execute_result"
    }
   ],
   "source": [
    "target_data[target_data>98].size"
   ]
  },
  {
   "cell_type": "markdown",
   "metadata": {},
   "source": [
    "Apparently there are 52 suspected outliers in this dataset, which out of 129,971, isn't many. Unless there's a specific reason to remove them, I'll leave them in, and consider any further engineering of them when I have more context, if necessary. \n",
    "\n",
    "Seeing as how this data is integer ratio data, it is evidently linearly separable. I will consider using regression models to make predictive models for this. "
   ]
  },
  {
   "cell_type": "markdown",
   "metadata": {},
   "source": [
    "## Feature data\n",
    "### Numeric\n",
    "Independent or dependent?  \n",
    "What are the descriptive statistics of the data?  \n",
    "Is it sparse or dense?  \n",
    "How much of it is missing?  \n",
    "\n",
    "Some of the features are independent of each other, in so far as anything in the physical universe is independent of anything else, though several are not. taster_name and taster_twitter_handle, which seem to share some similarity, for obvious reasons. It is likely that one of these will be dropped before the analysis, because it's duplicate information. "
   ]
  },
  {
   "cell_type": "code",
   "execution_count": 14,
   "metadata": {},
   "outputs": [
    {
     "data": {
      "text/html": [
       "<div>\n",
       "<style scoped>\n",
       "    .dataframe tbody tr th:only-of-type {\n",
       "        vertical-align: middle;\n",
       "    }\n",
       "\n",
       "    .dataframe tbody tr th {\n",
       "        vertical-align: top;\n",
       "    }\n",
       "\n",
       "    .dataframe thead th {\n",
       "        text-align: right;\n",
       "    }\n",
       "</style>\n",
       "<table border=\"1\" class=\"dataframe\">\n",
       "  <thead>\n",
       "    <tr style=\"text-align: right;\">\n",
       "      <th></th>\n",
       "      <th>price</th>\n",
       "    </tr>\n",
       "  </thead>\n",
       "  <tbody>\n",
       "    <tr>\n",
       "      <th>count</th>\n",
       "      <td>120975.000000</td>\n",
       "    </tr>\n",
       "    <tr>\n",
       "      <th>mean</th>\n",
       "      <td>35.363389</td>\n",
       "    </tr>\n",
       "    <tr>\n",
       "      <th>std</th>\n",
       "      <td>41.022218</td>\n",
       "    </tr>\n",
       "    <tr>\n",
       "      <th>min</th>\n",
       "      <td>4.000000</td>\n",
       "    </tr>\n",
       "    <tr>\n",
       "      <th>25%</th>\n",
       "      <td>17.000000</td>\n",
       "    </tr>\n",
       "    <tr>\n",
       "      <th>50%</th>\n",
       "      <td>25.000000</td>\n",
       "    </tr>\n",
       "    <tr>\n",
       "      <th>75%</th>\n",
       "      <td>42.000000</td>\n",
       "    </tr>\n",
       "    <tr>\n",
       "      <th>max</th>\n",
       "      <td>3300.000000</td>\n",
       "    </tr>\n",
       "  </tbody>\n",
       "</table>\n",
       "</div>"
      ],
      "text/plain": [
       "               price\n",
       "count  120975.000000\n",
       "mean       35.363389\n",
       "std        41.022218\n",
       "min         4.000000\n",
       "25%        17.000000\n",
       "50%        25.000000\n",
       "75%        42.000000\n",
       "max      3300.000000"
      ]
     },
     "execution_count": 14,
     "metadata": {},
     "output_type": "execute_result"
    }
   ],
   "source": [
    "feature_data.describe()"
   ]
  },
  {
   "cell_type": "markdown",
   "metadata": {},
   "source": [
    "Since price is the only numerical feature variable, `pd.describe()` has limited use.  \n",
    "That said, looking at this shows some interesting things: the standard deviation is larger than the mean for a continuous ratio variable, and three percentiles, as well as the standard deviation and the mean, are all two orders of magnitude smaller than the max value. I'd like to see what a boxplot labels as suspected outliers: "
   ]
  },
  {
   "cell_type": "code",
   "execution_count": 15,
   "metadata": {},
   "outputs": [
    {
     "data": {
      "image/png": "[encoded data removed]",
      "text/plain": [
       "<Figure size 1080x360 with 1 Axes>"
      ]
     },
     "metadata": {
      "needs_background": "light"
     },
     "output_type": "display_data"
    }
   ],
   "source": [
    "ax_3 = feature_data.price.plot.box(x='price', figsize=(15,5), vert=False, widths=0.5, title='Boxplot of price target feature');\n",
    "\n",
    "ax_3.set_xlabel('Price');"
   ]
  },
  {
   "cell_type": "code",
   "execution_count": 16,
   "metadata": {},
   "outputs": [
    {
     "data": {
      "image/png": "[encoded data removed]",
      "text/plain": [
       "<Figure size 1080x360 with 1 Axes>"
      ]
     },
     "metadata": {
      "needs_background": "light"
     },
     "output_type": "display_data"
    }
   ],
   "source": [
    "ax_4 = feature_data[feature_data.price<100].price.plot.box(x='price', figsize=(15,5), vert=False, widths=0.5, title='Boxplot of prices below 100');\n",
    "\n",
    "ax_4.set_xlabel('Price');"
   ]
  },
  {
   "cell_type": "markdown",
   "metadata": {},
   "source": [
    "That's a huge part of the range that's outlier territory, from 72 to 3000+. "
   ]
  },
  {
   "cell_type": "code",
   "execution_count": 17,
   "metadata": {},
   "outputs": [
    {
     "data": {
      "text/plain": [
       "(9284, 12)"
      ]
     },
     "execution_count": 17,
     "metadata": {},
     "output_type": "execute_result"
    }
   ],
   "source": [
    "feature_data[feature_data.price>=72].shape"
   ]
  },
  {
   "cell_type": "markdown",
   "metadata": {},
   "source": [
    "9284/129971=0.07, which make 7% of the price feature outliers. That's a large amount. \n",
    "\n",
    "Now that I've had a cursory look at the only numeric feature variable available, I'll take a wider look at the rest of the feature variables. "
   ]
  },
  {
   "cell_type": "code",
   "execution_count": 18,
   "metadata": {},
   "outputs": [
    {
     "name": "stdout",
     "output_type": "stream",
     "text": [
      "<class 'pandas.core.frame.DataFrame'>\n",
      "Int64Index: 129971 entries, 0 to 129970\n",
      "Data columns (total 12 columns):\n",
      "country                  129908 non-null object\n",
      "description              129971 non-null object\n",
      "designation              92506 non-null object\n",
      "price                    120975 non-null float64\n",
      "province                 129908 non-null object\n",
      "region_1                 108724 non-null object\n",
      "region_2                 50511 non-null object\n",
      "taster_name              103727 non-null object\n",
      "taster_twitter_handle    98758 non-null object\n",
      "title                    129971 non-null object\n",
      "variety                  129970 non-null object\n",
      "winery                   129971 non-null object\n",
      "dtypes: float64(1), object(11)\n",
      "memory usage: 12.9+ MB\n"
     ]
    }
   ],
   "source": [
    "feature_data.info()"
   ]
  },
  {
   "cell_type": "markdown",
   "metadata": {},
   "source": [
    "Of the features; \n",
    "- country\n",
    "- description\n",
    "- province\n",
    "- title\n",
    "- variety\n",
    "- winery \n",
    "\n",
    "appear to be mostly non-null data, whereas; \n",
    "- designation\n",
    "- price\n",
    "- region_1\n",
    "- taster_name\n",
    "\n",
    "have what could be a usable amount of data present, but;\n",
    "- designation\n",
    "- region_2\n",
    "- taster_twitter_handle\n",
    "\n",
    "have more than 30,000 missing data points, and that's a lot of data to have to delete or usefully interpolate. \n",
    "\n",
    "On the upside, as it stands this isn't a sparse dataset. On the downside, as it stands most (10 out of 11) of the features require transformation of some form or another beyond straightforward standardisation. \n",
    "\n",
    "Given that some exclusionary choices might have to be made, it would be helpful to know about the variety of different values for the (straightforwardly, at least) categorical features. "
   ]
  },
  {
   "cell_type": "code",
   "execution_count": 19,
   "metadata": {},
   "outputs": [
    {
     "data": {
      "text/plain": [
       "country                     43\n",
       "province                   425\n",
       "region_1                  1229\n",
       "region_2                    17\n",
       "taster_name                 19\n",
       "taster_twitter_handle       15\n",
       "variety                    707\n",
       "winery                   16757\n",
       "dtype: int64"
      ]
     },
     "execution_count": 19,
     "metadata": {},
     "output_type": "execute_result"
    }
   ],
   "source": [
    "categorical_features = 'country', 'province', 'region_1', 'region_2', 'taster_name', 'taster_twitter_handle', 'variety', 'winery'\n",
    "raw_cat_features = feature_data.loc[:, categorical_features]\n",
    "raw_cat_features.T.apply(lambda x: x.nunique(), axis=1).sort_index()"
   ]
  },
  {
   "cell_type": "markdown",
   "metadata": {},
   "source": [
    "Putting that next to some other numbers that describe how much of it is there: \n",
    "\n",
    "|Feature|Non-null|Null|Percentage null|Count of unique values|\n",
    "|---|---|---|---|---|\n",
    "|country|129,908|63|0.05%|43|\n",
    "|province|129,908|63|0.05%|425|\n",
    "|region_1|108,724|21,247|16.35%|1229|\n",
    "|region_2|50,511|79,460|61.14%|17|\n",
    "|taster_name|103,727|26,244|20.19%|19|\n",
    "|taster_twitter_handle|98,758|31,213|24.02%|15|\n",
    "|variety|129,970|1|0.00%|707|\n",
    "|winery|129,971|0|0.00%|16757|"
   ]
  },
  {
   "cell_type": "markdown",
   "metadata": {},
   "source": [
    "'Common wisdom' suggests that features with more than somewhere in the range of 25-30% missing data should be discarded, and those with less should be considered for imputation or setting nulls to zero. In this case that would include region_2 and no others by default, though given how much is missing from taster_twitter_handle and how much of a duplicate it is of taster_name, I would consider removing it as well. "
   ]
  },
  {
   "cell_type": "code",
   "execution_count": 20,
   "metadata": {},
   "outputs": [
    {
     "name": "stdout",
     "output_type": "stream",
     "text": [
      "Number of rows with no null values: 32413\n"
     ]
    }
   ],
   "source": [
    "df_non_null = raw_cat_features.dropna(subset=categorical_features, axis='index', how='any')\n",
    "print('Number of rows with no null values: {}'.format(df_non_null.shape[0]))"
   ]
  },
  {
   "cell_type": "markdown",
   "metadata": {},
   "source": [
    "Removing ~100,000 rows (75%) from the dataset is too much. If I only consider the more populous columns, however: "
   ]
  },
  {
   "cell_type": "code",
   "execution_count": 21,
   "metadata": {},
   "outputs": [
    {
     "name": "stdout",
     "output_type": "stream",
     "text": [
      "Number of rows left with no null values after dropping region_2 and taster_twitter_handle: 82847\n"
     ]
    }
   ],
   "source": [
    "df_non_null_subset = raw_cat_features.dropna(subset=['country', 'province', 'region_1', 'taster_name', 'variety', 'winery'], axis='index', how='any')\n",
    "print('Number of rows left with no null values after dropping region_2 and taster_twitter_handle: {}'.format(df_non_null_subset.shape[0]))"
   ]
  },
  {
   "cell_type": "markdown",
   "metadata": {},
   "source": [
    "Removing 47,124 rows (36%) of the rows is less extreme, but I'd still rather not throw away a third of the data. Imputation it is. \n",
    "\n",
    "A relevant and meaningful question to consider before/along side this sort of decision is how to represent the data that I'm considering imputing? Most of it's text, which means categorical, and it's representation affects both the outcome of an analysis and how it is imputed - are countries represented as a single feature and each country is a different integer? How does this implicitly ordered definition interact with model learning? Should they be represented with a new feature for each country, and that is defined by a 0/1? Will imputations try to make wines have more than one country? Will it add so many new features as to cast the curse of dimensionality? \n",
    "\n",
    "Another relevant question to ask, is what happens if I just remove the features with the missing data? Will I really miss out on all tha tmuch if I drop 'region_2' and 'taster_twitter_handle'? Perhaps I will not. \n",
    "\n",
    "What I will do is take a quicker and easier approach, and if that doesn't get me what I want, then I'll revisit it.  \n",
    "For now though, I'll carry on with exploring the features. \n",
    "\n",
    "### Graphical"
   ]
  },
  {
   "cell_type": "code",
   "execution_count": 22,
   "metadata": {},
   "outputs": [
    {
     "data": {
      "image/png": "[encoded data removed]",
      "text/plain": [
       "<Figure size 864x576 with 1 Axes>"
      ]
     },
     "metadata": {
      "needs_background": "light"
     },
     "output_type": "display_data"
    }
   ],
   "source": [
    "ax_5 = feature_data.country.value_counts().plot.bar(title='country Value Counts Bar Chart', figsize=(12,8));\n",
    "\n",
    "ax_5.set_xlabel('Countries');\n",
    "ax_5.set_ylabel('Number of wines from country');"
   ]
  },
  {
   "cell_type": "code",
   "execution_count": 23,
   "metadata": {},
   "outputs": [
    {
     "data": {
      "text/plain": [
       "Macedonia                 12\n",
       "Cyprus                    11\n",
       "India                      9\n",
       "Switzerland                7\n",
       "Luxembourg                 6\n",
       "Armenia                    2\n",
       "Bosnia and Herzegovina     2\n",
       "Egypt                      1\n",
       "Slovakia                   1\n",
       "China                      1\n",
       "Name: country, dtype: int64"
      ]
     },
     "execution_count": 23,
     "metadata": {},
     "output_type": "execute_result"
    }
   ],
   "source": [
    "feature_data.country.value_counts().tail(10)"
   ]
  },
  {
   "cell_type": "markdown",
   "metadata": {},
   "source": [
    "The US has a huge lead over the others in the number of wines, and this could dilue the usefulness of it as a predictor. Also, the last three countries have only one wine, which makes them not only hugely biased as predictor values, but also useless for testing - if they're trained on, they aren't in the test set, and if they're in the test set, they can't be trained on. "
   ]
  },
  {
   "cell_type": "code",
   "execution_count": 24,
   "metadata": {},
   "outputs": [
    {
     "data": {
      "text/plain": [
       "California                   36247\n",
       "Washington                    8639\n",
       "Bordeaux                      5941\n",
       "Tuscany                       5897\n",
       "Oregon                        5373\n",
       "Burgundy                      3980\n",
       "Northern Spain                3851\n",
       "Piedmont                      3729\n",
       "Mendoza Province              3264\n",
       "Veneto                        2716\n",
       "New York                      2688\n",
       "Alsace                        2440\n",
       "Northeastern Italy            2138\n",
       "Loire Valley                  1856\n",
       "Sicily & Sardinia             1797\n",
       "Champagne                     1613\n",
       "Southwest France              1503\n",
       "Southern Italy                1349\n",
       "South Australia               1349\n",
       "Provence                      1346\n",
       "Douro                         1281\n",
       "Central Italy                 1233\n",
       "Catalonia                     1164\n",
       "Rhône Valley                  1081\n",
       "Beaujolais                    1044\n",
       "Mosel                         1039\n",
       "Alentejano                     937\n",
       "Colchagua Valley               830\n",
       "Marlborough                    798\n",
       "Virginia                       777\n",
       "                             ...  \n",
       "Slovenska Istra                  1\n",
       "Muscat of Kefallonian            1\n",
       "Kentucky                         1\n",
       "Vinho da Mesa                    1\n",
       "Messinia                         1\n",
       "Krk                              1\n",
       "Neuchâtel                        1\n",
       "Mavrodaphne de Cephalonie        1\n",
       "Dingač                           1\n",
       "Hrvatsko Primorje                1\n",
       "Casablanca-Curicó Valley         1\n",
       "Table wine                       1\n",
       "Dolenjska                        1\n",
       "Canada Other                     1\n",
       "Imathia                          1\n",
       "Piekenierskloof                  1\n",
       "Ticino                           1\n",
       "Rhode Island                     1\n",
       "Muscat of Patras                 1\n",
       "Urla-Thrace                      1\n",
       "Serra do Sudeste                 1\n",
       "Lesbos                           1\n",
       "Middle and South Dalmatia        1\n",
       "Dalmatian Coast                  1\n",
       "Vlootenburg                      1\n",
       "Gladstone                        1\n",
       "Beotia                           1\n",
       "Lemesos                          1\n",
       "Alenteo                          1\n",
       "Kathikas                         1\n",
       "Name: province, Length: 425, dtype: int64"
      ]
     },
     "execution_count": 24,
     "metadata": {},
     "output_type": "execute_result"
    }
   ],
   "source": [
    "feature_data.province.value_counts()"
   ]
  },
  {
   "cell_type": "markdown",
   "metadata": {},
   "source": [
    "Well, obviously that can't be converted into 425 binary features. Also obvious: if California were listed as it's own country, it would be the largest wine producing country in the world. It produces more wine than any other actual country, and more than the rest of the USA put together. \n",
    "\n",
    "There are 54 provinces with only one wine, and 200 with less than or equal to ten wines. This will introduce the problem of imbalanced representation - a province with only one example will obviously introduce bias around that instance of that feature, and a province with 36,247 examples (~28% of the entire dataset) will both be heavily over represented, and possibly useless - unless all wines from California are somehow uniformally better or worse because of being from California, then it'll be useless because of it's commonness. If it does carry meaning, it may be because it _isn't_ another province, or because of how it can interact with other variables - which is only going to show up in more complex models. "
   ]
  },
  {
   "cell_type": "code",
   "execution_count": 25,
   "metadata": {},
   "outputs": [],
   "source": [
    "province_value_counts = feature_data.province.value_counts().value_counts().sort_index()"
   ]
  },
  {
   "cell_type": "code",
   "execution_count": 26,
   "metadata": {},
   "outputs": [
    {
     "name": "stdout",
     "output_type": "stream",
     "text": [
      "Number of provinces with that number of wines, where the value is the number of wines and the index is the number of provinces with that number of wines grown there.\n",
      "\n",
      "Number of different values: 143\n",
      "\n",
      "Head: \n",
      "1     54\n",
      "2     36\n",
      "3     35\n",
      "4     17\n",
      "5     15\n",
      "6     11\n",
      "7     10\n",
      "8      9\n",
      "9      9\n",
      "10     4\n",
      "Name: province, dtype: int64\n",
      "\n",
      "Tail: \n",
      "2716     1\n",
      "3264     1\n",
      "3729     1\n",
      "3851     1\n",
      "3980     1\n",
      "5373     1\n",
      "5897     1\n",
      "5941     1\n",
      "8639     1\n",
      "36247    1\n",
      "Name: province, dtype: int64\n"
     ]
    }
   ],
   "source": [
    "print('Number of provinces with that number of wines, where the value is the number of wines and the index is the number of provinces with that number of wines grown there.\\n')\n",
    "print('Number of different values: {}'.format(len(province_value_counts)))\n",
    "print('\\nHead: \\n{}'.format(province_value_counts.head(10)))\n",
    "print('\\nTail: \\n{}'.format(province_value_counts.tail(10)))"
   ]
  },
  {
   "cell_type": "code",
   "execution_count": 27,
   "metadata": {},
   "outputs": [
    {
     "data": {
      "image/png": "[encoded data removed]",
      "text/plain": [
       "<Figure size 1080x360 with 1 Axes>"
      ]
     },
     "metadata": {
      "needs_background": "light"
     },
     "output_type": "display_data"
    }
   ],
   "source": [
    "ax_6 = province_value_counts.plot.line(title='province Value Counts Line Chart', figsize=(15,5));\n",
    "\n",
    "ax_6.set_xlabel('Number of wines being grown in a province');\n",
    "ax_6.set_ylabel('Number of provinces with that number of wines grown there');"
   ]
  },
  {
   "cell_type": "markdown",
   "metadata": {},
   "source": [
    "Clearly, most provinces listed in this dataset only have one corresponding wine. Given the nature of the dataset as one which consists only of good wines collated from around the world that is run from the USA, it is unsurprising that there would be more North American wines, and it also makes sense that since California is much larger than Ticino, it would make more wines that were good. However, the incredible imbalance towards american wines isn't something to blindly ignore. \n",
    "\n",
    "For the purposes of this project though, I only care about being able to identify decent wine in a shop based on features I can actually determine from the bottle with little effort (i.e. reading the label). So what if I end up drinking more Californian wine than Swiss wine? The objective has nothing to do with that. "
   ]
  },
  {
   "cell_type": "code",
   "execution_count": 28,
   "metadata": {},
   "outputs": [],
   "source": [
    "region_1_value_counts = feature_data.region_1.value_counts()"
   ]
  },
  {
   "cell_type": "code",
   "execution_count": 29,
   "metadata": {},
   "outputs": [
    {
     "data": {
      "text/plain": [
       "Napa Valley                    4480\n",
       "Columbia Valley (WA)           4124\n",
       "Russian River Valley           3091\n",
       "California                     2629\n",
       "Paso Robles                    2350\n",
       "Willamette Valley              2301\n",
       "Mendoza                        2301\n",
       "Alsace                         2163\n",
       "Champagne                      1613\n",
       "Barolo                         1599\n",
       "Finger Lakes                   1565\n",
       "Sonoma Coast                   1474\n",
       "Brunello di Montalcino         1470\n",
       "Rioja                          1469\n",
       "Sonoma County                  1246\n",
       "Toscana                        1197\n",
       "Walla Walla Valley (WA)        1066\n",
       "Chianti Classico               1062\n",
       "Santa Barbara County           1000\n",
       "Carneros                        999\n",
       "Yakima Valley                   997\n",
       "Sta. Rita Hills                 975\n",
       "Dry Creek Valley                939\n",
       "Sicilia                         925\n",
       "Côtes de Provence               859\n",
       "Santa Ynez Valley               812\n",
       "Santa Lucia Highlands           806\n",
       "Lodi                            803\n",
       "Barbaresco                      794\n",
       "Alexander Valley                784\n",
       "                               ... \n",
       "Toledo                            1\n",
       "Mâcon-Pierreclos                  1\n",
       "Vin de Pays de Montferrand        1\n",
       "Napa County-Lake County           1\n",
       "Coteaux d'Ancenis                 1\n",
       "Sonoma-Mendocino                  1\n",
       "Henty                             1\n",
       "Côtes de Saint-Mont               1\n",
       "Squinzano                         1\n",
       "Kentucky                          1\n",
       "Château-Chalon                    1\n",
       "Vallée du Paradis                 1\n",
       "Canada                            1\n",
       "Coteaux du Lyonnais               1\n",
       "Dolcetto d'Alba Superiore         1\n",
       "Loazzolo                          1\n",
       "Apremont                          1\n",
       "Vin Pétillant                     1\n",
       "Monterey County-Napa County       1\n",
       "Mendocino-Amador                  1\n",
       "Trentino Superiore                1\n",
       "Saint-Chinian-Roquebrun           1\n",
       "Tehama County                     1\n",
       "Clare Valley-Eden Valley          1\n",
       "San Martino della Battaglia       1\n",
       "Benaco Bresciano                  1\n",
       "Burgundy                          1\n",
       "Chignin-Bergeron                  1\n",
       "Colline Lucchesi                  1\n",
       "Tarantino                         1\n",
       "Name: region_1, Length: 1229, dtype: int64"
      ]
     },
     "execution_count": 29,
     "metadata": {},
     "output_type": "execute_result"
    }
   ],
   "source": [
    "region_1_value_counts"
   ]
  },
  {
   "cell_type": "code",
   "execution_count": 30,
   "metadata": {},
   "outputs": [
    {
     "data": {
      "image/png": "[encoded data removed]",
      "text/plain": [
       "<Figure size 1080x360 with 1 Axes>"
      ]
     },
     "metadata": {
      "needs_background": "light"
     },
     "output_type": "display_data"
    }
   ],
   "source": [
    "ax_7 = region_1_value_counts.plot.box(title='region_1 Value Counts Boxplot', figsize=(15,5), vert=False, widths=0.5)\n",
    "\n",
    "ax_7.set_xticks([0, 100, 200, 300, 1000, 2000, 3000, 4000, 5000]);\n",
    "ax_7.set_xticklabels([0, 100, 200, 300, 1000, 2000, 3000, 4000, 5000], rotation=90);\n",
    "ax_7.set_xlabel('Number of wines from a region');"
   ]
  },
  {
   "cell_type": "markdown",
   "metadata": {},
   "source": [
    "This shows that the same imbalance that was present in province is present in region_1. I think it will continue to be present in most if not all of the geospatial features of this dataset. \n",
    "\n",
    "This boxplot is covered in outliers, and playing around with the graph's widths parameter I found that they start around 125. Running with that for now, I'll find out how much of this feature is made up of outliers. "
   ]
  },
  {
   "cell_type": "code",
   "execution_count": 31,
   "metadata": {},
   "outputs": [
    {
     "name": "stdout",
     "output_type": "stream",
     "text": [
      "region_1 value counts <= 125: 1059, 86.17%.\n",
      "region_1 value counts >  125: 170, 13.83%.\n"
     ]
    }
   ],
   "source": [
    "less_than_125 = len(region_1_value_counts[region_1_value_counts<=125])\n",
    "greater_than_125 = len(region_1_value_counts[region_1_value_counts>125])\n",
    "total_region_1_value_counts = len(region_1_value_counts)\n",
    "\n",
    "print('region_1 value counts <= 125: {}, {}%.'.format(less_than_125, '{:.2f}'.format((less_than_125/total_region_1_value_counts)*100)))\n",
    "print('region_1 value counts >  125: {}, {}%.'.format(greater_than_125, '{:.2f}'.format((greater_than_125/total_region_1_value_counts)*100)))"
   ]
  },
  {
   "cell_type": "markdown",
   "metadata": {},
   "source": [
    "So, ~14% of unique region_1 values are outliers, which isn't the end of the world. Just to get another view on this, I'll display it in terms of area under a line. \n",
    "\n",
    "Now I want to see how steep the curve is on a graph showing how many regions have each number of wines is. "
   ]
  },
  {
   "cell_type": "code",
   "execution_count": 32,
   "metadata": {},
   "outputs": [
    {
     "data": {
      "image/png": "[encoded data removed]",
      "text/plain": [
       "<Figure size 1080x360 with 1 Axes>"
      ]
     },
     "metadata": {
      "needs_background": "light"
     },
     "output_type": "display_data"
    }
   ],
   "source": [
    "ax_8 = region_1_value_counts.value_counts().sort_index().plot.line(title='region_1 Value Counts Line Chart', figsize=(15,5))\n",
    "\n",
    "ax_8.set_xticks([0, 100, 200, 300, 1000, 2000, 3000, 4000, 5000]);\n",
    "ax_8.set_xticklabels([0, 100, 200, 300, 1000, 2000, 3000, 4000, 5000], rotation=90);\n",
    "ax_8.set_xlabel('Number of wines in a region');\n",
    "ax_8.set_ylabel('Number of regions with that many wines');"
   ]
  },
  {
   "cell_type": "markdown",
   "metadata": {},
   "source": [
    "That's a very steep curve, and some extreme right skew. Given that this is a categorical variable, there isn't a lot I can do directly (like standardisation of numerical features). I can't find any reason to discard this feature. "
   ]
  },
  {
   "cell_type": "code",
   "execution_count": 33,
   "metadata": {},
   "outputs": [],
   "source": [
    "region_2_value_counts = feature_data.region_2.value_counts()"
   ]
  },
  {
   "cell_type": "code",
   "execution_count": 34,
   "metadata": {},
   "outputs": [
    {
     "data": {
      "text/plain": [
       "Central Coast        11065\n",
       "Sonoma                9028\n",
       "Columbia Valley       8103\n",
       "Napa                  6814\n",
       "Willamette Valley     3423\n",
       "California Other      2663\n",
       "Finger Lakes          1777\n",
       "Sierra Foothills      1462\n",
       "Napa-Sonoma           1169\n",
       "Central Valley        1062\n",
       "Southern Oregon        917\n",
       "Oregon Other           727\n",
       "Long Island            680\n",
       "North Coast            584\n",
       "Washington Other       534\n",
       "South Coast            272\n",
       "New York Other         231\n",
       "Name: region_2, dtype: int64"
      ]
     },
     "execution_count": 34,
     "metadata": {},
     "output_type": "execute_result"
    }
   ],
   "source": [
    "region_2_value_counts"
   ]
  },
  {
   "cell_type": "markdown",
   "metadata": {},
   "source": [
    "That is a _lot_ less variation. It also looks like just a lot less in general, which makes sense because ~61% of it's missing. That, combined with already having a location related feature that is has far fewer missing data and is more specific, immediately inclines me to discard this feature altogether. First, though, I should at least take a look. "
   ]
  },
  {
   "cell_type": "code",
   "execution_count": 35,
   "metadata": {},
   "outputs": [
    {
     "data": {
      "image/png": "[encoded data removed]",
      "text/plain": [
       "<Figure size 1080x360 with 1 Axes>"
      ]
     },
     "metadata": {
      "needs_background": "light"
     },
     "output_type": "display_data"
    }
   ],
   "source": [
    "ax_9 = region_2_value_counts.plot.bar(title='region_2 Value Counts Bar Chart', figsize=(15,5));\n",
    "\n",
    "ax_9.set_xlabel('region_2');\n",
    "ax_9.set_ylabel('Number of wines from region');"
   ]
  },
  {
   "cell_type": "markdown",
   "metadata": {},
   "source": [
    "It has just occured to me to check the number of unique combinations of region_1 and region_2 (where region_2 is not null) is equal to the number of unique region_1 samples (where region_2 is not null). "
   ]
  },
  {
   "cell_type": "code",
   "execution_count": 36,
   "metadata": {},
   "outputs": [
    {
     "name": "stdout",
     "output_type": "stream",
     "text": [
      "(202, 2)\n",
      "(203, 3)\n"
     ]
    }
   ],
   "source": [
    "non_null_region_2_feature_data = feature_data.dropna(subset=['region_2'], axis='index', how='any')\n",
    "region_1_unique_where_region_2_non_null = non_null_region_2_feature_data.groupby(['region_1']).size().reset_index().rename(columns={0:'count'})\n",
    "region_1_and_2_unique_where_region_2_non_null = non_null_region_2_feature_data.groupby(['region_1', 'region_2']).size().reset_index().rename(columns={0:'count'})\n",
    "print(region_1_unique_where_region_2_non_null.shape)\n",
    "print(region_1_and_2_unique_where_region_2_non_null.shape)"
   ]
  },
  {
   "cell_type": "markdown",
   "metadata": {},
   "source": [
    "Two things that have just come to my attention; \n",
    "1. Those are different numbers, and I'll find out why next. \n",
    "2. region_2 has value anyway, and it's null instances can just be set as 0 to make it easier for the algorithm to ignore it when it's missing. "
   ]
  },
  {
   "cell_type": "code",
   "execution_count": 37,
   "metadata": {},
   "outputs": [
    {
     "data": {
      "text/html": [
       "<div>\n",
       "<style scoped>\n",
       "    .dataframe tbody tr th:only-of-type {\n",
       "        vertical-align: middle;\n",
       "    }\n",
       "\n",
       "    .dataframe tbody tr th {\n",
       "        vertical-align: top;\n",
       "    }\n",
       "\n",
       "    .dataframe thead th {\n",
       "        text-align: right;\n",
       "    }\n",
       "</style>\n",
       "<table border=\"1\" class=\"dataframe\">\n",
       "  <thead>\n",
       "    <tr style=\"text-align: right;\">\n",
       "      <th></th>\n",
       "      <th>region_1</th>\n",
       "      <th>region_2</th>\n",
       "      <th>count</th>\n",
       "    </tr>\n",
       "  </thead>\n",
       "  <tbody>\n",
       "    <tr>\n",
       "      <th>102</th>\n",
       "      <td>Napa-Sonoma</td>\n",
       "      <td>Napa-Sonoma</td>\n",
       "      <td>18</td>\n",
       "    </tr>\n",
       "    <tr>\n",
       "      <th>103</th>\n",
       "      <td>Napa-Sonoma</td>\n",
       "      <td>North Coast</td>\n",
       "      <td>1</td>\n",
       "    </tr>\n",
       "  </tbody>\n",
       "</table>\n",
       "</div>"
      ],
      "text/plain": [
       "        region_1     region_2  count\n",
       "102  Napa-Sonoma  Napa-Sonoma     18\n",
       "103  Napa-Sonoma  North Coast      1"
      ]
     },
     "execution_count": 37,
     "metadata": {},
     "output_type": "execute_result"
    }
   ],
   "source": [
    "# I'm leaving this in because I used it, but I'm commenting it out because it's a huge and otherwise useless printout. \n",
    "# unique_regions = pd.DataFrame([region_1_unique_where_region_2_non_null.region_1, region_1_and_2_unique_where_region_2_non_null.region_1])\n",
    "# with pd.option_context('display.max_rows', None, 'display.max_columns', None):\n",
    "#     print(unique_regions)\n",
    "\n",
    "# Napa-Sonoma\n",
    "region_1_and_2_unique_where_region_2_non_null[region_1_and_2_unique_where_region_2_non_null.region_1=='Napa-Sonoma']"
   ]
  },
  {
   "cell_type": "markdown",
   "metadata": {},
   "source": [
    "Given that both 'Napa-Sonoma' and 'North Coast' are both used as values for region_2 by many other data samples, I'll leave this as is and retain the information. "
   ]
  },
  {
   "cell_type": "code",
   "execution_count": 38,
   "metadata": {},
   "outputs": [],
   "source": [
    "taster_name_value_counts = feature_data.taster_name.value_counts()"
   ]
  },
  {
   "cell_type": "code",
   "execution_count": 39,
   "metadata": {},
   "outputs": [
    {
     "data": {
      "text/plain": [
       "Roger Voss            25514\n",
       "Michael Schachner     15134\n",
       "Kerin O’Keefe         10776\n",
       "Virginie Boone         9537\n",
       "Paul Gregutt           9532\n",
       "Matt Kettmann          6332\n",
       "Joe Czerwinski         5147\n",
       "Sean P. Sullivan       4966\n",
       "Anna Lee C. Iijima     4415\n",
       "Jim Gordon             4177\n",
       "Anne Krebiehl MW       3685\n",
       "Lauren Buzzeo          1835\n",
       "Susan Kostrzewa        1085\n",
       "Mike DeSimone           514\n",
       "Jeff Jenssen            491\n",
       "Alexander Peartree      415\n",
       "Carrie Dykes            139\n",
       "Fiona Adams              27\n",
       "Christina Pickard         6\n",
       "Name: taster_name, dtype: int64"
      ]
     },
     "execution_count": 39,
     "metadata": {},
     "output_type": "execute_result"
    }
   ],
   "source": [
    "taster_name_value_counts"
   ]
  },
  {
   "cell_type": "code",
   "execution_count": 40,
   "metadata": {},
   "outputs": [
    {
     "data": {
      "text/plain": [
       "103727"
      ]
     },
     "execution_count": 40,
     "metadata": {},
     "output_type": "execute_result"
    }
   ],
   "source": [
    "taster_name_value_counts.sum()"
   ]
  },
  {
   "cell_type": "code",
   "execution_count": 41,
   "metadata": {},
   "outputs": [
    {
     "data": {
      "image/png": "[encoded data removed]",
      "text/plain": [
       "<Figure size 1080x360 with 1 Axes>"
      ]
     },
     "metadata": {
      "needs_background": "light"
     },
     "output_type": "display_data"
    }
   ],
   "source": [
    "ax_10 = taster_name_value_counts.plot.bar(title='taster_name Value Counts Bar Chart', figsize=(15,5));\n",
    "\n",
    "ax_10.set_xlabel('Taster name');\n",
    "ax_10.set_ylabel('Number of wines reviewed by taster');"
   ]
  },
  {
   "cell_type": "markdown",
   "metadata": {},
   "source": [
    "The same general shape as region_1 and region_2, and not so awful. Roger Voss is responsible for approximately a quarter of all reviews with a named reviewer, and approxoimatly 20% of all reviews. "
   ]
  },
  {
   "cell_type": "code",
   "execution_count": 42,
   "metadata": {},
   "outputs": [],
   "source": [
    "taster_twitter_handle_value_counts = feature_data.taster_twitter_handle.value_counts()"
   ]
  },
  {
   "cell_type": "code",
   "execution_count": 43,
   "metadata": {},
   "outputs": [
    {
     "data": {
      "text/plain": [
       "@vossroger          25514\n",
       "@wineschach         15134\n",
       "@kerinokeefe        10776\n",
       "@vboone              9537\n",
       "@paulgwine           9532\n",
       "@mattkettmann        6332\n",
       "@JoeCz               5147\n",
       "@wawinereport        4966\n",
       "@gordone_cellars     4177\n",
       "@AnneInVino          3685\n",
       "@laurbuzz            1835\n",
       "@suskostrzewa        1085\n",
       "@worldwineguys       1005\n",
       "@bkfiona               27\n",
       "@winewchristina         6\n",
       "Name: taster_twitter_handle, dtype: int64"
      ]
     },
     "execution_count": 43,
     "metadata": {},
     "output_type": "execute_result"
    }
   ],
   "source": [
    "taster_twitter_handle_value_counts"
   ]
  },
  {
   "cell_type": "code",
   "execution_count": 44,
   "metadata": {},
   "outputs": [
    {
     "data": {
      "text/plain": [
       "98758"
      ]
     },
     "execution_count": 44,
     "metadata": {},
     "output_type": "execute_result"
    }
   ],
   "source": [
    "taster_twitter_handle_value_counts.sum()"
   ]
  },
  {
   "cell_type": "code",
   "execution_count": 45,
   "metadata": {},
   "outputs": [
    {
     "data": {
      "image/png": "[encoded data removed]",
      "text/plain": [
       "<Figure size 1080x360 with 1 Axes>"
      ]
     },
     "metadata": {
      "needs_background": "light"
     },
     "output_type": "display_data"
    }
   ],
   "source": [
    "ax_11 = taster_twitter_handle_value_counts.plot.bar(title='taster_twitter_handle Value Counts Bar Chart', figsize=(15,5));\n",
    "\n",
    "ax_11.set_xlabel('Twitter handle');\n",
    "ax_11.set_ylabel('Number of wines reviewed by\\ntaster with specific twitter handle');"
   ]
  },
  {
   "cell_type": "markdown",
   "metadata": {},
   "source": [
    "Unsurprisingly similar to the taster_name feature, but the real question is how information do we get for the price of another dimension? "
   ]
  },
  {
   "cell_type": "code",
   "execution_count": 46,
   "metadata": {},
   "outputs": [
    {
     "name": "stdout",
     "output_type": "stream",
     "text": [
      "(16, 2)\n",
      "(16, 3)\n"
     ]
    }
   ],
   "source": [
    "non_null_name_data = feature_data.dropna(subset=['taster_name', 'taster_twitter_handle'], axis='index', how='any')\n",
    "name_unique_where_twitter_not_null = non_null_name_data.groupby(['taster_name']).size().reset_index().rename(columns={0:'count'})\n",
    "name_and_twitter_unique_where_twitter_not_null = non_null_name_data.groupby(['taster_name', 'taster_twitter_handle']).size().reset_index().rename(columns={0:'count'})\n",
    "print(name_unique_where_twitter_not_null.shape)\n",
    "print(name_and_twitter_unique_where_twitter_not_null.shape)"
   ]
  },
  {
   "cell_type": "code",
   "execution_count": 47,
   "metadata": {},
   "outputs": [
    {
     "name": "stdout",
     "output_type": "stream",
     "text": [
      "(16, 3)\n",
      "(16, 2)\n"
     ]
    }
   ],
   "source": [
    "non_null_taster_data = feature_data.dropna(subset=['taster_name', 'taster_twitter_handle'], axis='index', how='any')\n",
    "twitter_unique_where_name_not_null = non_null_name_data.groupby(['taster_twitter_handle']).size().reset_index().rename(columns={0:'count'})\n",
    "twitter_and_name_unique_where_name_not_null = non_null_name_data.groupby(['taster_twitter_handle', 'taster_name']).size().reset_index().rename(columns={0:'count'})\n",
    "print(name_and_twitter_unique_where_twitter_not_null.shape)\n",
    "print(name_unique_where_twitter_not_null.shape)"
   ]
  },
  {
   "cell_type": "code",
   "execution_count": 48,
   "metadata": {},
   "outputs": [
    {
     "name": "stdout",
     "output_type": "stream",
     "text": [
      "Taster names: \n",
      "Roger Voss,         @vossroger:       (25514, 2)\n",
      "Michael Schachner,  @wineschach:      (15134, 2)\n",
      "Kerin O’Keefe,      @kerinokeefe:     (10776, 2)\n",
      "Virginie Boone,     @vboone:          (9537, 2)\n",
      "Paul Gregutt,       @paulgwine :      (9532, 2)\n",
      "Matt Kettmann,      @mattkettmann:    (6332, 2)\n",
      "Joe Czerwinski,     @JoeCz:           (5147, 2)\n",
      "Sean P. Sullivan,   @wawinereport:    (4966, 2)\n",
      "Anna Lee C. Iijima, nan:              (4415, 2)\n",
      "Jim Gordon,         @gordone_cellars: (4177, 2)\n",
      "Anne Krebiehl MW,   @AnneInVino:      (3685, 2)\n",
      "Lauren Buzzeo,      @laurbuzz:        (1835, 2)\n",
      "Susan Kostrzewa,    @suskostrzewa:    (1085, 2)\n",
      "Mike DeSimone,      @worldwineguys:   (514, 2)\n",
      "Jeff Jenssen,       @worldwineguys:   (491, 2)\n",
      "Alexander Peartree, nan:              (415, 2)\n",
      "Carrie Dykes,       nan:              (139, 2)\n",
      "Fiona Adams,        @bkfiona:         (27, 2)\n",
      "Christina Pickard,  @winewchristina:  (6, 2)\n",
      "\n",
      "Taster twitters: \n",
      "Roger Voss,         @vossroger:       (25514, 2)\n",
      "Michael Schachner,  @wineschach:      (15134, 2)\n",
      "Kerin O’Keefe,      @kerinokeefe:     (10776, 2)\n",
      "Virginie Boone,     @vboone:          (9537, 2)\n",
      "Paul Gregutt,       @paulgwine :      (9532, 2)\n",
      "Matt Kettmann,      @mattkettmann:    (6332, 2)\n",
      "Joe Czerwinski,     @JoeCz:           (5147, 2)\n",
      "Sean P. Sullivan,   @wawinereport:    (4966, 2)\n",
      "Jim Gordon,         @gordone_cellars: (4177, 2)\n",
      "Anne Krebiehl MW,   @AnneInVino:      (3685, 2)\n",
      "Lauren Buzzeo,      @laurbuzz:        (1835, 2)\n",
      "Susan Kostrzewa,    @suskostrzewa:    (1085, 2)\n",
      "Jeff Jenssen,       @worldwineguys:   (1005, 2)\n",
      "Fiona Adams,        @bkfiona:         (27, 2)\n",
      "Christina Pickard,  @winewchristina:  (6, 2)\n"
     ]
    }
   ],
   "source": [
    "taster_designations = feature_data[['taster_name', 'taster_twitter_handle']]\n",
    "\n",
    "print('Taster names: ')\n",
    "for name in taster_name_value_counts.index:\n",
    "    print((taster_designations[taster_designations.taster_name==name].sample(1).iloc[0,0] + \", \").ljust(20) + (str(taster_designations[taster_designations.taster_name==name].sample(1).iloc[0,1]) + \": \").ljust(18) + str(taster_designations[taster_designations.taster_name==name].shape))\n",
    "\n",
    "print('\\nTaster twitters: ')\n",
    "for twitter in taster_twitter_handle_value_counts.index:\n",
    "    print((taster_designations[taster_designations.taster_twitter_handle==twitter].sample(1).iloc[0,0] + \", \").ljust(20) + (str(taster_designations[taster_designations.taster_twitter_handle==twitter].sample(1).iloc[0,1]) + \": \").ljust(18) + str(taster_designations[taster_designations.taster_twitter_handle==twitter].shape))"
   ]
  },
  {
   "cell_type": "markdown",
   "metadata": {},
   "source": [
    "I've discovered something interesting: while there are more names than twitter handles, and there are no twitter handles without names, there are some twitter handles with _multiple_ names - look at the two lists above and check out @worldwineguys. They've got two reviewers, and that means that for the purposes of this dataset, twitter handles aren't unique reviewer names - they're organisational names and that's extra information, which means they stay. "
   ]
  },
  {
   "cell_type": "code",
   "execution_count": 49,
   "metadata": {},
   "outputs": [],
   "source": [
    "variety_value_counts = feature_data.variety.value_counts()"
   ]
  },
  {
   "cell_type": "code",
   "execution_count": 50,
   "metadata": {},
   "outputs": [
    {
     "data": {
      "text/plain": [
       "Pinot Noir                        13272\n",
       "Chardonnay                        11753\n",
       "Cabernet Sauvignon                 9472\n",
       "Red Blend                          8946\n",
       "Bordeaux-style Red Blend           6915\n",
       "Riesling                           5189\n",
       "Sauvignon Blanc                    4967\n",
       "Syrah                              4142\n",
       "Rosé                               3564\n",
       "Merlot                             3102\n",
       "Nebbiolo                           2804\n",
       "Zinfandel                          2714\n",
       "Sangiovese                         2707\n",
       "Malbec                             2652\n",
       "Portuguese Red                     2466\n",
       "White Blend                        2360\n",
       "Sparkling Blend                    2153\n",
       "Tempranillo                        1810\n",
       "Rhône-style Red Blend              1471\n",
       "Pinot Gris                         1455\n",
       "Champagne Blend                    1396\n",
       "Cabernet Franc                     1353\n",
       "Grüner Veltliner                   1345\n",
       "Portuguese White                   1159\n",
       "Bordeaux-style White Blend         1066\n",
       "Pinot Grigio                       1052\n",
       "Gamay                              1025\n",
       "Gewürztraminer                     1012\n",
       "Viognier                            996\n",
       "Shiraz                              836\n",
       "                                  ...  \n",
       "Xinisteri                             1\n",
       "Espadeiro                             1\n",
       "Grenache Gris                         1\n",
       "Garnacha-Cariñena                     1\n",
       "Ojaleshi                              1\n",
       "Roditis-Moschofilero                  1\n",
       "Zelen                                 1\n",
       "Blatina                               1\n",
       "Meseguera                             1\n",
       "Irsai Oliver                          1\n",
       "Kangoun                               1\n",
       "Thrapsathiri                          1\n",
       "Vranac                                1\n",
       "Tsapournakos                          1\n",
       "Sauvignon Blanc-Sauvignon Gris        1\n",
       "Biancolella                           1\n",
       "Merlot-Grenache                       1\n",
       "Sauvignon Blanc-Assyrtiko             1\n",
       "Bobal-Cabernet Sauvignon              1\n",
       "Chardonnay-Pinot Gris                 1\n",
       "Sideritis                             1\n",
       "Merlot-Shiraz                         1\n",
       "Macabeo-Moscatel                      1\n",
       "Graševina                             1\n",
       "Valvin Muscat                         1\n",
       "Tamianka                              1\n",
       "Tintilia                              1\n",
       "Gamza                                 1\n",
       "Cabernet Sauvignon-Barbera            1\n",
       "Mavrotragano                          1\n",
       "Name: variety, Length: 707, dtype: int64"
      ]
     },
     "execution_count": 50,
     "metadata": {},
     "output_type": "execute_result"
    }
   ],
   "source": [
    "variety_value_counts"
   ]
  },
  {
   "cell_type": "code",
   "execution_count": 51,
   "metadata": {},
   "outputs": [
    {
     "name": "stdout",
     "output_type": "stream",
     "text": [
      "There are 154 different numbers of varieties.\n"
     ]
    }
   ],
   "source": [
    "print('There are {} different numbers of varieties.'.format(len(variety_value_counts.value_counts().sort_index())))"
   ]
  },
  {
   "cell_type": "code",
   "execution_count": 52,
   "metadata": {},
   "outputs": [
    {
     "data": {
      "image/png": "[encoded data removed]",
      "text/plain": [
       "<Figure size 1080x360 with 1 Axes>"
      ]
     },
     "metadata": {
      "needs_background": "light"
     },
     "output_type": "display_data"
    }
   ],
   "source": [
    "ax_12 = variety_value_counts.value_counts().sort_index().plot.line(title='variety Value Counts Line Chart', figsize=(15,5))\n",
    "\n",
    "ax_12.set_xticks([0, 1000, 2000, 4000, 6000, 8000, 10000, 12000, 14000]);\n",
    "ax_12.set_xticklabels([0, 1000, 2000, 4000, 6000, 8000, 10000, 12000, 14000]);\n",
    "ax_12.set_xlabel('Number of varieties having a particular number of wines');\n",
    "ax_12.set_ylabel('Number of wines of a particular variety');"
   ]
  },
  {
   "cell_type": "markdown",
   "metadata": {},
   "source": [
    "Similar to region_1, with the same conclusion. A lot of right skew, still a relevant feature, not much engineering to be done. "
   ]
  },
  {
   "cell_type": "code",
   "execution_count": 53,
   "metadata": {},
   "outputs": [],
   "source": [
    "winery_value_counts = feature_data.winery.value_counts()"
   ]
  },
  {
   "cell_type": "code",
   "execution_count": 54,
   "metadata": {},
   "outputs": [
    {
     "data": {
      "text/plain": [
       "Wines & Winemakers                         222\n",
       "Testarossa                                 218\n",
       "DFJ Vinhos                                 215\n",
       "Williams Selyem                            211\n",
       "Louis Latour                               199\n",
       "Georges Duboeuf                            196\n",
       "Chateau Ste. Michelle                      194\n",
       "Concha y Toro                              164\n",
       "Columbia Crest                             159\n",
       "Kendall-Jackson                            130\n",
       "Siduri                                     126\n",
       "Gary Farrell                               125\n",
       "Lynmar                                     118\n",
       "Albert Bichot                              117\n",
       "Montes                                     117\n",
       "Trapiche                                   113\n",
       "Undurraga                                  113\n",
       "Jean-Luc and Paul Aegerter                 113\n",
       "Casa Santos Lima                           113\n",
       "Robert Mondavi                             112\n",
       "Santa Ema                                  112\n",
       "Chanson Père et Fils                       109\n",
       "Fess Parker                                108\n",
       "V. Sattui                                  107\n",
       "Iron Horse                                 106\n",
       "Foxen                                      105\n",
       "Louis Jadot                                104\n",
       "Chehalem                                   102\n",
       "Feudi di San Gregorio                      102\n",
       "Maryhill                                   102\n",
       "                                          ... \n",
       "Château Franc Couplet                        1\n",
       "Vignobles Falgueyret Leglise                 1\n",
       "Karlsmühle                                   1\n",
       "Cruz Montesa                                 1\n",
       "I Saltari                                    1\n",
       "Vinhos Norte                                 1\n",
       "El Burro                                     1\n",
       "Fairview Cellars                             1\n",
       "Château Laujac                               1\n",
       "Vega Escal                                   1\n",
       "Ca' Montini                                  1\n",
       "Inca                                         1\n",
       "Rivera de Castilla                           1\n",
       "Real del Pedro                               1\n",
       "GrapeHeart Vineyards                         1\n",
       "Johannes Kunz                                1\n",
       "Oakville Terraces                            1\n",
       "Yunbar                                       1\n",
       "Beastly Vines                                1\n",
       "Owen's Estate                                1\n",
       "Carver Sutro                                 1\n",
       "Tower Estate                                 1\n",
       "Rive Droite Rive Gauche                      1\n",
       "Heavenly Retreat                             1\n",
       "Hullabaloo                                   1\n",
       "Contrada Santo Spirito di Passopisciaro      1\n",
       "Serveaux Fils                                1\n",
       "Bodegas Añadas                               1\n",
       "Vinícola Hidalgo                             1\n",
       "Rio Alto                                     1\n",
       "Name: winery, Length: 16757, dtype: int64"
      ]
     },
     "execution_count": 54,
     "metadata": {},
     "output_type": "execute_result"
    }
   ],
   "source": [
    "winery_value_counts"
   ]
  },
  {
   "cell_type": "code",
   "execution_count": 55,
   "metadata": {},
   "outputs": [
    {
     "name": "stdout",
     "output_type": "stream",
     "text": [
      "There are 120 different numbers of wines per winery\n"
     ]
    }
   ],
   "source": [
    "print('There are {} different numbers of wines per winery'.format(len(winery_value_counts.value_counts())))"
   ]
  },
  {
   "cell_type": "code",
   "execution_count": 56,
   "metadata": {},
   "outputs": [
    {
     "data": {
      "image/png": "[encoded data removed]",
      "text/plain": [
       "<Figure size 1080x360 with 1 Axes>"
      ]
     },
     "metadata": {
      "needs_background": "light"
     },
     "output_type": "display_data"
    }
   ],
   "source": [
    "ax_13 = winery_value_counts.value_counts().sort_index().plot.line(title='winery Value Counts Line Chart', figsize=(15,5))\n",
    "\n",
    "ax_13.set_xticks([0, 25, 50, 75, 100, 125, 150, 175, 200]);\n",
    "ax_13.set_xticklabels([0, 25, 50, 75, 100, 125, 150, 175, 200]);\n",
    "ax_13.set_xlabel('Number of wineries having that number of wines');\n",
    "ax_13.set_ylabel('Number of wines from a particular winery');"
   ]
  },
  {
   "cell_type": "markdown",
   "metadata": {},
   "source": [
    "### Decisions\n",
    "\n",
    "Should some be left out?  \n",
    "Should some be engineered?  \n",
    "Did the engineering work? what did it do?  \n",
    "\n",
    "At this point, I've decided that all of the non-text features aren't getting removed, which leaves title, description and designation. I've already decided that designation will be removed because it's just a list of unique descriptors for the wines, and so unless it I start analysing reoccuring words it offers no information from which to draw a pattern. Description could potentially be useful, but would require a significant diversion into NLP that is outside the scope of this project.  Title on the other hand - while superficially similar to description in usefulness - also contains a number representing a year: the vintage of the wine, which is what year the grapes were picked. If I can get that number out, then I get another numerical feature to use!"
   ]
  },
  {
   "cell_type": "code",
   "execution_count": 57,
   "metadata": {},
   "outputs": [
    {
     "name": "stdout",
     "output_type": "stream",
     "text": [
      "['' '1503' '1607' '1821' '1827' '1847' '1868' '1872' '1882' '1887' '1903'\n",
      " '1904' '1905' '1906' '1907' '1908' '1909' '1910' '1912' '1913' '1914'\n",
      " '1916' '1918' '1919' '1922' '1924' '1927' '1930' '1934' '1935' '1939'\n",
      " '1940' '1941' '1945' '1947' '1951' '1952' '1953' '1955' '1957' '1961'\n",
      " '1963' '1964' '1965' '1966' '1967' '1968' '1969' '1970' '1973' '1974'\n",
      " '1975' '1976' '1978' '1979' '1980' '1982' '1983' '1984' '1985' '1986'\n",
      " '1987' '1988' '1989' '1990' '1991' '1992' '1993' '1994' '1995' '1996'\n",
      " '1997' '1998' '1999' '2000' '2001' '2002' '2003' '2004' '2005' '2006'\n",
      " '2007' '2008' '2009' '2010' '2011' '2012' '2013' '2014' '2015' '2016'\n",
      " '2017' '2067']\n",
      "count    125362.000000\n",
      "mean       2010.611948\n",
      "std           4.868176\n",
      "min        1503.000000\n",
      "25%        2009.000000\n",
      "50%        2011.000000\n",
      "75%        2013.000000\n",
      "max        2067.000000\n",
      "Name: title, dtype: float64\n"
     ]
    }
   ],
   "source": [
    "titles = feature_data.title.copy(deep=True)\n",
    "# Checking winemag.com, their vintages only go back to 1900, so any number smaller than that isn't a date. \n",
    "years = titles.replace(r'.*((19|20)[0-9]{2}).*', r'\\1', regex=True).replace(r'[A-Za-z]|[\\D]|\\s|(?:(?<!\\d)\\d{1}(?!\\d))|(?:(?<!\\d)\\d{2}(?!\\d))|(?:(?<!\\d)\\d{3}(?!\\d))', '', regex=True)\n",
    "print(years.sort_values().unique())\n",
    "print(pd.to_numeric(years).describe())"
   ]
  },
  {
   "cell_type": "markdown",
   "metadata": {},
   "source": [
    "That looks usable! There are a bunch of years, some null values, and some obviously not year values because they describe future years or are numbers from before 1900. If I remove those, I get which year the grapes that the wine is made from were grown, and that should be useful. "
   ]
  },
  {
   "cell_type": "code",
   "execution_count": 58,
   "metadata": {},
   "outputs": [
    {
     "name": "stdout",
     "output_type": "stream",
     "text": [
      "['' '1903' '1904' '1905' '1906' '1907' '1908' '1909' '1910' '1912' '1913'\n",
      " '1914' '1916' '1918' '1919' '1922' '1924' '1927' '1930' '1934' '1935'\n",
      " '1939' '1940' '1941' '1945' '1947' '1951' '1952' '1953' '1955' '1957'\n",
      " '1961' '1963' '1964' '1965' '1966' '1967' '1968' '1969' '1970' '1973'\n",
      " '1974' '1975' '1976' '1978' '1979' '1980' '1982' '1983' '1984' '1985'\n",
      " '1986' '1987' '1988' '1989' '1990' '1991' '1992' '1993' '1994' '1995'\n",
      " '1996' '1997' '1998' '1999' '2000' '2001' '2002' '2003' '2004' '2005'\n",
      " '2006' '2007' '2008' '2009' '2010' '2011' '2012' '2013' '2014' '2015'\n",
      " '2016' '2017']\n",
      "count    125344.000000\n",
      "mean       2010.637534\n",
      "std           4.158419\n",
      "min        1903.000000\n",
      "25%        2009.000000\n",
      "50%        2011.000000\n",
      "75%        2013.000000\n",
      "max        2017.000000\n",
      "Name: title, dtype: float64\n"
     ]
    }
   ],
   "source": [
    "filtered_years = years.replace(r'(1503|1607|1821|1827|1847|1868|1872|1868|1872|1882|1887|2067)', '', regex=True)\n",
    "print(filtered_years.sort_values().unique())\n",
    "print(pd.to_numeric(filtered_years).describe())"
   ]
  },
  {
   "cell_type": "markdown",
   "metadata": {},
   "source": [
    "Accepting any further non-vintage numbers that happen to be in the range 1900-2018 as noise (I am not combing through 125344 records), I get 125344 records (>96% non-null data), which is just great (on the assumption that vintage actually matters....). "
   ]
  },
  {
   "cell_type": "code",
   "execution_count": 59,
   "metadata": {},
   "outputs": [],
   "source": [
    "# Rename filtered_years to vintage for ease of use\n",
    "vintage = filtered_years\n",
    "vintage_value_counts = vintage.value_counts()"
   ]
  },
  {
   "cell_type": "code",
   "execution_count": 60,
   "metadata": {},
   "outputs": [
    {
     "data": {
      "image/png": "[encoded data removed]",
      "text/plain": [
       "<Figure size 1080x360 with 1 Axes>"
      ]
     },
     "metadata": {
      "needs_background": "light"
     },
     "output_type": "display_data"
    }
   ],
   "source": [
    "ax_14 = vintage_value_counts.sort_index().plot.bar(title='vintage Value Counts', figsize=(15,5))\n",
    "\n",
    "ax_14.set_xlabel('Variety: year the grapes were picked\\n(Unlabelled value to far left is missing data)');\n",
    "ax_14.set_ylabel('Number of varieties from that year');\n",
    "ax_14.grid(b=True, which='both', axis='y');"
   ]
  },
  {
   "cell_type": "markdown",
   "metadata": {},
   "source": [
    "Clearly, most of the wine is more recently produced. Fortunately, the number of years with relatively _very_ low counts is not huge. Since this is a numeric variable, I will set the null values to zero. \n",
    "\n",
    "Thinking further about what data should be dropped, and what to do about the null data, I have decided to find out how many samples are left if I drop the rows with null data in the mostly-non-null columns, but ignore the columns with larger amounts of null values. "
   ]
  },
  {
   "cell_type": "code",
   "execution_count": 61,
   "metadata": {},
   "outputs": [
    {
     "data": {
      "text/html": [
       "<div>\n",
       "<style scoped>\n",
       "    .dataframe tbody tr th:only-of-type {\n",
       "        vertical-align: middle;\n",
       "    }\n",
       "\n",
       "    .dataframe tbody tr th {\n",
       "        vertical-align: top;\n",
       "    }\n",
       "\n",
       "    .dataframe thead th {\n",
       "        text-align: right;\n",
       "    }\n",
       "</style>\n",
       "<table border=\"1\" class=\"dataframe\">\n",
       "  <thead>\n",
       "    <tr style=\"text-align: right;\">\n",
       "      <th></th>\n",
       "      <th>country</th>\n",
       "      <th>price</th>\n",
       "      <th>province</th>\n",
       "      <th>region_1</th>\n",
       "      <th>region_2</th>\n",
       "      <th>taster_name</th>\n",
       "      <th>taster_twitter_handle</th>\n",
       "      <th>variety</th>\n",
       "      <th>winery</th>\n",
       "      <th>vintage</th>\n",
       "    </tr>\n",
       "  </thead>\n",
       "  <tbody>\n",
       "    <tr>\n",
       "      <th>0</th>\n",
       "      <td>Italy</td>\n",
       "      <td>NaN</td>\n",
       "      <td>Sicily &amp; Sardinia</td>\n",
       "      <td>Etna</td>\n",
       "      <td>NaN</td>\n",
       "      <td>Kerin O’Keefe</td>\n",
       "      <td>@kerinokeefe</td>\n",
       "      <td>White Blend</td>\n",
       "      <td>Nicosia</td>\n",
       "      <td>2013</td>\n",
       "    </tr>\n",
       "    <tr>\n",
       "      <th>1</th>\n",
       "      <td>Portugal</td>\n",
       "      <td>15.0</td>\n",
       "      <td>Douro</td>\n",
       "      <td>NaN</td>\n",
       "      <td>NaN</td>\n",
       "      <td>Roger Voss</td>\n",
       "      <td>@vossroger</td>\n",
       "      <td>Portuguese Red</td>\n",
       "      <td>Quinta dos Avidagos</td>\n",
       "      <td>2011</td>\n",
       "    </tr>\n",
       "    <tr>\n",
       "      <th>2</th>\n",
       "      <td>US</td>\n",
       "      <td>14.0</td>\n",
       "      <td>Oregon</td>\n",
       "      <td>Willamette Valley</td>\n",
       "      <td>Willamette Valley</td>\n",
       "      <td>Paul Gregutt</td>\n",
       "      <td>@paulgwine</td>\n",
       "      <td>Pinot Gris</td>\n",
       "      <td>Rainstorm</td>\n",
       "      <td>2013</td>\n",
       "    </tr>\n",
       "    <tr>\n",
       "      <th>3</th>\n",
       "      <td>US</td>\n",
       "      <td>13.0</td>\n",
       "      <td>Michigan</td>\n",
       "      <td>Lake Michigan Shore</td>\n",
       "      <td>NaN</td>\n",
       "      <td>Alexander Peartree</td>\n",
       "      <td>NaN</td>\n",
       "      <td>Riesling</td>\n",
       "      <td>St. Julian</td>\n",
       "      <td>2013</td>\n",
       "    </tr>\n",
       "    <tr>\n",
       "      <th>4</th>\n",
       "      <td>US</td>\n",
       "      <td>65.0</td>\n",
       "      <td>Oregon</td>\n",
       "      <td>Willamette Valley</td>\n",
       "      <td>Willamette Valley</td>\n",
       "      <td>Paul Gregutt</td>\n",
       "      <td>@paulgwine</td>\n",
       "      <td>Pinot Noir</td>\n",
       "      <td>Sweet Cheeks</td>\n",
       "      <td>2012</td>\n",
       "    </tr>\n",
       "    <tr>\n",
       "      <th>5</th>\n",
       "      <td>Spain</td>\n",
       "      <td>15.0</td>\n",
       "      <td>Northern Spain</td>\n",
       "      <td>Navarra</td>\n",
       "      <td>NaN</td>\n",
       "      <td>Michael Schachner</td>\n",
       "      <td>@wineschach</td>\n",
       "      <td>Tempranillo-Merlot</td>\n",
       "      <td>Tandem</td>\n",
       "      <td>2011</td>\n",
       "    </tr>\n",
       "    <tr>\n",
       "      <th>6</th>\n",
       "      <td>Italy</td>\n",
       "      <td>16.0</td>\n",
       "      <td>Sicily &amp; Sardinia</td>\n",
       "      <td>Vittoria</td>\n",
       "      <td>NaN</td>\n",
       "      <td>Kerin O’Keefe</td>\n",
       "      <td>@kerinokeefe</td>\n",
       "      <td>Frappato</td>\n",
       "      <td>Terre di Giurfo</td>\n",
       "      <td>2013</td>\n",
       "    </tr>\n",
       "    <tr>\n",
       "      <th>7</th>\n",
       "      <td>France</td>\n",
       "      <td>24.0</td>\n",
       "      <td>Alsace</td>\n",
       "      <td>Alsace</td>\n",
       "      <td>NaN</td>\n",
       "      <td>Roger Voss</td>\n",
       "      <td>@vossroger</td>\n",
       "      <td>Gewürztraminer</td>\n",
       "      <td>Trimbach</td>\n",
       "      <td>2012</td>\n",
       "    </tr>\n",
       "    <tr>\n",
       "      <th>8</th>\n",
       "      <td>Germany</td>\n",
       "      <td>12.0</td>\n",
       "      <td>Rheinhessen</td>\n",
       "      <td>NaN</td>\n",
       "      <td>NaN</td>\n",
       "      <td>Anna Lee C. Iijima</td>\n",
       "      <td>NaN</td>\n",
       "      <td>Gewürztraminer</td>\n",
       "      <td>Heinz Eifel</td>\n",
       "      <td>2013</td>\n",
       "    </tr>\n",
       "    <tr>\n",
       "      <th>9</th>\n",
       "      <td>France</td>\n",
       "      <td>27.0</td>\n",
       "      <td>Alsace</td>\n",
       "      <td>Alsace</td>\n",
       "      <td>NaN</td>\n",
       "      <td>Roger Voss</td>\n",
       "      <td>@vossroger</td>\n",
       "      <td>Pinot Gris</td>\n",
       "      <td>Jean-Baptiste Adam</td>\n",
       "      <td>2012</td>\n",
       "    </tr>\n",
       "    <tr>\n",
       "      <th>10</th>\n",
       "      <td>US</td>\n",
       "      <td>19.0</td>\n",
       "      <td>California</td>\n",
       "      <td>Napa Valley</td>\n",
       "      <td>Napa</td>\n",
       "      <td>Virginie Boone</td>\n",
       "      <td>@vboone</td>\n",
       "      <td>Cabernet Sauvignon</td>\n",
       "      <td>Kirkland Signature</td>\n",
       "      <td>2011</td>\n",
       "    </tr>\n",
       "    <tr>\n",
       "      <th>11</th>\n",
       "      <td>France</td>\n",
       "      <td>30.0</td>\n",
       "      <td>Alsace</td>\n",
       "      <td>Alsace</td>\n",
       "      <td>NaN</td>\n",
       "      <td>Roger Voss</td>\n",
       "      <td>@vossroger</td>\n",
       "      <td>Gewürztraminer</td>\n",
       "      <td>Leon Beyer</td>\n",
       "      <td>2012</td>\n",
       "    </tr>\n",
       "    <tr>\n",
       "      <th>12</th>\n",
       "      <td>US</td>\n",
       "      <td>34.0</td>\n",
       "      <td>California</td>\n",
       "      <td>Alexander Valley</td>\n",
       "      <td>Sonoma</td>\n",
       "      <td>Virginie Boone</td>\n",
       "      <td>@vboone</td>\n",
       "      <td>Cabernet Sauvignon</td>\n",
       "      <td>Louis M. Martini</td>\n",
       "      <td>2012</td>\n",
       "    </tr>\n",
       "    <tr>\n",
       "      <th>13</th>\n",
       "      <td>Italy</td>\n",
       "      <td>NaN</td>\n",
       "      <td>Sicily &amp; Sardinia</td>\n",
       "      <td>Etna</td>\n",
       "      <td>NaN</td>\n",
       "      <td>Kerin O’Keefe</td>\n",
       "      <td>@kerinokeefe</td>\n",
       "      <td>Nerello Mascalese</td>\n",
       "      <td>Masseria Setteporte</td>\n",
       "      <td>2012</td>\n",
       "    </tr>\n",
       "    <tr>\n",
       "      <th>14</th>\n",
       "      <td>US</td>\n",
       "      <td>12.0</td>\n",
       "      <td>California</td>\n",
       "      <td>Central Coast</td>\n",
       "      <td>Central Coast</td>\n",
       "      <td>Matt Kettmann</td>\n",
       "      <td>@mattkettmann</td>\n",
       "      <td>Chardonnay</td>\n",
       "      <td>Mirassou</td>\n",
       "      <td>2012</td>\n",
       "    </tr>\n",
       "    <tr>\n",
       "      <th>15</th>\n",
       "      <td>Germany</td>\n",
       "      <td>24.0</td>\n",
       "      <td>Mosel</td>\n",
       "      <td>NaN</td>\n",
       "      <td>NaN</td>\n",
       "      <td>Anna Lee C. Iijima</td>\n",
       "      <td>NaN</td>\n",
       "      <td>Riesling</td>\n",
       "      <td>Richard Böcking</td>\n",
       "      <td>2013</td>\n",
       "    </tr>\n",
       "    <tr>\n",
       "      <th>16</th>\n",
       "      <td>Argentina</td>\n",
       "      <td>30.0</td>\n",
       "      <td>Other</td>\n",
       "      <td>Cafayate</td>\n",
       "      <td>NaN</td>\n",
       "      <td>Michael Schachner</td>\n",
       "      <td>@wineschach</td>\n",
       "      <td>Malbec</td>\n",
       "      <td>Felix Lavaque</td>\n",
       "      <td>2010</td>\n",
       "    </tr>\n",
       "    <tr>\n",
       "      <th>17</th>\n",
       "      <td>Argentina</td>\n",
       "      <td>13.0</td>\n",
       "      <td>Mendoza Province</td>\n",
       "      <td>Mendoza</td>\n",
       "      <td>NaN</td>\n",
       "      <td>Michael Schachner</td>\n",
       "      <td>@wineschach</td>\n",
       "      <td>Malbec</td>\n",
       "      <td>Gaucho Andino</td>\n",
       "      <td>2011</td>\n",
       "    </tr>\n",
       "    <tr>\n",
       "      <th>18</th>\n",
       "      <td>Spain</td>\n",
       "      <td>28.0</td>\n",
       "      <td>Northern Spain</td>\n",
       "      <td>Ribera del Duero</td>\n",
       "      <td>NaN</td>\n",
       "      <td>Michael Schachner</td>\n",
       "      <td>@wineschach</td>\n",
       "      <td>Tempranillo Blend</td>\n",
       "      <td>Pradorey</td>\n",
       "      <td>2010</td>\n",
       "    </tr>\n",
       "    <tr>\n",
       "      <th>19</th>\n",
       "      <td>US</td>\n",
       "      <td>32.0</td>\n",
       "      <td>Virginia</td>\n",
       "      <td>Virginia</td>\n",
       "      <td>NaN</td>\n",
       "      <td>Alexander Peartree</td>\n",
       "      <td>NaN</td>\n",
       "      <td>Meritage</td>\n",
       "      <td>Quiévremont</td>\n",
       "      <td>2012</td>\n",
       "    </tr>\n",
       "    <tr>\n",
       "      <th>20</th>\n",
       "      <td>US</td>\n",
       "      <td>23.0</td>\n",
       "      <td>Virginia</td>\n",
       "      <td>Virginia</td>\n",
       "      <td>NaN</td>\n",
       "      <td>Alexander Peartree</td>\n",
       "      <td>NaN</td>\n",
       "      <td>Red Blend</td>\n",
       "      <td>Quiévremont</td>\n",
       "      <td>2012</td>\n",
       "    </tr>\n",
       "    <tr>\n",
       "      <th>21</th>\n",
       "      <td>US</td>\n",
       "      <td>20.0</td>\n",
       "      <td>Oregon</td>\n",
       "      <td>Oregon</td>\n",
       "      <td>Oregon Other</td>\n",
       "      <td>Paul Gregutt</td>\n",
       "      <td>@paulgwine</td>\n",
       "      <td>Pinot Noir</td>\n",
       "      <td>Acrobat</td>\n",
       "      <td>2013</td>\n",
       "    </tr>\n",
       "    <tr>\n",
       "      <th>22</th>\n",
       "      <td>Italy</td>\n",
       "      <td>19.0</td>\n",
       "      <td>Sicily &amp; Sardinia</td>\n",
       "      <td>Sicilia</td>\n",
       "      <td>NaN</td>\n",
       "      <td>Kerin O’Keefe</td>\n",
       "      <td>@kerinokeefe</td>\n",
       "      <td>White Blend</td>\n",
       "      <td>Baglio di Pianetto</td>\n",
       "      <td>2007</td>\n",
       "    </tr>\n",
       "    <tr>\n",
       "      <th>23</th>\n",
       "      <td>US</td>\n",
       "      <td>22.0</td>\n",
       "      <td>California</td>\n",
       "      <td>Paso Robles</td>\n",
       "      <td>Central Coast</td>\n",
       "      <td>Matt Kettmann</td>\n",
       "      <td>@mattkettmann</td>\n",
       "      <td>Merlot</td>\n",
       "      <td>Bianchi</td>\n",
       "      <td>2011</td>\n",
       "    </tr>\n",
       "    <tr>\n",
       "      <th>24</th>\n",
       "      <td>Italy</td>\n",
       "      <td>35.0</td>\n",
       "      <td>Sicily &amp; Sardinia</td>\n",
       "      <td>Sicilia</td>\n",
       "      <td>NaN</td>\n",
       "      <td>Kerin O’Keefe</td>\n",
       "      <td>@kerinokeefe</td>\n",
       "      <td>Nero d'Avola</td>\n",
       "      <td>Canicattì</td>\n",
       "      <td>2009</td>\n",
       "    </tr>\n",
       "    <tr>\n",
       "      <th>25</th>\n",
       "      <td>US</td>\n",
       "      <td>69.0</td>\n",
       "      <td>California</td>\n",
       "      <td>Sonoma Coast</td>\n",
       "      <td>Sonoma</td>\n",
       "      <td>Virginie Boone</td>\n",
       "      <td>@vboone</td>\n",
       "      <td>Pinot Noir</td>\n",
       "      <td>Castello di Amorosa</td>\n",
       "      <td>2011</td>\n",
       "    </tr>\n",
       "    <tr>\n",
       "      <th>26</th>\n",
       "      <td>Italy</td>\n",
       "      <td>13.0</td>\n",
       "      <td>Sicily &amp; Sardinia</td>\n",
       "      <td>Terre Siciliane</td>\n",
       "      <td>NaN</td>\n",
       "      <td>Kerin O’Keefe</td>\n",
       "      <td>@kerinokeefe</td>\n",
       "      <td>White Blend</td>\n",
       "      <td>Stemmari</td>\n",
       "      <td>2013</td>\n",
       "    </tr>\n",
       "    <tr>\n",
       "      <th>27</th>\n",
       "      <td>Italy</td>\n",
       "      <td>10.0</td>\n",
       "      <td>Sicily &amp; Sardinia</td>\n",
       "      <td>Terre Siciliane</td>\n",
       "      <td>NaN</td>\n",
       "      <td>Kerin O’Keefe</td>\n",
       "      <td>@kerinokeefe</td>\n",
       "      <td>Nero d'Avola</td>\n",
       "      <td>Stemmari</td>\n",
       "      <td>2013</td>\n",
       "    </tr>\n",
       "    <tr>\n",
       "      <th>28</th>\n",
       "      <td>Italy</td>\n",
       "      <td>17.0</td>\n",
       "      <td>Sicily &amp; Sardinia</td>\n",
       "      <td>Cerasuolo di Vittoria</td>\n",
       "      <td>NaN</td>\n",
       "      <td>Kerin O’Keefe</td>\n",
       "      <td>@kerinokeefe</td>\n",
       "      <td>Red Blend</td>\n",
       "      <td>Terre di Giurfo</td>\n",
       "      <td>2011</td>\n",
       "    </tr>\n",
       "    <tr>\n",
       "      <th>29</th>\n",
       "      <td>US</td>\n",
       "      <td>16.0</td>\n",
       "      <td>California</td>\n",
       "      <td>Clarksburg</td>\n",
       "      <td>Central Valley</td>\n",
       "      <td>Virginie Boone</td>\n",
       "      <td>@vboone</td>\n",
       "      <td>Chenin Blanc</td>\n",
       "      <td>Clarksburg Wine Company</td>\n",
       "      <td>2010</td>\n",
       "    </tr>\n",
       "    <tr>\n",
       "      <th>...</th>\n",
       "      <td>...</td>\n",
       "      <td>...</td>\n",
       "      <td>...</td>\n",
       "      <td>...</td>\n",
       "      <td>...</td>\n",
       "      <td>...</td>\n",
       "      <td>...</td>\n",
       "      <td>...</td>\n",
       "      <td>...</td>\n",
       "      <td>...</td>\n",
       "    </tr>\n",
       "    <tr>\n",
       "      <th>129941</th>\n",
       "      <td>US</td>\n",
       "      <td>20.0</td>\n",
       "      <td>California</td>\n",
       "      <td>Mendocino County</td>\n",
       "      <td>NaN</td>\n",
       "      <td>Virginie Boone</td>\n",
       "      <td>@vboone</td>\n",
       "      <td>Chardonnay</td>\n",
       "      <td>Apriori</td>\n",
       "      <td>2013</td>\n",
       "    </tr>\n",
       "    <tr>\n",
       "      <th>129942</th>\n",
       "      <td>US</td>\n",
       "      <td>35.0</td>\n",
       "      <td>California</td>\n",
       "      <td>Sonoma County</td>\n",
       "      <td>Sonoma</td>\n",
       "      <td>Virginie Boone</td>\n",
       "      <td>@vboone</td>\n",
       "      <td>Cabernet Sauvignon</td>\n",
       "      <td>Arrowood</td>\n",
       "      <td>2010</td>\n",
       "    </tr>\n",
       "    <tr>\n",
       "      <th>129943</th>\n",
       "      <td>Italy</td>\n",
       "      <td>29.0</td>\n",
       "      <td>Sicily &amp; Sardinia</td>\n",
       "      <td>Sicilia</td>\n",
       "      <td>NaN</td>\n",
       "      <td>Kerin O’Keefe</td>\n",
       "      <td>@kerinokeefe</td>\n",
       "      <td>Red Blend</td>\n",
       "      <td>Baglio del Cristo di Campobello</td>\n",
       "      <td>2012</td>\n",
       "    </tr>\n",
       "    <tr>\n",
       "      <th>129944</th>\n",
       "      <td>Israel</td>\n",
       "      <td>25.0</td>\n",
       "      <td>Galilee</td>\n",
       "      <td>NaN</td>\n",
       "      <td>NaN</td>\n",
       "      <td>Mike DeSimone</td>\n",
       "      <td>@worldwineguys</td>\n",
       "      <td>Shiraz</td>\n",
       "      <td>Barkan</td>\n",
       "      <td>2011</td>\n",
       "    </tr>\n",
       "    <tr>\n",
       "      <th>129945</th>\n",
       "      <td>US</td>\n",
       "      <td>20.0</td>\n",
       "      <td>California</td>\n",
       "      <td>Santa Ynez Valley</td>\n",
       "      <td>Central Coast</td>\n",
       "      <td>Matt Kettmann</td>\n",
       "      <td>@mattkettmann</td>\n",
       "      <td>Chenin Blanc</td>\n",
       "      <td>Birichino</td>\n",
       "      <td>2013</td>\n",
       "    </tr>\n",
       "    <tr>\n",
       "      <th>129946</th>\n",
       "      <td>Germany</td>\n",
       "      <td>17.0</td>\n",
       "      <td>Mosel</td>\n",
       "      <td>NaN</td>\n",
       "      <td>NaN</td>\n",
       "      <td>Anna Lee C. Iijima</td>\n",
       "      <td>NaN</td>\n",
       "      <td>Riesling</td>\n",
       "      <td>Bischöfliche Weingüter Trier</td>\n",
       "      <td>2013</td>\n",
       "    </tr>\n",
       "    <tr>\n",
       "      <th>129947</th>\n",
       "      <td>Italy</td>\n",
       "      <td>20.0</td>\n",
       "      <td>Sicily &amp; Sardinia</td>\n",
       "      <td>Terre Siciliane</td>\n",
       "      <td>NaN</td>\n",
       "      <td>Kerin O’Keefe</td>\n",
       "      <td>@kerinokeefe</td>\n",
       "      <td>Red Blend</td>\n",
       "      <td>Feudo Principi di Butera</td>\n",
       "      <td>2012</td>\n",
       "    </tr>\n",
       "    <tr>\n",
       "      <th>129948</th>\n",
       "      <td>Argentina</td>\n",
       "      <td>43.0</td>\n",
       "      <td>Other</td>\n",
       "      <td>San Juan</td>\n",
       "      <td>NaN</td>\n",
       "      <td>Michael Schachner</td>\n",
       "      <td>@wineschach</td>\n",
       "      <td>Malbec</td>\n",
       "      <td>Finca Las Moras</td>\n",
       "      <td>2010</td>\n",
       "    </tr>\n",
       "    <tr>\n",
       "      <th>129949</th>\n",
       "      <td>US</td>\n",
       "      <td>35.0</td>\n",
       "      <td>California</td>\n",
       "      <td>Napa Valley</td>\n",
       "      <td>Napa</td>\n",
       "      <td>Virginie Boone</td>\n",
       "      <td>@vboone</td>\n",
       "      <td>Chardonnay</td>\n",
       "      <td>Flora Springs</td>\n",
       "      <td>2013</td>\n",
       "    </tr>\n",
       "    <tr>\n",
       "      <th>129950</th>\n",
       "      <td>US</td>\n",
       "      <td>35.0</td>\n",
       "      <td>California</td>\n",
       "      <td>Napa Valley</td>\n",
       "      <td>Napa</td>\n",
       "      <td>Virginie Boone</td>\n",
       "      <td>@vboone</td>\n",
       "      <td>Zinfandel</td>\n",
       "      <td>Hendry</td>\n",
       "      <td>2012</td>\n",
       "    </tr>\n",
       "    <tr>\n",
       "      <th>129951</th>\n",
       "      <td>France</td>\n",
       "      <td>30.0</td>\n",
       "      <td>Alsace</td>\n",
       "      <td>Alsace</td>\n",
       "      <td>NaN</td>\n",
       "      <td>Roger Voss</td>\n",
       "      <td>@vossroger</td>\n",
       "      <td>Gewürztraminer</td>\n",
       "      <td>Henri Schoenheitz</td>\n",
       "      <td>2012</td>\n",
       "    </tr>\n",
       "    <tr>\n",
       "      <th>129952</th>\n",
       "      <td>US</td>\n",
       "      <td>22.0</td>\n",
       "      <td>California</td>\n",
       "      <td>Chiles Valley</td>\n",
       "      <td>Napa</td>\n",
       "      <td>Virginie Boone</td>\n",
       "      <td>@vboone</td>\n",
       "      <td>Zinfandel</td>\n",
       "      <td>Houdini</td>\n",
       "      <td>2011</td>\n",
       "    </tr>\n",
       "    <tr>\n",
       "      <th>129953</th>\n",
       "      <td>New Zealand</td>\n",
       "      <td>25.0</td>\n",
       "      <td>Hawke's Bay</td>\n",
       "      <td>NaN</td>\n",
       "      <td>NaN</td>\n",
       "      <td>Joe Czerwinski</td>\n",
       "      <td>@JoeCz</td>\n",
       "      <td>Cabernet Merlot</td>\n",
       "      <td>Mills Reef</td>\n",
       "      <td>2011</td>\n",
       "    </tr>\n",
       "    <tr>\n",
       "      <th>129954</th>\n",
       "      <td>New Zealand</td>\n",
       "      <td>15.0</td>\n",
       "      <td>Marlborough</td>\n",
       "      <td>NaN</td>\n",
       "      <td>NaN</td>\n",
       "      <td>Joe Czerwinski</td>\n",
       "      <td>@JoeCz</td>\n",
       "      <td>Pinot Gris</td>\n",
       "      <td>Ara</td>\n",
       "      <td>2013</td>\n",
       "    </tr>\n",
       "    <tr>\n",
       "      <th>129955</th>\n",
       "      <td>New Zealand</td>\n",
       "      <td>40.0</td>\n",
       "      <td>Marlborough</td>\n",
       "      <td>NaN</td>\n",
       "      <td>NaN</td>\n",
       "      <td>Joe Czerwinski</td>\n",
       "      <td>@JoeCz</td>\n",
       "      <td>Chardonnay</td>\n",
       "      <td>Dog Point</td>\n",
       "      <td>2012</td>\n",
       "    </tr>\n",
       "    <tr>\n",
       "      <th>129956</th>\n",
       "      <td>New Zealand</td>\n",
       "      <td>19.0</td>\n",
       "      <td>Hawke's Bay</td>\n",
       "      <td>NaN</td>\n",
       "      <td>NaN</td>\n",
       "      <td>Joe Czerwinski</td>\n",
       "      <td>@JoeCz</td>\n",
       "      <td>Bordeaux-style Red Blend</td>\n",
       "      <td>Esk Valley</td>\n",
       "      <td>2011</td>\n",
       "    </tr>\n",
       "    <tr>\n",
       "      <th>129957</th>\n",
       "      <td>Spain</td>\n",
       "      <td>17.0</td>\n",
       "      <td>Northern Spain</td>\n",
       "      <td>Rioja</td>\n",
       "      <td>NaN</td>\n",
       "      <td>Michael Schachner</td>\n",
       "      <td>@wineschach</td>\n",
       "      <td>Tempranillo Blend</td>\n",
       "      <td>Viñedos Real Rubio</td>\n",
       "      <td>2010</td>\n",
       "    </tr>\n",
       "    <tr>\n",
       "      <th>129958</th>\n",
       "      <td>New Zealand</td>\n",
       "      <td>35.0</td>\n",
       "      <td>Hawke's Bay</td>\n",
       "      <td>NaN</td>\n",
       "      <td>NaN</td>\n",
       "      <td>Joe Czerwinski</td>\n",
       "      <td>@JoeCz</td>\n",
       "      <td>Bordeaux-style Red Blend</td>\n",
       "      <td>Babich</td>\n",
       "      <td>2010</td>\n",
       "    </tr>\n",
       "    <tr>\n",
       "      <th>129959</th>\n",
       "      <td>France</td>\n",
       "      <td>57.0</td>\n",
       "      <td>Alsace</td>\n",
       "      <td>Alsace</td>\n",
       "      <td>NaN</td>\n",
       "      <td>Roger Voss</td>\n",
       "      <td>@vossroger</td>\n",
       "      <td>Pinot Gris</td>\n",
       "      <td>Cave de Turckheim</td>\n",
       "      <td>2010</td>\n",
       "    </tr>\n",
       "    <tr>\n",
       "      <th>129960</th>\n",
       "      <td>Portugal</td>\n",
       "      <td>48.0</td>\n",
       "      <td>Douro</td>\n",
       "      <td>NaN</td>\n",
       "      <td>NaN</td>\n",
       "      <td>Roger Voss</td>\n",
       "      <td>@vossroger</td>\n",
       "      <td>Pinot Noir</td>\n",
       "      <td>Caves Transmontanas</td>\n",
       "      <td>2006</td>\n",
       "    </tr>\n",
       "    <tr>\n",
       "      <th>129961</th>\n",
       "      <td>Italy</td>\n",
       "      <td>30.0</td>\n",
       "      <td>Sicily &amp; Sardinia</td>\n",
       "      <td>Sicilia</td>\n",
       "      <td>NaN</td>\n",
       "      <td>Kerin O’Keefe</td>\n",
       "      <td>@kerinokeefe</td>\n",
       "      <td>Frappato</td>\n",
       "      <td>COS</td>\n",
       "      <td>2013</td>\n",
       "    </tr>\n",
       "    <tr>\n",
       "      <th>129962</th>\n",
       "      <td>Italy</td>\n",
       "      <td>40.0</td>\n",
       "      <td>Sicily &amp; Sardinia</td>\n",
       "      <td>Sicilia</td>\n",
       "      <td>NaN</td>\n",
       "      <td>Kerin O’Keefe</td>\n",
       "      <td>@kerinokeefe</td>\n",
       "      <td>Nero d'Avola</td>\n",
       "      <td>Cusumano</td>\n",
       "      <td>2012</td>\n",
       "    </tr>\n",
       "    <tr>\n",
       "      <th>129963</th>\n",
       "      <td>Israel</td>\n",
       "      <td>20.0</td>\n",
       "      <td>Galilee</td>\n",
       "      <td>NaN</td>\n",
       "      <td>NaN</td>\n",
       "      <td>Mike DeSimone</td>\n",
       "      <td>@worldwineguys</td>\n",
       "      <td>Cabernet Sauvignon</td>\n",
       "      <td>Dalton</td>\n",
       "      <td>2012</td>\n",
       "    </tr>\n",
       "    <tr>\n",
       "      <th>129964</th>\n",
       "      <td>France</td>\n",
       "      <td>NaN</td>\n",
       "      <td>Alsace</td>\n",
       "      <td>Alsace</td>\n",
       "      <td>NaN</td>\n",
       "      <td>Roger Voss</td>\n",
       "      <td>@vossroger</td>\n",
       "      <td>Gewürztraminer</td>\n",
       "      <td>Domaine Ehrhart</td>\n",
       "      <td>2013</td>\n",
       "    </tr>\n",
       "    <tr>\n",
       "      <th>129965</th>\n",
       "      <td>France</td>\n",
       "      <td>28.0</td>\n",
       "      <td>Alsace</td>\n",
       "      <td>Alsace</td>\n",
       "      <td>NaN</td>\n",
       "      <td>Roger Voss</td>\n",
       "      <td>@vossroger</td>\n",
       "      <td>Pinot Gris</td>\n",
       "      <td>Domaine Rieflé-Landmann</td>\n",
       "      <td>2013</td>\n",
       "    </tr>\n",
       "    <tr>\n",
       "      <th>129966</th>\n",
       "      <td>Germany</td>\n",
       "      <td>28.0</td>\n",
       "      <td>Mosel</td>\n",
       "      <td>NaN</td>\n",
       "      <td>NaN</td>\n",
       "      <td>Anna Lee C. Iijima</td>\n",
       "      <td>NaN</td>\n",
       "      <td>Riesling</td>\n",
       "      <td>Dr. H. Thanisch (Erben Müller-Burggraef)</td>\n",
       "      <td>2013</td>\n",
       "    </tr>\n",
       "    <tr>\n",
       "      <th>129967</th>\n",
       "      <td>US</td>\n",
       "      <td>75.0</td>\n",
       "      <td>Oregon</td>\n",
       "      <td>Oregon</td>\n",
       "      <td>Oregon Other</td>\n",
       "      <td>Paul Gregutt</td>\n",
       "      <td>@paulgwine</td>\n",
       "      <td>Pinot Noir</td>\n",
       "      <td>Citation</td>\n",
       "      <td>2004</td>\n",
       "    </tr>\n",
       "    <tr>\n",
       "      <th>129968</th>\n",
       "      <td>France</td>\n",
       "      <td>30.0</td>\n",
       "      <td>Alsace</td>\n",
       "      <td>Alsace</td>\n",
       "      <td>NaN</td>\n",
       "      <td>Roger Voss</td>\n",
       "      <td>@vossroger</td>\n",
       "      <td>Gewürztraminer</td>\n",
       "      <td>Domaine Gresser</td>\n",
       "      <td>2013</td>\n",
       "    </tr>\n",
       "    <tr>\n",
       "      <th>129969</th>\n",
       "      <td>France</td>\n",
       "      <td>32.0</td>\n",
       "      <td>Alsace</td>\n",
       "      <td>Alsace</td>\n",
       "      <td>NaN</td>\n",
       "      <td>Roger Voss</td>\n",
       "      <td>@vossroger</td>\n",
       "      <td>Pinot Gris</td>\n",
       "      <td>Domaine Marcel Deiss</td>\n",
       "      <td>2012</td>\n",
       "    </tr>\n",
       "    <tr>\n",
       "      <th>129970</th>\n",
       "      <td>France</td>\n",
       "      <td>21.0</td>\n",
       "      <td>Alsace</td>\n",
       "      <td>Alsace</td>\n",
       "      <td>NaN</td>\n",
       "      <td>Roger Voss</td>\n",
       "      <td>@vossroger</td>\n",
       "      <td>Gewürztraminer</td>\n",
       "      <td>Domaine Schoffit</td>\n",
       "      <td>2012</td>\n",
       "    </tr>\n",
       "  </tbody>\n",
       "</table>\n",
       "<p>129971 rows × 10 columns</p>\n",
       "</div>"
      ],
      "text/plain": [
       "            country  price           province               region_1  \\\n",
       "0             Italy    NaN  Sicily & Sardinia                   Etna   \n",
       "1          Portugal   15.0              Douro                    NaN   \n",
       "2                US   14.0             Oregon      Willamette Valley   \n",
       "3                US   13.0           Michigan    Lake Michigan Shore   \n",
       "4                US   65.0             Oregon      Willamette Valley   \n",
       "5             Spain   15.0     Northern Spain                Navarra   \n",
       "6             Italy   16.0  Sicily & Sardinia               Vittoria   \n",
       "7            France   24.0             Alsace                 Alsace   \n",
       "8           Germany   12.0        Rheinhessen                    NaN   \n",
       "9            France   27.0             Alsace                 Alsace   \n",
       "10               US   19.0         California            Napa Valley   \n",
       "11           France   30.0             Alsace                 Alsace   \n",
       "12               US   34.0         California       Alexander Valley   \n",
       "13            Italy    NaN  Sicily & Sardinia                   Etna   \n",
       "14               US   12.0         California          Central Coast   \n",
       "15          Germany   24.0              Mosel                    NaN   \n",
       "16        Argentina   30.0              Other               Cafayate   \n",
       "17        Argentina   13.0   Mendoza Province                Mendoza   \n",
       "18            Spain   28.0     Northern Spain       Ribera del Duero   \n",
       "19               US   32.0           Virginia               Virginia   \n",
       "20               US   23.0           Virginia               Virginia   \n",
       "21               US   20.0             Oregon                 Oregon   \n",
       "22            Italy   19.0  Sicily & Sardinia                Sicilia   \n",
       "23               US   22.0         California            Paso Robles   \n",
       "24            Italy   35.0  Sicily & Sardinia                Sicilia   \n",
       "25               US   69.0         California           Sonoma Coast   \n",
       "26            Italy   13.0  Sicily & Sardinia        Terre Siciliane   \n",
       "27            Italy   10.0  Sicily & Sardinia        Terre Siciliane   \n",
       "28            Italy   17.0  Sicily & Sardinia  Cerasuolo di Vittoria   \n",
       "29               US   16.0         California             Clarksburg   \n",
       "...             ...    ...                ...                    ...   \n",
       "129941           US   20.0         California       Mendocino County   \n",
       "129942           US   35.0         California          Sonoma County   \n",
       "129943        Italy   29.0  Sicily & Sardinia                Sicilia   \n",
       "129944       Israel   25.0            Galilee                    NaN   \n",
       "129945           US   20.0         California      Santa Ynez Valley   \n",
       "129946      Germany   17.0              Mosel                    NaN   \n",
       "129947        Italy   20.0  Sicily & Sardinia        Terre Siciliane   \n",
       "129948    Argentina   43.0              Other               San Juan   \n",
       "129949           US   35.0         California            Napa Valley   \n",
       "129950           US   35.0         California            Napa Valley   \n",
       "129951       France   30.0             Alsace                 Alsace   \n",
       "129952           US   22.0         California          Chiles Valley   \n",
       "129953  New Zealand   25.0        Hawke's Bay                    NaN   \n",
       "129954  New Zealand   15.0        Marlborough                    NaN   \n",
       "129955  New Zealand   40.0        Marlborough                    NaN   \n",
       "129956  New Zealand   19.0        Hawke's Bay                    NaN   \n",
       "129957        Spain   17.0     Northern Spain                  Rioja   \n",
       "129958  New Zealand   35.0        Hawke's Bay                    NaN   \n",
       "129959       France   57.0             Alsace                 Alsace   \n",
       "129960     Portugal   48.0              Douro                    NaN   \n",
       "129961        Italy   30.0  Sicily & Sardinia                Sicilia   \n",
       "129962        Italy   40.0  Sicily & Sardinia                Sicilia   \n",
       "129963       Israel   20.0            Galilee                    NaN   \n",
       "129964       France    NaN             Alsace                 Alsace   \n",
       "129965       France   28.0             Alsace                 Alsace   \n",
       "129966      Germany   28.0              Mosel                    NaN   \n",
       "129967           US   75.0             Oregon                 Oregon   \n",
       "129968       France   30.0             Alsace                 Alsace   \n",
       "129969       France   32.0             Alsace                 Alsace   \n",
       "129970       France   21.0             Alsace                 Alsace   \n",
       "\n",
       "                 region_2         taster_name taster_twitter_handle  \\\n",
       "0                     NaN       Kerin O’Keefe          @kerinokeefe   \n",
       "1                     NaN          Roger Voss            @vossroger   \n",
       "2       Willamette Valley        Paul Gregutt           @paulgwine    \n",
       "3                     NaN  Alexander Peartree                   NaN   \n",
       "4       Willamette Valley        Paul Gregutt           @paulgwine    \n",
       "5                     NaN   Michael Schachner           @wineschach   \n",
       "6                     NaN       Kerin O’Keefe          @kerinokeefe   \n",
       "7                     NaN          Roger Voss            @vossroger   \n",
       "8                     NaN  Anna Lee C. Iijima                   NaN   \n",
       "9                     NaN          Roger Voss            @vossroger   \n",
       "10                   Napa      Virginie Boone               @vboone   \n",
       "11                    NaN          Roger Voss            @vossroger   \n",
       "12                 Sonoma      Virginie Boone               @vboone   \n",
       "13                    NaN       Kerin O’Keefe          @kerinokeefe   \n",
       "14          Central Coast       Matt Kettmann         @mattkettmann   \n",
       "15                    NaN  Anna Lee C. Iijima                   NaN   \n",
       "16                    NaN   Michael Schachner           @wineschach   \n",
       "17                    NaN   Michael Schachner           @wineschach   \n",
       "18                    NaN   Michael Schachner           @wineschach   \n",
       "19                    NaN  Alexander Peartree                   NaN   \n",
       "20                    NaN  Alexander Peartree                   NaN   \n",
       "21           Oregon Other        Paul Gregutt           @paulgwine    \n",
       "22                    NaN       Kerin O’Keefe          @kerinokeefe   \n",
       "23          Central Coast       Matt Kettmann         @mattkettmann   \n",
       "24                    NaN       Kerin O’Keefe          @kerinokeefe   \n",
       "25                 Sonoma      Virginie Boone               @vboone   \n",
       "26                    NaN       Kerin O’Keefe          @kerinokeefe   \n",
       "27                    NaN       Kerin O’Keefe          @kerinokeefe   \n",
       "28                    NaN       Kerin O’Keefe          @kerinokeefe   \n",
       "29         Central Valley      Virginie Boone               @vboone   \n",
       "...                   ...                 ...                   ...   \n",
       "129941                NaN      Virginie Boone               @vboone   \n",
       "129942             Sonoma      Virginie Boone               @vboone   \n",
       "129943                NaN       Kerin O’Keefe          @kerinokeefe   \n",
       "129944                NaN       Mike DeSimone        @worldwineguys   \n",
       "129945      Central Coast       Matt Kettmann         @mattkettmann   \n",
       "129946                NaN  Anna Lee C. Iijima                   NaN   \n",
       "129947                NaN       Kerin O’Keefe          @kerinokeefe   \n",
       "129948                NaN   Michael Schachner           @wineschach   \n",
       "129949               Napa      Virginie Boone               @vboone   \n",
       "129950               Napa      Virginie Boone               @vboone   \n",
       "129951                NaN          Roger Voss            @vossroger   \n",
       "129952               Napa      Virginie Boone               @vboone   \n",
       "129953                NaN      Joe Czerwinski                @JoeCz   \n",
       "129954                NaN      Joe Czerwinski                @JoeCz   \n",
       "129955                NaN      Joe Czerwinski                @JoeCz   \n",
       "129956                NaN      Joe Czerwinski                @JoeCz   \n",
       "129957                NaN   Michael Schachner           @wineschach   \n",
       "129958                NaN      Joe Czerwinski                @JoeCz   \n",
       "129959                NaN          Roger Voss            @vossroger   \n",
       "129960                NaN          Roger Voss            @vossroger   \n",
       "129961                NaN       Kerin O’Keefe          @kerinokeefe   \n",
       "129962                NaN       Kerin O’Keefe          @kerinokeefe   \n",
       "129963                NaN       Mike DeSimone        @worldwineguys   \n",
       "129964                NaN          Roger Voss            @vossroger   \n",
       "129965                NaN          Roger Voss            @vossroger   \n",
       "129966                NaN  Anna Lee C. Iijima                   NaN   \n",
       "129967       Oregon Other        Paul Gregutt           @paulgwine    \n",
       "129968                NaN          Roger Voss            @vossroger   \n",
       "129969                NaN          Roger Voss            @vossroger   \n",
       "129970                NaN          Roger Voss            @vossroger   \n",
       "\n",
       "                         variety                                    winery  \\\n",
       "0                    White Blend                                   Nicosia   \n",
       "1                 Portuguese Red                       Quinta dos Avidagos   \n",
       "2                     Pinot Gris                                 Rainstorm   \n",
       "3                       Riesling                                St. Julian   \n",
       "4                     Pinot Noir                              Sweet Cheeks   \n",
       "5             Tempranillo-Merlot                                    Tandem   \n",
       "6                       Frappato                           Terre di Giurfo   \n",
       "7                 Gewürztraminer                                  Trimbach   \n",
       "8                 Gewürztraminer                               Heinz Eifel   \n",
       "9                     Pinot Gris                        Jean-Baptiste Adam   \n",
       "10            Cabernet Sauvignon                        Kirkland Signature   \n",
       "11                Gewürztraminer                                Leon Beyer   \n",
       "12            Cabernet Sauvignon                          Louis M. Martini   \n",
       "13             Nerello Mascalese                       Masseria Setteporte   \n",
       "14                    Chardonnay                                  Mirassou   \n",
       "15                      Riesling                           Richard Böcking   \n",
       "16                        Malbec                             Felix Lavaque   \n",
       "17                        Malbec                             Gaucho Andino   \n",
       "18             Tempranillo Blend                                  Pradorey   \n",
       "19                      Meritage                               Quiévremont   \n",
       "20                     Red Blend                               Quiévremont   \n",
       "21                    Pinot Noir                                   Acrobat   \n",
       "22                   White Blend                        Baglio di Pianetto   \n",
       "23                        Merlot                                   Bianchi   \n",
       "24                  Nero d'Avola                                 Canicattì   \n",
       "25                    Pinot Noir                       Castello di Amorosa   \n",
       "26                   White Blend                                  Stemmari   \n",
       "27                  Nero d'Avola                                  Stemmari   \n",
       "28                     Red Blend                           Terre di Giurfo   \n",
       "29                  Chenin Blanc                   Clarksburg Wine Company   \n",
       "...                          ...                                       ...   \n",
       "129941                Chardonnay                                   Apriori   \n",
       "129942        Cabernet Sauvignon                                  Arrowood   \n",
       "129943                 Red Blend           Baglio del Cristo di Campobello   \n",
       "129944                    Shiraz                                    Barkan   \n",
       "129945              Chenin Blanc                                 Birichino   \n",
       "129946                  Riesling              Bischöfliche Weingüter Trier   \n",
       "129947                 Red Blend                  Feudo Principi di Butera   \n",
       "129948                    Malbec                           Finca Las Moras   \n",
       "129949                Chardonnay                             Flora Springs   \n",
       "129950                 Zinfandel                                    Hendry   \n",
       "129951            Gewürztraminer                         Henri Schoenheitz   \n",
       "129952                 Zinfandel                                   Houdini   \n",
       "129953           Cabernet Merlot                                Mills Reef   \n",
       "129954                Pinot Gris                                       Ara   \n",
       "129955                Chardonnay                                 Dog Point   \n",
       "129956  Bordeaux-style Red Blend                                Esk Valley   \n",
       "129957         Tempranillo Blend                        Viñedos Real Rubio   \n",
       "129958  Bordeaux-style Red Blend                                    Babich   \n",
       "129959                Pinot Gris                         Cave de Turckheim   \n",
       "129960                Pinot Noir                       Caves Transmontanas   \n",
       "129961                  Frappato                                       COS   \n",
       "129962              Nero d'Avola                                  Cusumano   \n",
       "129963        Cabernet Sauvignon                                    Dalton   \n",
       "129964            Gewürztraminer                           Domaine Ehrhart   \n",
       "129965                Pinot Gris                   Domaine Rieflé-Landmann   \n",
       "129966                  Riesling  Dr. H. Thanisch (Erben Müller-Burggraef)   \n",
       "129967                Pinot Noir                                  Citation   \n",
       "129968            Gewürztraminer                           Domaine Gresser   \n",
       "129969                Pinot Gris                      Domaine Marcel Deiss   \n",
       "129970            Gewürztraminer                          Domaine Schoffit   \n",
       "\n",
       "       vintage  \n",
       "0         2013  \n",
       "1         2011  \n",
       "2         2013  \n",
       "3         2013  \n",
       "4         2012  \n",
       "5         2011  \n",
       "6         2013  \n",
       "7         2012  \n",
       "8         2013  \n",
       "9         2012  \n",
       "10        2011  \n",
       "11        2012  \n",
       "12        2012  \n",
       "13        2012  \n",
       "14        2012  \n",
       "15        2013  \n",
       "16        2010  \n",
       "17        2011  \n",
       "18        2010  \n",
       "19        2012  \n",
       "20        2012  \n",
       "21        2013  \n",
       "22        2007  \n",
       "23        2011  \n",
       "24        2009  \n",
       "25        2011  \n",
       "26        2013  \n",
       "27        2013  \n",
       "28        2011  \n",
       "29        2010  \n",
       "...        ...  \n",
       "129941    2013  \n",
       "129942    2010  \n",
       "129943    2012  \n",
       "129944    2011  \n",
       "129945    2013  \n",
       "129946    2013  \n",
       "129947    2012  \n",
       "129948    2010  \n",
       "129949    2013  \n",
       "129950    2012  \n",
       "129951    2012  \n",
       "129952    2011  \n",
       "129953    2011  \n",
       "129954    2013  \n",
       "129955    2012  \n",
       "129956    2011  \n",
       "129957    2010  \n",
       "129958    2010  \n",
       "129959    2010  \n",
       "129960    2006  \n",
       "129961    2013  \n",
       "129962    2012  \n",
       "129963    2012  \n",
       "129964    2013  \n",
       "129965    2013  \n",
       "129966    2013  \n",
       "129967    2004  \n",
       "129968    2013  \n",
       "129969    2012  \n",
       "129970    2012  \n",
       "\n",
       "[129971 rows x 10 columns]"
      ]
     },
     "execution_count": 61,
     "metadata": {},
     "output_type": "execute_result"
    }
   ],
   "source": [
    "raw_reduced_features = feature_data.drop(labels=['description', 'designation', 'title'], axis=1)\n",
    "raw_reduced_features['vintage'] = vintage\n",
    "raw_reduced_features"
   ]
  },
  {
   "cell_type": "code",
   "execution_count": 62,
   "metadata": {},
   "outputs": [
    {
     "name": "stdout",
     "output_type": "stream",
     "text": [
      "Number of rows with no null values: 82847\n"
     ]
    }
   ],
   "source": [
    "df_non_null_reduced_features = raw_reduced_features.dropna(subset=['country', 'province','region_1','taster_name','variety','winery', 'vintage'], axis='index', how='any')\n",
    "print('Number of rows with no null values: {}'.format(df_non_null_reduced_features.shape[0]))"
   ]
  },
  {
   "cell_type": "markdown",
   "metadata": {},
   "source": [
    "That's still a lot of rows, although it's only ~64% of the dataset. I am sure that a version with all the features included in binarised or encoded forms will result in more accurate models, but for the purposes of completeness I will use this entirely non-null, smaller dataset to see what the actual difference is. As they say: _trust, but verify_. \n",
    "\n",
    "#### Encoding\n",
    "As for representing the categorical variables, I've decided to create two different representations of the same data - one with one hot encoding and one with ordinal numerical encoding. My reason for this is that ordinal numerical encoding keeps dimensionality down but implicitly introduces ordinality to non-ordinal data, while one hot encoding doesn't introduce any new relationship between the data, but does create a large number of new dimensions and can make parts of datasets sparse, and I don't know which is better in this case. I will try both and learn what works best in this case. \n",
    "\n",
    "Unfortunately, after doing some maths, I've realised that one hot encoding would add approximately 19213 dimensions to the dataset, and make it incredibly sparse. I'm going to attempt it, but the machine I'm using for this can't handle processing datasets so large, so it probably won't work. As a compromise, I'll create another version of the dataset where I'll use one hot encoding for some of the categorical features with fewer unique values, such as taster_name and country. \n",
    "\n",
    "#### Null values\n",
    "The first thing I'm going to do with null values is leave them all as zero. If results are poor, then I'll consider some form of imputation, but since doing so always has tradeoffs and the lack of data could be relevant in of itself, I'll do nothing for it in this case unless I really need to. "
   ]
  },
  {
   "cell_type": "code",
   "execution_count": 63,
   "metadata": {},
   "outputs": [],
   "source": [
    "categorical_features_for_encoding = ['country', 'province', 'region_1', 'region_2', 'taster_name', 'taster_twitter_handle', 'variety', 'winery']"
   ]
  },
  {
   "cell_type": "markdown",
   "metadata": {},
   "source": [
    "### Features"
   ]
  },
  {
   "cell_type": "code",
   "execution_count": 64,
   "metadata": {},
   "outputs": [],
   "source": [
    "country = raw_reduced_features.country\n",
    "price = raw_reduced_features.price\n",
    "province = raw_reduced_features.province\n",
    "region_1 = raw_reduced_features.region_1\n",
    "region_2 = raw_reduced_features.region_2\n",
    "taster_name = raw_reduced_features.taster_name\n",
    "taster_twitter_handle = raw_reduced_features.taster_twitter_handle\n",
    "variety = raw_reduced_features.variety\n",
    "winery = raw_reduced_features.winery\n",
    "vintage = raw_reduced_features.vintage"
   ]
  },
  {
   "cell_type": "markdown",
   "metadata": {},
   "source": [
    "### Ordinal numerical encoding"
   ]
  },
  {
   "cell_type": "code",
   "execution_count": 65,
   "metadata": {},
   "outputs": [
    {
     "name": "stdout",
     "output_type": "stream",
     "text": [
      "0       Italy\n",
      "1    Portugal\n",
      "2          US\n",
      "3          US\n",
      "4          US\n",
      "5       Spain\n",
      "6       Italy\n",
      "7      France\n",
      "8     Germany\n",
      "9      France\n",
      "Name: country, dtype: object\n",
      "['Italy' 'Portugal' 'US' 'US' 'US' 'Spain' 'Italy' 'France' 'Germany'\n",
      " 'France']\n"
     ]
    }
   ],
   "source": [
    "# country\n",
    "label_encoder_country = LabelEncoder()\n",
    "label_encoder_country.fit(country.astype(str))\n",
    "\n",
    "encoded_countries = label_encoder_country.transform(country.astype(str))\n",
    "\n",
    "print(country[:10])\n",
    "print(label_encoder_country.inverse_transform(encoded_countries[:10]))"
   ]
  },
  {
   "cell_type": "code",
   "execution_count": 66,
   "metadata": {},
   "outputs": [
    {
     "name": "stdout",
     "output_type": "stream",
     "text": [
      "0    Sicily & Sardinia\n",
      "1                Douro\n",
      "2               Oregon\n",
      "3             Michigan\n",
      "4               Oregon\n",
      "5       Northern Spain\n",
      "6    Sicily & Sardinia\n",
      "7               Alsace\n",
      "8          Rheinhessen\n",
      "9               Alsace\n",
      "Name: province, dtype: object\n",
      "['Sicily & Sardinia' 'Douro' 'Oregon' 'Michigan' 'Oregon' 'Northern Spain'\n",
      " 'Sicily & Sardinia' 'Alsace' 'Rheinhessen' 'Alsace']\n"
     ]
    }
   ],
   "source": [
    "# province\n",
    "label_encoder_province = LabelEncoder()\n",
    "label_encoder_province.fit(province.astype(str))\n",
    "\n",
    "encoded_provinces = label_encoder_province.transform(province.astype(str))\n",
    "\n",
    "print(province[:10])\n",
    "print(label_encoder_province.inverse_transform(encoded_provinces[:10]))"
   ]
  },
  {
   "cell_type": "code",
   "execution_count": 67,
   "metadata": {},
   "outputs": [
    {
     "name": "stdout",
     "output_type": "stream",
     "text": [
      "0                   Etna\n",
      "1                    NaN\n",
      "2      Willamette Valley\n",
      "3    Lake Michigan Shore\n",
      "4      Willamette Valley\n",
      "5                Navarra\n",
      "6               Vittoria\n",
      "7                 Alsace\n",
      "8                    NaN\n",
      "9                 Alsace\n",
      "Name: region_1, dtype: object\n",
      "['Etna' 'nan' 'Willamette Valley' 'Lake Michigan Shore'\n",
      " 'Willamette Valley' 'Navarra' 'Vittoria' 'Alsace' 'nan' 'Alsace']\n"
     ]
    }
   ],
   "source": [
    "# region_1\n",
    "label_encoder_region_1 = LabelEncoder()\n",
    "label_encoder_region_1.fit(region_1.astype(str))\n",
    "\n",
    "encoded_region_1s = label_encoder_region_1.transform(region_1.astype(str))\n",
    "\n",
    "print(region_1[:10])\n",
    "print(label_encoder_region_1.inverse_transform(encoded_region_1s[:10]))"
   ]
  },
  {
   "cell_type": "code",
   "execution_count": 68,
   "metadata": {},
   "outputs": [
    {
     "name": "stdout",
     "output_type": "stream",
     "text": [
      "0                  NaN\n",
      "1                  NaN\n",
      "2    Willamette Valley\n",
      "3                  NaN\n",
      "4    Willamette Valley\n",
      "5                  NaN\n",
      "6                  NaN\n",
      "7                  NaN\n",
      "8                  NaN\n",
      "9                  NaN\n",
      "Name: region_2, dtype: object\n",
      "['nan' 'nan' 'Willamette Valley' 'nan' 'Willamette Valley' 'nan' 'nan'\n",
      " 'nan' 'nan' 'nan']\n"
     ]
    }
   ],
   "source": [
    "# region_2\n",
    "label_encoder_region_2 = LabelEncoder()\n",
    "label_encoder_region_2.fit(region_2.astype(str))\n",
    "\n",
    "encoded_region_2s = label_encoder_region_2.transform(region_2.astype(str))\n",
    "\n",
    "print(region_2[:10])\n",
    "print(label_encoder_region_2.inverse_transform(encoded_region_2s[:10]))"
   ]
  },
  {
   "cell_type": "code",
   "execution_count": 69,
   "metadata": {},
   "outputs": [
    {
     "name": "stdout",
     "output_type": "stream",
     "text": [
      "0         Kerin O’Keefe\n",
      "1            Roger Voss\n",
      "2          Paul Gregutt\n",
      "3    Alexander Peartree\n",
      "4          Paul Gregutt\n",
      "5     Michael Schachner\n",
      "6         Kerin O’Keefe\n",
      "7            Roger Voss\n",
      "8    Anna Lee C. Iijima\n",
      "9            Roger Voss\n",
      "Name: taster_name, dtype: object\n",
      "['Kerin O’Keefe' 'Roger Voss' 'Paul Gregutt' 'Alexander Peartree'\n",
      " 'Paul Gregutt' 'Michael Schachner' 'Kerin O’Keefe' 'Roger Voss'\n",
      " 'Anna Lee C. Iijima' 'Roger Voss']\n"
     ]
    }
   ],
   "source": [
    "# taster_name\n",
    "label_encoder_taster_name = LabelEncoder()\n",
    "label_encoder_taster_name.fit(taster_name.astype(str))\n",
    "\n",
    "encoded_taster_names = label_encoder_taster_name.transform(taster_name.astype(str))\n",
    "\n",
    "print(taster_name[:10])\n",
    "print(label_encoder_taster_name.inverse_transform(encoded_taster_names[:10]))"
   ]
  },
  {
   "cell_type": "code",
   "execution_count": 70,
   "metadata": {},
   "outputs": [
    {
     "name": "stdout",
     "output_type": "stream",
     "text": [
      "0    @kerinokeefe\n",
      "1      @vossroger\n",
      "2     @paulgwine \n",
      "3             NaN\n",
      "4     @paulgwine \n",
      "5     @wineschach\n",
      "6    @kerinokeefe\n",
      "7      @vossroger\n",
      "8             NaN\n",
      "9      @vossroger\n",
      "Name: taster_twitter_handle, dtype: object\n",
      "['@kerinokeefe' '@vossroger' '@paulgwine\\xa0' 'nan' '@paulgwine\\xa0'\n",
      " '@wineschach' '@kerinokeefe' '@vossroger' 'nan' '@vossroger']\n"
     ]
    }
   ],
   "source": [
    "# taster_twitter_handle\n",
    "label_encoder_taster_twitter_handle = LabelEncoder()\n",
    "label_encoder_taster_twitter_handle.fit(taster_twitter_handle.astype(str))\n",
    "\n",
    "encoded_taster_twitter_handles = label_encoder_taster_twitter_handle.transform(taster_twitter_handle.astype(str))\n",
    "\n",
    "print(taster_twitter_handle[:10])\n",
    "print(label_encoder_taster_twitter_handle.inverse_transform(encoded_taster_twitter_handles[:10]))"
   ]
  },
  {
   "cell_type": "code",
   "execution_count": 71,
   "metadata": {},
   "outputs": [
    {
     "name": "stdout",
     "output_type": "stream",
     "text": [
      "0           White Blend\n",
      "1        Portuguese Red\n",
      "2            Pinot Gris\n",
      "3              Riesling\n",
      "4            Pinot Noir\n",
      "5    Tempranillo-Merlot\n",
      "6              Frappato\n",
      "7        Gewürztraminer\n",
      "8        Gewürztraminer\n",
      "9            Pinot Gris\n",
      "Name: variety, dtype: object\n",
      "['White Blend' 'Portuguese Red' 'Pinot Gris' 'Riesling' 'Pinot Noir'\n",
      " 'Tempranillo-Merlot' 'Frappato' 'Gewürztraminer' 'Gewürztraminer'\n",
      " 'Pinot Gris']\n"
     ]
    }
   ],
   "source": [
    "# variety\n",
    "label_encoder_variety = LabelEncoder()\n",
    "label_encoder_variety.fit(variety.astype(str))\n",
    "\n",
    "encoded_varieties = label_encoder_variety.transform(variety.astype(str))\n",
    "\n",
    "print(variety[:10])\n",
    "print(label_encoder_variety.inverse_transform(encoded_varieties[:10]))"
   ]
  },
  {
   "cell_type": "code",
   "execution_count": 72,
   "metadata": {},
   "outputs": [
    {
     "name": "stdout",
     "output_type": "stream",
     "text": [
      "0                Nicosia\n",
      "1    Quinta dos Avidagos\n",
      "2              Rainstorm\n",
      "3             St. Julian\n",
      "4           Sweet Cheeks\n",
      "5                 Tandem\n",
      "6        Terre di Giurfo\n",
      "7               Trimbach\n",
      "8            Heinz Eifel\n",
      "9     Jean-Baptiste Adam\n",
      "Name: winery, dtype: object\n",
      "['Nicosia' 'Quinta dos Avidagos' 'Rainstorm' 'St. Julian' 'Sweet Cheeks'\n",
      " 'Tandem' 'Terre di Giurfo' 'Trimbach' 'Heinz Eifel' 'Jean-Baptiste Adam']\n"
     ]
    }
   ],
   "source": [
    "# winery\n",
    "label_encoder_winery = LabelEncoder()\n",
    "label_encoder_winery.fit(winery.astype(str))\n",
    "\n",
    "encoded_wineries = label_encoder_winery.transform(winery.astype(str))\n",
    "\n",
    "print(winery[:10])\n",
    "print(label_encoder_winery.inverse_transform(encoded_wineries[:10]))"
   ]
  },
  {
   "cell_type": "code",
   "execution_count": 73,
   "metadata": {},
   "outputs": [
    {
     "name": "stdout",
     "output_type": "stream",
     "text": [
      "(129971, 10)\n"
     ]
    },
    {
     "data": {
      "text/html": [
       "<div>\n",
       "<style scoped>\n",
       "    .dataframe tbody tr th:only-of-type {\n",
       "        vertical-align: middle;\n",
       "    }\n",
       "\n",
       "    .dataframe tbody tr th {\n",
       "        vertical-align: top;\n",
       "    }\n",
       "\n",
       "    .dataframe thead th {\n",
       "        text-align: right;\n",
       "    }\n",
       "</style>\n",
       "<table border=\"1\" class=\"dataframe\">\n",
       "  <thead>\n",
       "    <tr style=\"text-align: right;\">\n",
       "      <th></th>\n",
       "      <th>country</th>\n",
       "      <th>price</th>\n",
       "      <th>province</th>\n",
       "      <th>region_1</th>\n",
       "      <th>region_2</th>\n",
       "      <th>taster_name</th>\n",
       "      <th>taster_twitter_handle</th>\n",
       "      <th>variety</th>\n",
       "      <th>winery</th>\n",
       "      <th>vintage</th>\n",
       "    </tr>\n",
       "  </thead>\n",
       "  <tbody>\n",
       "    <tr>\n",
       "      <th>105424</th>\n",
       "      <td>15</td>\n",
       "      <td>35.0</td>\n",
       "      <td>11</td>\n",
       "      <td>21</td>\n",
       "      <td>17</td>\n",
       "      <td>15</td>\n",
       "      <td>10</td>\n",
       "      <td>440</td>\n",
       "      <td>9104</td>\n",
       "      <td>2010</td>\n",
       "    </tr>\n",
       "    <tr>\n",
       "      <th>30811</th>\n",
       "      <td>40</td>\n",
       "      <td>46.0</td>\n",
       "      <td>51</td>\n",
       "      <td>972</td>\n",
       "      <td>1</td>\n",
       "      <td>11</td>\n",
       "      <td>6</td>\n",
       "      <td>125</td>\n",
       "      <td>13797</td>\n",
       "      <td>2013</td>\n",
       "    </tr>\n",
       "    <tr>\n",
       "      <th>86983</th>\n",
       "      <td>22</td>\n",
       "      <td>20.0</td>\n",
       "      <td>331</td>\n",
       "      <td>424</td>\n",
       "      <td>17</td>\n",
       "      <td>9</td>\n",
       "      <td>4</td>\n",
       "      <td>690</td>\n",
       "      <td>244</td>\n",
       "      <td>2015</td>\n",
       "    </tr>\n",
       "    <tr>\n",
       "      <th>109619</th>\n",
       "      <td>40</td>\n",
       "      <td>14.0</td>\n",
       "      <td>51</td>\n",
       "      <td>185</td>\n",
       "      <td>1</td>\n",
       "      <td>19</td>\n",
       "      <td>15</td>\n",
       "      <td>125</td>\n",
       "      <td>5345</td>\n",
       "      <td>2008</td>\n",
       "    </tr>\n",
       "    <tr>\n",
       "      <th>98442</th>\n",
       "      <td>15</td>\n",
       "      <td>NaN</td>\n",
       "      <td>36</td>\n",
       "      <td>817</td>\n",
       "      <td>17</td>\n",
       "      <td>15</td>\n",
       "      <td>10</td>\n",
       "      <td>62</td>\n",
       "      <td>4071</td>\n",
       "      <td>2009</td>\n",
       "    </tr>\n",
       "  </tbody>\n",
       "</table>\n",
       "</div>"
      ],
      "text/plain": [
       "        country  price  province  region_1  region_2  taster_name  \\\n",
       "105424       15   35.0        11        21        17           15   \n",
       "30811        40   46.0        51       972         1           11   \n",
       "86983        22   20.0       331       424        17            9   \n",
       "109619       40   14.0        51       185         1           19   \n",
       "98442        15    NaN        36       817        17           15   \n",
       "\n",
       "        taster_twitter_handle  variety  winery vintage  \n",
       "105424                     10      440    9104    2010  \n",
       "30811                       6      125   13797    2013  \n",
       "86983                       4      690     244    2015  \n",
       "109619                     15      125    5345    2008  \n",
       "98442                      10       62    4071    2009  "
      ]
     },
     "execution_count": 73,
     "metadata": {},
     "output_type": "execute_result"
    }
   ],
   "source": [
    "# Label encoded feature DataFrame\n",
    "feature_data_label_encoded = feature_data.copy(deep=False)\n",
    "feature_data_label_encoded = feature_data_label_encoded.drop(labels=['description', 'designation', 'title'], axis=1)\n",
    "feature_data_label_encoded['vintage'] = vintage\n",
    "\n",
    "feature_data_label_encoded.country = encoded_countries\n",
    "feature_data_label_encoded.province = encoded_provinces\n",
    "feature_data_label_encoded.region_1 = encoded_region_1s\n",
    "feature_data_label_encoded.region_2 = encoded_region_2s\n",
    "feature_data_label_encoded.taster_name = encoded_taster_names\n",
    "feature_data_label_encoded.taster_twitter_handle = encoded_taster_twitter_handles\n",
    "feature_data_label_encoded.variety = encoded_varieties\n",
    "feature_data_label_encoded.winery = encoded_wineries\n",
    "\n",
    "print(feature_data_label_encoded.shape)\n",
    "feature_data_label_encoded.sample(5, random_state=4)"
   ]
  },
  {
   "cell_type": "markdown",
   "metadata": {},
   "source": [
    "Looks like it works. For the training, I will also standardise of price and vintage. "
   ]
  },
  {
   "cell_type": "markdown",
   "metadata": {},
   "source": [
    "### One hot encoding"
   ]
  },
  {
   "cell_type": "code",
   "execution_count": 74,
   "metadata": {},
   "outputs": [
    {
     "name": "stdout",
     "output_type": "stream",
     "text": [
      "0       Italy\n",
      "1    Portugal\n",
      "2          US\n",
      "3          US\n",
      "4          US\n",
      "5       Spain\n",
      "6       Italy\n",
      "7      France\n",
      "8     Germany\n",
      "9      France\n",
      "Name: country, dtype: object\n",
      "[['Italy']\n",
      " ['Portugal']\n",
      " ['US']\n",
      " ['US']\n",
      " ['US']\n",
      " ['Spain']\n",
      " ['Italy']\n",
      " ['France']\n",
      " ['Germany']\n",
      " ['France']]\n"
     ]
    }
   ],
   "source": [
    "# country\n",
    "one_hot_country = OneHotEncoder(sparse=False)\n",
    "one_hot_country.fit(country.astype(str).values.reshape(-1,1))\n",
    "\n",
    "one_hot_countries = one_hot_country.transform(country.astype(str).values.reshape(-1,1))\n",
    "\n",
    "print(country[:10])\n",
    "print(one_hot_country.inverse_transform(one_hot_countries[:10]))"
   ]
  },
  {
   "cell_type": "code",
   "execution_count": 75,
   "metadata": {},
   "outputs": [
    {
     "name": "stdout",
     "output_type": "stream",
     "text": [
      "0       Italy\n",
      "1    Portugal\n",
      "2          US\n",
      "3          US\n",
      "4          US\n",
      "5       Spain\n",
      "6       Italy\n",
      "7      France\n",
      "8     Germany\n",
      "9      France\n",
      "Name: country, dtype: object\n",
      "[['Italy']\n",
      " ['Portugal']\n",
      " ['US']\n",
      " ['US']\n",
      " ['US']\n",
      " ['Spain']\n",
      " ['Italy']\n",
      " ['France']\n",
      " ['Germany']\n",
      " ['France']]\n"
     ]
    }
   ],
   "source": [
    "# country\n",
    "one_hot_country = OneHotEncoder(sparse=False)\n",
    "one_hot_country.fit(country.astype(str).values.reshape(-1,1))\n",
    "\n",
    "one_hot_countries = one_hot_country.transform(country.astype(str).values.reshape(-1,1))\n",
    "\n",
    "print(country[:10])\n",
    "print(one_hot_country.inverse_transform(one_hot_countries[:10]))"
   ]
  },
  {
   "cell_type": "code",
   "execution_count": 76,
   "metadata": {},
   "outputs": [
    {
     "name": "stdout",
     "output_type": "stream",
     "text": [
      "0    Sicily & Sardinia\n",
      "1                Douro\n",
      "2               Oregon\n",
      "3             Michigan\n",
      "4               Oregon\n",
      "5       Northern Spain\n",
      "6    Sicily & Sardinia\n",
      "7               Alsace\n",
      "8          Rheinhessen\n",
      "9               Alsace\n",
      "Name: province, dtype: object\n",
      "[['Sicily & Sardinia']\n",
      " ['Douro']\n",
      " ['Oregon']\n",
      " ['Michigan']\n",
      " ['Oregon']\n",
      " ['Northern Spain']\n",
      " ['Sicily & Sardinia']\n",
      " ['Alsace']\n",
      " ['Rheinhessen']\n",
      " ['Alsace']]\n"
     ]
    }
   ],
   "source": [
    "# province\n",
    "one_hot_province = OneHotEncoder(sparse=False)\n",
    "one_hot_province.fit(province.astype(str).values.reshape(-1,1))\n",
    "\n",
    "one_hot_provinces = one_hot_province.transform(province.astype(str).values.reshape(-1,1))\n",
    "\n",
    "print(province[:10])\n",
    "print(one_hot_province.inverse_transform(one_hot_provinces[:10]))"
   ]
  },
  {
   "cell_type": "code",
   "execution_count": 77,
   "metadata": {},
   "outputs": [
    {
     "name": "stdout",
     "output_type": "stream",
     "text": [
      "0                   Etna\n",
      "1                    NaN\n",
      "2      Willamette Valley\n",
      "3    Lake Michigan Shore\n",
      "4      Willamette Valley\n",
      "5                Navarra\n",
      "6               Vittoria\n",
      "7                 Alsace\n",
      "8                    NaN\n",
      "9                 Alsace\n",
      "Name: region_1, dtype: object\n",
      "[['Etna']\n",
      " ['nan']\n",
      " ['Willamette Valley']\n",
      " ['Lake Michigan Shore']\n",
      " ['Willamette Valley']\n",
      " ['Navarra']\n",
      " ['Vittoria']\n",
      " ['Alsace']\n",
      " ['nan']\n",
      " ['Alsace']]\n"
     ]
    }
   ],
   "source": [
    "# region_1\n",
    "one_hot_region_1 = OneHotEncoder(sparse=False)\n",
    "one_hot_region_1.fit(region_1.astype(str).values.reshape(-1,1))\n",
    "\n",
    "one_hot_region_1s = one_hot_region_1.transform(region_1.astype(str).values.reshape(-1,1))\n",
    "\n",
    "print(region_1[:10])\n",
    "print(one_hot_region_1.inverse_transform(one_hot_region_1s[:10]))"
   ]
  },
  {
   "cell_type": "code",
   "execution_count": 78,
   "metadata": {},
   "outputs": [
    {
     "name": "stdout",
     "output_type": "stream",
     "text": [
      "0                  NaN\n",
      "1                  NaN\n",
      "2    Willamette Valley\n",
      "3                  NaN\n",
      "4    Willamette Valley\n",
      "5                  NaN\n",
      "6                  NaN\n",
      "7                  NaN\n",
      "8                  NaN\n",
      "9                  NaN\n",
      "Name: region_2, dtype: object\n",
      "[['nan']\n",
      " ['nan']\n",
      " ['Willamette Valley']\n",
      " ['nan']\n",
      " ['Willamette Valley']\n",
      " ['nan']\n",
      " ['nan']\n",
      " ['nan']\n",
      " ['nan']\n",
      " ['nan']]\n"
     ]
    }
   ],
   "source": [
    "# region_2\n",
    "one_hot_region_2 = OneHotEncoder(sparse=False)\n",
    "one_hot_region_2.fit(region_2.astype(str).values.reshape(-1,1))\n",
    "\n",
    "one_hot_region_2s = one_hot_region_2.transform(region_2.astype(str).values.reshape(-1,1))\n",
    "\n",
    "print(region_2[:10])\n",
    "print(one_hot_region_2.inverse_transform(one_hot_region_2s[:10]))"
   ]
  },
  {
   "cell_type": "code",
   "execution_count": 79,
   "metadata": {},
   "outputs": [
    {
     "name": "stdout",
     "output_type": "stream",
     "text": [
      "0         Kerin O’Keefe\n",
      "1            Roger Voss\n",
      "2          Paul Gregutt\n",
      "3    Alexander Peartree\n",
      "4          Paul Gregutt\n",
      "5     Michael Schachner\n",
      "6         Kerin O’Keefe\n",
      "7            Roger Voss\n",
      "8    Anna Lee C. Iijima\n",
      "9            Roger Voss\n",
      "Name: taster_name, dtype: object\n",
      "[['Kerin O’Keefe']\n",
      " ['Roger Voss']\n",
      " ['Paul Gregutt']\n",
      " ['Alexander Peartree']\n",
      " ['Paul Gregutt']\n",
      " ['Michael Schachner']\n",
      " ['Kerin O’Keefe']\n",
      " ['Roger Voss']\n",
      " ['Anna Lee C. Iijima']\n",
      " ['Roger Voss']]\n"
     ]
    }
   ],
   "source": [
    "# taster_name\n",
    "one_hot_taster_name = OneHotEncoder(sparse=False)\n",
    "one_hot_taster_name.fit(taster_name.astype(str).values.reshape(-1,1))\n",
    "\n",
    "one_hot_taster_names = one_hot_taster_name.transform(taster_name.astype(str).values.reshape(-1,1))\n",
    "\n",
    "print(taster_name[:10])\n",
    "print(one_hot_taster_name.inverse_transform(one_hot_taster_names[:10]))"
   ]
  },
  {
   "cell_type": "code",
   "execution_count": 80,
   "metadata": {},
   "outputs": [
    {
     "name": "stdout",
     "output_type": "stream",
     "text": [
      "0    @kerinokeefe\n",
      "1      @vossroger\n",
      "2     @paulgwine \n",
      "3             NaN\n",
      "4     @paulgwine \n",
      "5     @wineschach\n",
      "6    @kerinokeefe\n",
      "7      @vossroger\n",
      "8             NaN\n",
      "9      @vossroger\n",
      "Name: taster_twitter_handle, dtype: object\n",
      "[['@kerinokeefe']\n",
      " ['@vossroger']\n",
      " ['@paulgwine\\xa0']\n",
      " ['nan']\n",
      " ['@paulgwine\\xa0']\n",
      " ['@wineschach']\n",
      " ['@kerinokeefe']\n",
      " ['@vossroger']\n",
      " ['nan']\n",
      " ['@vossroger']]\n"
     ]
    }
   ],
   "source": [
    "# taster_twitter_handle\n",
    "one_hot_taster_twitter_handle = OneHotEncoder(sparse=False)\n",
    "one_hot_taster_twitter_handle.fit(taster_twitter_handle.astype(str).values.reshape(-1,1))\n",
    "\n",
    "one_hot_taster_twitter_handles = one_hot_taster_twitter_handle.transform(taster_twitter_handle.astype(str).values.reshape(-1,1))\n",
    "\n",
    "print(taster_twitter_handle[:10])\n",
    "print(one_hot_taster_twitter_handle.inverse_transform(one_hot_taster_twitter_handles[:10]))"
   ]
  },
  {
   "cell_type": "code",
   "execution_count": 81,
   "metadata": {},
   "outputs": [
    {
     "name": "stdout",
     "output_type": "stream",
     "text": [
      "0           White Blend\n",
      "1        Portuguese Red\n",
      "2            Pinot Gris\n",
      "3              Riesling\n",
      "4            Pinot Noir\n",
      "5    Tempranillo-Merlot\n",
      "6              Frappato\n",
      "7        Gewürztraminer\n",
      "8        Gewürztraminer\n",
      "9            Pinot Gris\n",
      "Name: variety, dtype: object\n",
      "[['White Blend']\n",
      " ['Portuguese Red']\n",
      " ['Pinot Gris']\n",
      " ['Riesling']\n",
      " ['Pinot Noir']\n",
      " ['Tempranillo-Merlot']\n",
      " ['Frappato']\n",
      " ['Gewürztraminer']\n",
      " ['Gewürztraminer']\n",
      " ['Pinot Gris']]\n"
     ]
    }
   ],
   "source": [
    "# variety\n",
    "one_hot_variety = OneHotEncoder(sparse=False)\n",
    "one_hot_variety.fit(variety.astype(str).values.reshape(-1,1))\n",
    "\n",
    "one_hot_varieties = one_hot_variety.transform(variety.astype(str).values.reshape(-1,1))\n",
    "\n",
    "print(variety[:10])\n",
    "print(one_hot_variety.inverse_transform(one_hot_varieties[:10]))"
   ]
  },
  {
   "cell_type": "code",
   "execution_count": 82,
   "metadata": {},
   "outputs": [
    {
     "name": "stdout",
     "output_type": "stream",
     "text": [
      "0                Nicosia\n",
      "1    Quinta dos Avidagos\n",
      "2              Rainstorm\n",
      "3             St. Julian\n",
      "4           Sweet Cheeks\n",
      "5                 Tandem\n",
      "6        Terre di Giurfo\n",
      "7               Trimbach\n",
      "8            Heinz Eifel\n",
      "9     Jean-Baptiste Adam\n",
      "Name: winery, dtype: object\n",
      "[['Nicosia' 'Quinta dos Avidagos' 'Rainstorm' ... 'Domaine Gresser'\n",
      "  'Domaine Marcel Deiss' 'Domaine Schoffit']]\n"
     ]
    }
   ],
   "source": [
    "# winery\n",
    "one_hot_winery = OneHotEncoder(sparse=False)\n",
    "one_hot_winery.fit(winery.astype(str).values.reshape(1,-1))\n",
    "\n",
    "one_hot_wineries = one_hot_winery.transform(winery.astype(str).values.reshape(1,-1))\n",
    "\n",
    "print(winery[:10])\n",
    "print(one_hot_winery.inverse_transform(one_hot_wineries[:10]))\n",
    "# I have had to do this reshape the wrong way round, then redo it here to avoid 'MemoryError:'s with no further info. \n",
    "\n",
    "# one_hot_wineries = one_hot_wineries.reshape(-1,1)"
   ]
  },
  {
   "cell_type": "code",
   "execution_count": 83,
   "metadata": {},
   "outputs": [],
   "source": [
    "# # One hot encoded feature DataFrame\n",
    "# feature_data_one_hot_encoded = feature_data.copy(deep=False)\n",
    "# feature_data_one_hot_encoded = feature_data_one_hot_encoded.drop(labels=['description', 'designation', 'title', 'country', 'province', 'region_1', 'region_2', 'taster_name', 'taster_twitter_handle', 'variety', 'winery'], axis=1)\n",
    "# feature_data_one_hot_encoded['vintage'] = vintage\n",
    "\n",
    "# one_hot_countries_df = pd.DataFrame(data=one_hot_countries, columns=one_hot_country.categories_[0])\n",
    "# feature_data_one_hot_encoded = pd.concat([feature_data_one_hot_encoded, one_hot_countries_df], axis=1)\n",
    "\n",
    "# one_hot_provinces_df = pd.DataFrame(data=one_hot_provinces, columns=one_hot_province.categories_[0])\n",
    "# feature_data_one_hot_encoded = pd.concat([feature_data_one_hot_encoded, one_hot_provinces_df], axis=1)\n",
    "\n",
    "# one_hot_region_1s_df = pd.DataFrame(data=one_hot_region_1s, columns=one_hot_region_1.categories_[0])\n",
    "# feature_data_one_hot_encoded = pd.concat([feature_data_one_hot_encoded, one_hot_region_1s_df], axis=1)\n",
    "\n",
    "# one_hot_region_2s_df = pd.DataFrame(data=one_hot_region_2s, columns=one_hot_region_2.categories_[0])\n",
    "# feature_data_one_hot_encoded = pd.concat([feature_data_one_hot_encoded, one_hot_region_2s_df], axis=1)\n",
    "\n",
    "# one_hot_taster_names_df = pd.DataFrame(data=one_hot_taster_names, columns=one_hot_taster_name.categories_[0])\n",
    "# feature_data_one_hot_encoded = pd.concat([feature_data_one_hot_encoded, one_hot_taster_names_df], axis=1)\n",
    "\n",
    "# one_hot_taster_twitter_handles_df = pd.DataFrame(data=one_hot_taster_twitter_handles, columns=one_hot_taster_twitter_handle.categories_[0])\n",
    "# feature_data_one_hot_encoded = pd.concat([feature_data_one_hot_encoded, one_hot_taster_twitter_handles_df], axis=1)\n",
    "\n",
    "# one_hot_varieties_df = pd.DataFrame(data=one_hot_varieties, columns=one_hot_variety.categories_[0])\n",
    "# feature_data_one_hot_encoded = pd.concat([feature_data_one_hot_encoded, one_hot_varieties_df], axis=1)\n",
    "\n",
    "# one_hot_wineries_df = pd.DataFrame(data=one_hot_wineries.reshape(-1,1), columns=one_hot_winery.categories_[0])\n",
    "# feature_data_one_hot_encoded = pd.concat([feature_data_one_hot_encoded, one_hot_wineries_df], axis=1)\n",
    "\n",
    "# print(feature_data_one_hot_encoded.shape)\n",
    "# feature_data_one_hot_encoded.sample(5, random_state=4)"
   ]
  },
  {
   "cell_type": "markdown",
   "metadata": {},
   "source": [
    "So it turns out that I get `MemoryError:` (with no further detail) before I even get past region_2. Apparently I'll need a bigger computer for that sort of thing. In the meantime, I'll try a partially one hot encoded version. \n",
    "\n",
    "### Mixed encoding\n",
    "\n",
    "Copying a table I made earlier:\n",
    "\n",
    "|Feature|Non-null|Null|Percentage null|Count of unique values|\n",
    "|---|---|---|---|---|\n",
    "|country|129,908|63|0.05%|43|\n",
    "|province|129,908|63|0.05%|425|\n",
    "|region_1|108,724|21,247|16.35%|1229|\n",
    "|region_2|50,511|79,460|61.14%|17|\n",
    "|taster_name|103,727|26,244|20.19%|19|\n",
    "|taster_twitter_handle|98,758|31,213|24.02%|15|\n",
    "|variety|129,970|1|0.00%|707|\n",
    "|winery|129,971|0|0.00%|16757|"
   ]
  },
  {
   "cell_type": "markdown",
   "metadata": {},
   "source": [
    "I'm thinking that anything with fewer than 100 unique values can be encoded without inflicting the curse of dimensionality (or worse, the dreaded `MemoryError:`). That means: \n",
    "1. country\n",
    "2. region_2\n",
    "3. taster_name\n",
    "4. taster_twitter_handle\n",
    "\n",
    "Fortunately, I've already written code to do all that. "
   ]
  },
  {
   "cell_type": "code",
   "execution_count": 84,
   "metadata": {},
   "outputs": [
    {
     "name": "stdout",
     "output_type": "stream",
     "text": [
      "(129971, 104)\n"
     ]
    },
    {
     "data": {
      "text/html": [
       "<div>\n",
       "<style scoped>\n",
       "    .dataframe tbody tr th:only-of-type {\n",
       "        vertical-align: middle;\n",
       "    }\n",
       "\n",
       "    .dataframe tbody tr th {\n",
       "        vertical-align: top;\n",
       "    }\n",
       "\n",
       "    .dataframe thead th {\n",
       "        text-align: right;\n",
       "    }\n",
       "</style>\n",
       "<table border=\"1\" class=\"dataframe\">\n",
       "  <thead>\n",
       "    <tr style=\"text-align: right;\">\n",
       "      <th></th>\n",
       "      <th>price</th>\n",
       "      <th>province</th>\n",
       "      <th>region_1</th>\n",
       "      <th>variety</th>\n",
       "      <th>winery</th>\n",
       "      <th>vintage</th>\n",
       "      <th>Argentina</th>\n",
       "      <th>Armenia</th>\n",
       "      <th>Australia</th>\n",
       "      <th>Austria</th>\n",
       "      <th>...</th>\n",
       "      <th>@mattkettmann</th>\n",
       "      <th>@paulgwine</th>\n",
       "      <th>@suskostrzewa</th>\n",
       "      <th>@vboone</th>\n",
       "      <th>@vossroger</th>\n",
       "      <th>@wawinereport</th>\n",
       "      <th>@wineschach</th>\n",
       "      <th>@winewchristina</th>\n",
       "      <th>@worldwineguys</th>\n",
       "      <th>nan</th>\n",
       "    </tr>\n",
       "  </thead>\n",
       "  <tbody>\n",
       "    <tr>\n",
       "      <th>105424</th>\n",
       "      <td>35.0</td>\n",
       "      <td>11</td>\n",
       "      <td>21</td>\n",
       "      <td>440</td>\n",
       "      <td>9104</td>\n",
       "      <td>2010</td>\n",
       "      <td>0.0</td>\n",
       "      <td>0.0</td>\n",
       "      <td>0.0</td>\n",
       "      <td>0.0</td>\n",
       "      <td>...</td>\n",
       "      <td>0.0</td>\n",
       "      <td>0.0</td>\n",
       "      <td>0.0</td>\n",
       "      <td>0.0</td>\n",
       "      <td>1.0</td>\n",
       "      <td>0.0</td>\n",
       "      <td>0.0</td>\n",
       "      <td>0.0</td>\n",
       "      <td>0.0</td>\n",
       "      <td>0.0</td>\n",
       "    </tr>\n",
       "    <tr>\n",
       "      <th>30811</th>\n",
       "      <td>46.0</td>\n",
       "      <td>51</td>\n",
       "      <td>972</td>\n",
       "      <td>125</td>\n",
       "      <td>13797</td>\n",
       "      <td>2013</td>\n",
       "      <td>0.0</td>\n",
       "      <td>0.0</td>\n",
       "      <td>0.0</td>\n",
       "      <td>0.0</td>\n",
       "      <td>...</td>\n",
       "      <td>1.0</td>\n",
       "      <td>0.0</td>\n",
       "      <td>0.0</td>\n",
       "      <td>0.0</td>\n",
       "      <td>0.0</td>\n",
       "      <td>0.0</td>\n",
       "      <td>0.0</td>\n",
       "      <td>0.0</td>\n",
       "      <td>0.0</td>\n",
       "      <td>0.0</td>\n",
       "    </tr>\n",
       "    <tr>\n",
       "      <th>86983</th>\n",
       "      <td>20.0</td>\n",
       "      <td>331</td>\n",
       "      <td>424</td>\n",
       "      <td>690</td>\n",
       "      <td>244</td>\n",
       "      <td>2015</td>\n",
       "      <td>0.0</td>\n",
       "      <td>0.0</td>\n",
       "      <td>0.0</td>\n",
       "      <td>0.0</td>\n",
       "      <td>...</td>\n",
       "      <td>0.0</td>\n",
       "      <td>0.0</td>\n",
       "      <td>0.0</td>\n",
       "      <td>0.0</td>\n",
       "      <td>0.0</td>\n",
       "      <td>0.0</td>\n",
       "      <td>0.0</td>\n",
       "      <td>0.0</td>\n",
       "      <td>0.0</td>\n",
       "      <td>0.0</td>\n",
       "    </tr>\n",
       "    <tr>\n",
       "      <th>109619</th>\n",
       "      <td>14.0</td>\n",
       "      <td>51</td>\n",
       "      <td>185</td>\n",
       "      <td>125</td>\n",
       "      <td>5345</td>\n",
       "      <td>2008</td>\n",
       "      <td>0.0</td>\n",
       "      <td>0.0</td>\n",
       "      <td>0.0</td>\n",
       "      <td>0.0</td>\n",
       "      <td>...</td>\n",
       "      <td>0.0</td>\n",
       "      <td>0.0</td>\n",
       "      <td>0.0</td>\n",
       "      <td>0.0</td>\n",
       "      <td>0.0</td>\n",
       "      <td>0.0</td>\n",
       "      <td>0.0</td>\n",
       "      <td>0.0</td>\n",
       "      <td>0.0</td>\n",
       "      <td>1.0</td>\n",
       "    </tr>\n",
       "    <tr>\n",
       "      <th>98442</th>\n",
       "      <td>NaN</td>\n",
       "      <td>36</td>\n",
       "      <td>817</td>\n",
       "      <td>62</td>\n",
       "      <td>4071</td>\n",
       "      <td>2009</td>\n",
       "      <td>0.0</td>\n",
       "      <td>0.0</td>\n",
       "      <td>0.0</td>\n",
       "      <td>0.0</td>\n",
       "      <td>...</td>\n",
       "      <td>0.0</td>\n",
       "      <td>0.0</td>\n",
       "      <td>0.0</td>\n",
       "      <td>0.0</td>\n",
       "      <td>1.0</td>\n",
       "      <td>0.0</td>\n",
       "      <td>0.0</td>\n",
       "      <td>0.0</td>\n",
       "      <td>0.0</td>\n",
       "      <td>0.0</td>\n",
       "    </tr>\n",
       "    <tr>\n",
       "      <th>122061</th>\n",
       "      <td>38.0</td>\n",
       "      <td>51</td>\n",
       "      <td>964</td>\n",
       "      <td>473</td>\n",
       "      <td>11479</td>\n",
       "      <td>2012</td>\n",
       "      <td>0.0</td>\n",
       "      <td>0.0</td>\n",
       "      <td>0.0</td>\n",
       "      <td>0.0</td>\n",
       "      <td>...</td>\n",
       "      <td>1.0</td>\n",
       "      <td>0.0</td>\n",
       "      <td>0.0</td>\n",
       "      <td>0.0</td>\n",
       "      <td>0.0</td>\n",
       "      <td>0.0</td>\n",
       "      <td>0.0</td>\n",
       "      <td>0.0</td>\n",
       "      <td>0.0</td>\n",
       "      <td>0.0</td>\n",
       "    </tr>\n",
       "    <tr>\n",
       "      <th>88897</th>\n",
       "      <td>NaN</td>\n",
       "      <td>353</td>\n",
       "      <td>1229</td>\n",
       "      <td>690</td>\n",
       "      <td>10524</td>\n",
       "      <td>2009</td>\n",
       "      <td>0.0</td>\n",
       "      <td>0.0</td>\n",
       "      <td>0.0</td>\n",
       "      <td>1.0</td>\n",
       "      <td>...</td>\n",
       "      <td>0.0</td>\n",
       "      <td>0.0</td>\n",
       "      <td>0.0</td>\n",
       "      <td>0.0</td>\n",
       "      <td>1.0</td>\n",
       "      <td>0.0</td>\n",
       "      <td>0.0</td>\n",
       "      <td>0.0</td>\n",
       "      <td>0.0</td>\n",
       "      <td>0.0</td>\n",
       "    </tr>\n",
       "    <tr>\n",
       "      <th>102633</th>\n",
       "      <td>38.0</td>\n",
       "      <td>216</td>\n",
       "      <td>633</td>\n",
       "      <td>80</td>\n",
       "      <td>14603</td>\n",
       "      <td>2012</td>\n",
       "      <td>1.0</td>\n",
       "      <td>0.0</td>\n",
       "      <td>0.0</td>\n",
       "      <td>0.0</td>\n",
       "      <td>...</td>\n",
       "      <td>0.0</td>\n",
       "      <td>0.0</td>\n",
       "      <td>0.0</td>\n",
       "      <td>0.0</td>\n",
       "      <td>0.0</td>\n",
       "      <td>0.0</td>\n",
       "      <td>1.0</td>\n",
       "      <td>0.0</td>\n",
       "      <td>0.0</td>\n",
       "      <td>0.0</td>\n",
       "    </tr>\n",
       "    <tr>\n",
       "      <th>84660</th>\n",
       "      <td>11.0</td>\n",
       "      <td>299</td>\n",
       "      <td>366</td>\n",
       "      <td>492</td>\n",
       "      <td>6154</td>\n",
       "      <td>2009</td>\n",
       "      <td>0.0</td>\n",
       "      <td>0.0</td>\n",
       "      <td>0.0</td>\n",
       "      <td>0.0</td>\n",
       "      <td>...</td>\n",
       "      <td>0.0</td>\n",
       "      <td>0.0</td>\n",
       "      <td>0.0</td>\n",
       "      <td>0.0</td>\n",
       "      <td>1.0</td>\n",
       "      <td>0.0</td>\n",
       "      <td>0.0</td>\n",
       "      <td>0.0</td>\n",
       "      <td>0.0</td>\n",
       "      <td>0.0</td>\n",
       "    </tr>\n",
       "    <tr>\n",
       "      <th>60227</th>\n",
       "      <td>90.0</td>\n",
       "      <td>374</td>\n",
       "      <td>1078</td>\n",
       "      <td>473</td>\n",
       "      <td>2503</td>\n",
       "      <td>2009</td>\n",
       "      <td>0.0</td>\n",
       "      <td>0.0</td>\n",
       "      <td>0.0</td>\n",
       "      <td>0.0</td>\n",
       "      <td>...</td>\n",
       "      <td>0.0</td>\n",
       "      <td>0.0</td>\n",
       "      <td>0.0</td>\n",
       "      <td>0.0</td>\n",
       "      <td>0.0</td>\n",
       "      <td>0.0</td>\n",
       "      <td>0.0</td>\n",
       "      <td>0.0</td>\n",
       "      <td>0.0</td>\n",
       "      <td>1.0</td>\n",
       "    </tr>\n",
       "  </tbody>\n",
       "</table>\n",
       "<p>10 rows × 104 columns</p>\n",
       "</div>"
      ],
      "text/plain": [
       "        price  province  region_1  variety  winery vintage  Argentina  \\\n",
       "105424   35.0        11        21      440    9104    2010        0.0   \n",
       "30811    46.0        51       972      125   13797    2013        0.0   \n",
       "86983    20.0       331       424      690     244    2015        0.0   \n",
       "109619   14.0        51       185      125    5345    2008        0.0   \n",
       "98442     NaN        36       817       62    4071    2009        0.0   \n",
       "122061   38.0        51       964      473   11479    2012        0.0   \n",
       "88897     NaN       353      1229      690   10524    2009        0.0   \n",
       "102633   38.0       216       633       80   14603    2012        1.0   \n",
       "84660    11.0       299       366      492    6154    2009        0.0   \n",
       "60227    90.0       374      1078      473    2503    2009        0.0   \n",
       "\n",
       "        Armenia  Australia  Austria ...   @mattkettmann  @paulgwine   \\\n",
       "105424      0.0        0.0      0.0 ...             0.0          0.0   \n",
       "30811       0.0        0.0      0.0 ...             1.0          0.0   \n",
       "86983       0.0        0.0      0.0 ...             0.0          0.0   \n",
       "109619      0.0        0.0      0.0 ...             0.0          0.0   \n",
       "98442       0.0        0.0      0.0 ...             0.0          0.0   \n",
       "122061      0.0        0.0      0.0 ...             1.0          0.0   \n",
       "88897       0.0        0.0      1.0 ...             0.0          0.0   \n",
       "102633      0.0        0.0      0.0 ...             0.0          0.0   \n",
       "84660       0.0        0.0      0.0 ...             0.0          0.0   \n",
       "60227       0.0        0.0      0.0 ...             0.0          0.0   \n",
       "\n",
       "        @suskostrzewa  @vboone  @vossroger  @wawinereport  @wineschach  \\\n",
       "105424            0.0      0.0         1.0            0.0          0.0   \n",
       "30811             0.0      0.0         0.0            0.0          0.0   \n",
       "86983             0.0      0.0         0.0            0.0          0.0   \n",
       "109619            0.0      0.0         0.0            0.0          0.0   \n",
       "98442             0.0      0.0         1.0            0.0          0.0   \n",
       "122061            0.0      0.0         0.0            0.0          0.0   \n",
       "88897             0.0      0.0         1.0            0.0          0.0   \n",
       "102633            0.0      0.0         0.0            0.0          1.0   \n",
       "84660             0.0      0.0         1.0            0.0          0.0   \n",
       "60227             0.0      0.0         0.0            0.0          0.0   \n",
       "\n",
       "        @winewchristina  @worldwineguys  nan  \n",
       "105424              0.0             0.0  0.0  \n",
       "30811               0.0             0.0  0.0  \n",
       "86983               0.0             0.0  0.0  \n",
       "109619              0.0             0.0  1.0  \n",
       "98442               0.0             0.0  0.0  \n",
       "122061              0.0             0.0  0.0  \n",
       "88897               0.0             0.0  0.0  \n",
       "102633              0.0             0.0  0.0  \n",
       "84660               0.0             0.0  0.0  \n",
       "60227               0.0             0.0  1.0  \n",
       "\n",
       "[10 rows x 104 columns]"
      ]
     },
     "execution_count": 84,
     "metadata": {},
     "output_type": "execute_result"
    }
   ],
   "source": [
    "# Mixed encoding feature DataFrame\n",
    "feature_data_mixed_encoding = feature_data.copy(deep=False)\n",
    "feature_data_mixed_encoding = feature_data_mixed_encoding.drop(labels=['description', 'designation', 'title'], axis=1)\n",
    "feature_data_mixed_encoding['vintage'] = vintage\n",
    "\n",
    "# Label encoding\n",
    "feature_data_mixed_encoding.province = encoded_provinces\n",
    "feature_data_mixed_encoding.region_1 = encoded_region_1s\n",
    "feature_data_mixed_encoding.variety = encoded_varieties\n",
    "feature_data_mixed_encoding.winery = encoded_wineries\n",
    "\n",
    "# One hot encoding\n",
    "feature_data_mixed_encoding = feature_data_mixed_encoding.drop(labels=['country', 'region_2', 'taster_name', 'taster_twitter_handle'], axis=1)\n",
    "\n",
    "one_hot_countries_df = pd.DataFrame(data=one_hot_countries, columns=one_hot_country.categories_[0])\n",
    "feature_data_mixed_encoding = pd.concat([feature_data_mixed_encoding, one_hot_countries_df], axis=1)\n",
    "one_hot_countries_df = one_hot_countries_df.rename(columns={\"nan\":\"country_nan\"})\n",
    "\n",
    "one_hot_region_2s_df = pd.DataFrame(data=one_hot_region_2s, columns=one_hot_region_2.categories_[0])\n",
    "feature_data_mixed_encoding = pd.concat([feature_data_mixed_encoding, one_hot_region_2s_df], axis=1)\n",
    "one_hot_region_2s_df = one_hot_region_2s_df.rename(columns={\"nan\":\"region_2_nan\"})\n",
    "\n",
    "one_hot_taster_names_df = pd.DataFrame(data=one_hot_taster_names, columns=one_hot_taster_name.categories_[0])\n",
    "feature_data_mixed_encoding = pd.concat([feature_data_mixed_encoding, one_hot_taster_names_df], axis=1)\n",
    "one_hot_taster_names_df = one_hot_taster_names_df.rename(columns={\"nan\":\"taster_name_nan\"})\n",
    "\n",
    "one_hot_taster_twitter_handles_df = pd.DataFrame(data=one_hot_taster_twitter_handles, columns=one_hot_taster_twitter_handle.categories_[0])\n",
    "feature_data_mixed_encoding = pd.concat([feature_data_mixed_encoding, one_hot_taster_twitter_handles_df], axis=1)\n",
    "one_hot_taster_twitter_handles_df = one_hot_taster_twitter_handles_df.rename(columns={\"nan\":\"taster_twitter_handle_nan\"})\n",
    "\n",
    "print(feature_data_mixed_encoding.shape)\n",
    "feature_data_mixed_encoding.sample(10, random_state=4)"
   ]
  },
  {
   "cell_type": "markdown",
   "metadata": {},
   "source": [
    "That looks good. I that there were four one hot encoded columns named 'nan', one from each feature encoded that way, and renamed them. \n",
    "\n",
    "In terms of what else there is to be done that is useful - I think that's it. I've examined the features, discarded any that were too difficult to use, engineered a new one out of an otherwise unusable one, and tested how the categorical text data can be transformed to be usable for training. \n",
    "\n",
    "Remembering that the reason I am working on this dataset is to find out how to pick good wine in a shop, I'll take what I've got here and start a new notebook to being the data analysis and model building in order to solve that problem. "
   ]
  }
 ],
 "metadata": {
  "kernelspec": {
   "display_name": "Python 3",
   "language": "python",
   "name": "python3"
  },
  "language_info": {
   "codemirror_mode": {
    "name": "ipython",
    "version": 3
   },
   "file_extension": ".py",
   "mimetype": "text/x-python",
   "name": "python",
   "nbconvert_exporter": "python",
   "pygments_lexer": "ipython3",
   "version": "3.6.7"
  }
 },
 "nbformat": 4,
 "nbformat_minor": 2
}
