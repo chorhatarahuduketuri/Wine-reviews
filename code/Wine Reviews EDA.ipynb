{
 "cells": [
  {
   "cell_type": "code",
   "execution_count": 1,
   "metadata": {},
   "outputs": [],
   "source": [
    "# Imports and data loading\n",
    "import pandas as pd\n",
    "import matplotlib.pyplot as plt\n",
    "from scipy import stats"
   ]
  },
  {
   "cell_type": "code",
   "execution_count": 2,
   "metadata": {},
   "outputs": [],
   "source": [
    "first_150k = pd.read_csv('../input/wine-reviews/winemag-data_first150k.csv', index_col=0)\n",
    "data_csv = pd.read_csv('../input/wine-reviews/winemag-data-130k-v2.csv', index_col=0)\n",
    "data_json = pd.read_json('../input/wine-reviews/winemag-data-130k-v2.json')\n",
    "\n",
    "data = data_csv\n",
    "target_data = data['points']\n",
    "feature_data = data.drop('points', axis=1)"
   ]
  },
  {
   "cell_type": "markdown",
   "metadata": {},
   "source": [
    "## Read the manual\n",
    "The 'manual' for this data comes in the form of text descriptions on the kaggle site about this data that I have copied and pasted into a txt file, then formatted. \n",
    "\n",
    ">Here is a CSV version of the data I scraped. This dataset has three new fields  \n",
    "--Title (which you can parse the vintage from), Taster Name, and Taster Twitter Handle. This should also fix the duplicate entries problem in the first version of the dataset and add ~25k unique reviews to play with. \n",
    "\n",
    "So There are two copies of the dataset, one of which I can see is duplicated in .json form. \n",
    "\n",
    "> After watching Somm (a documentary on master sommeliers) I wondered how I could create a predictive model to identify wines through blind tasting like a master sommelier would. The first step in this journey was gathering some data to train a model. I plan to use deep learning to predict the wine variety using words in the description/review. The model still won't be able to taste the wine, but theoretically it could identify the wine based on a description that a sommelier could give. If anyone has any ideas on how to accomplish this, please post them!\n",
    "\n",
    "So their purpose was similar to mine: pick good wines. \n",
    "\n",
    ">winemag-data-130k-v2.csv contains 10 columns and 130k rows of wine reviews.  \n",
    "winemag-data_first150k.csv contains 10 columns and 150k rows of wine reviews.  \n",
    "winemag-data-130k-v2.json contains 6919 nodes of wine reviews.\n",
    "\n",
    "There are three files, one of which is the 'first', and the other two are 'v2', but in different file formats. \n",
    "\n",
    ">The data was scraped from WineEnthusiast during the week of June 15th, 2017. The code for the scraper can be found here if you have any more specific questions about data collection that I didn't address.  \n",
    "**UPDATE 11/24/2017** After feedback from users of the dataset I scraped the reviews again on November 22nd, 2017. This time around I collected the title of each review, which you can parse the year out of, the tasters name, and the taster's Twitter handle. This should also fix the duplicate entry issue.\n",
    "\n",
    "The data was acquired by web scraping, and then an updated version was scraped that removed some issues with the data. I guess that's what 'first' and 'v2' are referring to. \n",
    "\n",
    ">**Inspiration**  \n",
    "I think that this dataset offers some great opportunities for sentiment analysis and other text related predictive models. My overall goal is to create a model that can identify the variety, winery, and location of a wine based on a description. If anyone has any ideas, breakthroughs, or other interesting insights/models please post them.\n",
    "\n",
    "Yes. This is a worthy goal. \n",
    "\n",
    ">Numeric: unnamed, but functions as a count from 0 ID number  \n",
    "**String: country**  \n",
    "The country that the wine is from  \n",
    "**String: description**  \n",
    "A few sentences from a sommelier describing the wine's taste, smell, look, feel, etc.  \n",
    "**String: designation**  \n",
    "The vineyard within the winery where the grapes that made the wine are from  \n",
    "**Numeric: points**  \n",
    "The number of points WineEnthusiast rated the wine on a scale of 1-100 (though they say they only post reviews for wines that score >=80)  \n",
    "**Numeric: price**  \n",
    "The cost for a bottle of the wine  \n",
    "**String: province**  \n",
    "The province or state that the wine is from  \n",
    "**String: region_1**  \n",
    "The wine growing area in a province or state (ie Napa)  \n",
    "**String: region_2**  \n",
    "Sometimes there are more specific regions specified within a wine growing area (ie Rutherford inside the Napa Valley), but this value can sometimes be blank  \n",
    "**String: taster_name**  \n",
    "Name of the person who tasted and reviewed the wine  \n",
    "**String: taster_twitter_handle**  \n",
    "Twitter handle for the person who tasted and reviewed the wine  \n",
    "**String: title**  \n",
    "The title of the wine review, which often contains the vintage if you're interested in extracting that feature  \n",
    "**String: variety**  \n",
    "The type of grapes used to make the wine (ie Pinot Noir)  \n",
    "**String: winery**  \n",
    "The winery that made the wine  \n",
    "\n",
    "Useful data types and descriptions for the 14 columns. One of them is just an ID column, which I'll incorporate into the dataframe as the index upon loading. The rest are useful looking things, including a freeform text description, name, point score, price, location data, reviewer data (who wrote the description and gave the point score), some text data indicating it's name and year the grapes were picked, the variety of grapes, and the winery that produced the wine. \n",
    "\n",
    "Most significantly, above all previous wine-related datasets, these features (besides points and reviewer) are things I can actually find out by reading the label in the shop. This is probably the most useful wine related dataset so far (it's also by far the largest). \n",
    "\n",
    "The text data is all freeform and needs to be processed to make it usable. Some needs simple encoding, others require further processing to be useful. "
   ]
  },
  {
   "cell_type": "markdown",
   "metadata": {},
   "source": [
    "## Basics\n",
    "What does the data look like?  \n",
    "How much of it is there?  \n",
    "What type of data is it? "
   ]
  },
  {
   "cell_type": "code",
   "execution_count": 3,
   "metadata": {},
   "outputs": [
    {
     "data": {
      "text/html": [
       "<div>\n",
       "<style scoped>\n",
       "    .dataframe tbody tr th:only-of-type {\n",
       "        vertical-align: middle;\n",
       "    }\n",
       "\n",
       "    .dataframe tbody tr th {\n",
       "        vertical-align: top;\n",
       "    }\n",
       "\n",
       "    .dataframe thead th {\n",
       "        text-align: right;\n",
       "    }\n",
       "</style>\n",
       "<table border=\"1\" class=\"dataframe\">\n",
       "  <thead>\n",
       "    <tr style=\"text-align: right;\">\n",
       "      <th></th>\n",
       "      <th>country</th>\n",
       "      <th>description</th>\n",
       "      <th>designation</th>\n",
       "      <th>points</th>\n",
       "      <th>price</th>\n",
       "      <th>province</th>\n",
       "      <th>region_1</th>\n",
       "      <th>region_2</th>\n",
       "      <th>variety</th>\n",
       "      <th>winery</th>\n",
       "    </tr>\n",
       "  </thead>\n",
       "  <tbody>\n",
       "    <tr>\n",
       "      <th>31034</th>\n",
       "      <td>US</td>\n",
       "      <td>The aromas seem a bit muddled, with notes of j...</td>\n",
       "      <td>Colter's Creek Estate</td>\n",
       "      <td>84</td>\n",
       "      <td>10.0</td>\n",
       "      <td>Idaho</td>\n",
       "      <td>Idaho</td>\n",
       "      <td>NaN</td>\n",
       "      <td>Riesling</td>\n",
       "      <td>Colter's Creek</td>\n",
       "    </tr>\n",
       "    <tr>\n",
       "      <th>58</th>\n",
       "      <td>US</td>\n",
       "      <td>Cabernet makes up just over half of this blend...</td>\n",
       "      <td>Final Final</td>\n",
       "      <td>90</td>\n",
       "      <td>30.0</td>\n",
       "      <td>Washington</td>\n",
       "      <td>Columbia Valley (WA)</td>\n",
       "      <td>Columbia Valley</td>\n",
       "      <td>Cabernet Sauvignon-Syrah</td>\n",
       "      <td>Efeste</td>\n",
       "    </tr>\n",
       "    <tr>\n",
       "      <th>24657</th>\n",
       "      <td>Italy</td>\n",
       "      <td>Le Macchiole's Bolgheri Rosso blend (Merlot, C...</td>\n",
       "      <td>NaN</td>\n",
       "      <td>90</td>\n",
       "      <td>30.0</td>\n",
       "      <td>Tuscany</td>\n",
       "      <td>Bolgheri</td>\n",
       "      <td>NaN</td>\n",
       "      <td>Red Blend</td>\n",
       "      <td>Le Macchiole</td>\n",
       "    </tr>\n",
       "    <tr>\n",
       "      <th>139801</th>\n",
       "      <td>Italy</td>\n",
       "      <td>A special, gentle wine with caressing persiste...</td>\n",
       "      <td>NaN</td>\n",
       "      <td>92</td>\n",
       "      <td>60.0</td>\n",
       "      <td>Tuscany</td>\n",
       "      <td>Brunello di Montalcino</td>\n",
       "      <td>NaN</td>\n",
       "      <td>Sangiovese</td>\n",
       "      <td>Fornacina</td>\n",
       "    </tr>\n",
       "    <tr>\n",
       "      <th>1820</th>\n",
       "      <td>US</td>\n",
       "      <td>Winemaker Nick Goldschmidt does wonders with t...</td>\n",
       "      <td>Lone Tree Vineyard</td>\n",
       "      <td>90</td>\n",
       "      <td>50.0</td>\n",
       "      <td>California</td>\n",
       "      <td>Alexander Valley</td>\n",
       "      <td>Sonoma</td>\n",
       "      <td>Cabernet Sauvignon</td>\n",
       "      <td>Forefathers</td>\n",
       "    </tr>\n",
       "  </tbody>\n",
       "</table>\n",
       "</div>"
      ],
      "text/plain": [
       "       country                                        description  \\\n",
       "31034       US  The aromas seem a bit muddled, with notes of j...   \n",
       "58          US  Cabernet makes up just over half of this blend...   \n",
       "24657    Italy  Le Macchiole's Bolgheri Rosso blend (Merlot, C...   \n",
       "139801   Italy  A special, gentle wine with caressing persiste...   \n",
       "1820        US  Winemaker Nick Goldschmidt does wonders with t...   \n",
       "\n",
       "                  designation  points  price    province  \\\n",
       "31034   Colter's Creek Estate      84   10.0       Idaho   \n",
       "58                Final Final      90   30.0  Washington   \n",
       "24657                     NaN      90   30.0     Tuscany   \n",
       "139801                    NaN      92   60.0     Tuscany   \n",
       "1820       Lone Tree Vineyard      90   50.0  California   \n",
       "\n",
       "                      region_1         region_2                   variety  \\\n",
       "31034                    Idaho              NaN                  Riesling   \n",
       "58        Columbia Valley (WA)  Columbia Valley  Cabernet Sauvignon-Syrah   \n",
       "24657                 Bolgheri              NaN                 Red Blend   \n",
       "139801  Brunello di Montalcino              NaN                Sangiovese   \n",
       "1820          Alexander Valley           Sonoma        Cabernet Sauvignon   \n",
       "\n",
       "                winery  \n",
       "31034   Colter's Creek  \n",
       "58              Efeste  \n",
       "24657     Le Macchiole  \n",
       "139801       Fornacina  \n",
       "1820       Forefathers  "
      ]
     },
     "execution_count": 3,
     "metadata": {},
     "output_type": "execute_result"
    }
   ],
   "source": [
    "first_150k.sample(5, random_state=4)"
   ]
  },
  {
   "cell_type": "markdown",
   "metadata": {},
   "source": [
    "The first data collected has fewer columns, but is otherwise as described. Since I've already decided not to use the old data, and to work with the more recently collected data (that also has more features), I will not analyse this any further. "
   ]
  },
  {
   "cell_type": "code",
   "execution_count": 4,
   "metadata": {},
   "outputs": [
    {
     "data": {
      "text/html": [
       "<div>\n",
       "<style scoped>\n",
       "    .dataframe tbody tr th:only-of-type {\n",
       "        vertical-align: middle;\n",
       "    }\n",
       "\n",
       "    .dataframe tbody tr th {\n",
       "        vertical-align: top;\n",
       "    }\n",
       "\n",
       "    .dataframe thead th {\n",
       "        text-align: right;\n",
       "    }\n",
       "</style>\n",
       "<table border=\"1\" class=\"dataframe\">\n",
       "  <thead>\n",
       "    <tr style=\"text-align: right;\">\n",
       "      <th></th>\n",
       "      <th>country</th>\n",
       "      <th>description</th>\n",
       "      <th>designation</th>\n",
       "      <th>points</th>\n",
       "      <th>price</th>\n",
       "      <th>province</th>\n",
       "      <th>region_1</th>\n",
       "      <th>region_2</th>\n",
       "      <th>taster_name</th>\n",
       "      <th>taster_twitter_handle</th>\n",
       "      <th>title</th>\n",
       "      <th>variety</th>\n",
       "      <th>winery</th>\n",
       "    </tr>\n",
       "  </thead>\n",
       "  <tbody>\n",
       "    <tr>\n",
       "      <th>105424</th>\n",
       "      <td>France</td>\n",
       "      <td>Steinbach is a village at the extreme southern...</td>\n",
       "      <td>Steinbach</td>\n",
       "      <td>90</td>\n",
       "      <td>35.0</td>\n",
       "      <td>Alsace</td>\n",
       "      <td>Alsace</td>\n",
       "      <td>NaN</td>\n",
       "      <td>Roger Voss</td>\n",
       "      <td>@vossroger</td>\n",
       "      <td>Joseph Cattin 2010 Steinbach Pinot Noir (Alsace)</td>\n",
       "      <td>Pinot Noir</td>\n",
       "      <td>Joseph Cattin</td>\n",
       "    </tr>\n",
       "    <tr>\n",
       "      <th>30811</th>\n",
       "      <td>US</td>\n",
       "      <td>Salted lemon rinds, ice-cold apple, fresh-sque...</td>\n",
       "      <td>Bien Nacido Vineyard Block II Mount Eden Clone</td>\n",
       "      <td>92</td>\n",
       "      <td>46.0</td>\n",
       "      <td>California</td>\n",
       "      <td>Santa Maria Valley</td>\n",
       "      <td>Central Coast</td>\n",
       "      <td>Matt Kettmann</td>\n",
       "      <td>@mattkettmann</td>\n",
       "      <td>Scar of the Sea 2013 Bien Nacido Vineyard Bloc...</td>\n",
       "      <td>Chardonnay</td>\n",
       "      <td>Scar of the Sea</td>\n",
       "    </tr>\n",
       "    <tr>\n",
       "      <th>86983</th>\n",
       "      <td>Italy</td>\n",
       "      <td>Delicately scented, this offers subtle aromas ...</td>\n",
       "      <td>Occhi di Ciumi</td>\n",
       "      <td>89</td>\n",
       "      <td>20.0</td>\n",
       "      <td>Sicily &amp; Sardinia</td>\n",
       "      <td>Etna</td>\n",
       "      <td>NaN</td>\n",
       "      <td>Kerin O’Keefe</td>\n",
       "      <td>@kerinokeefe</td>\n",
       "      <td>Al-Cantàra 2015 Occhi di Ciumi  (Etna)</td>\n",
       "      <td>White Blend</td>\n",
       "      <td>Al-Cantàra</td>\n",
       "    </tr>\n",
       "    <tr>\n",
       "      <th>109619</th>\n",
       "      <td>US</td>\n",
       "      <td>As sweet as angel food cake, with sugary vanil...</td>\n",
       "      <td>NaN</td>\n",
       "      <td>82</td>\n",
       "      <td>14.0</td>\n",
       "      <td>California</td>\n",
       "      <td>Central Coast</td>\n",
       "      <td>Central Coast</td>\n",
       "      <td>NaN</td>\n",
       "      <td>NaN</td>\n",
       "      <td>Cupcake 2008 Chardonnay (Central Coast)</td>\n",
       "      <td>Chardonnay</td>\n",
       "      <td>Cupcake</td>\n",
       "    </tr>\n",
       "    <tr>\n",
       "      <th>98442</th>\n",
       "      <td>France</td>\n",
       "      <td>Very dense and firm, this has powerful tannins...</td>\n",
       "      <td>NaN</td>\n",
       "      <td>94</td>\n",
       "      <td>NaN</td>\n",
       "      <td>Bordeaux</td>\n",
       "      <td>Pessac-Léognan</td>\n",
       "      <td>NaN</td>\n",
       "      <td>Roger Voss</td>\n",
       "      <td>@vossroger</td>\n",
       "      <td>Château Smith Haut Lafitte 2009  Pessac-Léognan</td>\n",
       "      <td>Bordeaux-style Red Blend</td>\n",
       "      <td>Château Smith Haut Lafitte</td>\n",
       "    </tr>\n",
       "  </tbody>\n",
       "</table>\n",
       "</div>"
      ],
      "text/plain": [
       "       country                                        description  \\\n",
       "105424  France  Steinbach is a village at the extreme southern...   \n",
       "30811       US  Salted lemon rinds, ice-cold apple, fresh-sque...   \n",
       "86983    Italy  Delicately scented, this offers subtle aromas ...   \n",
       "109619      US  As sweet as angel food cake, with sugary vanil...   \n",
       "98442   France  Very dense and firm, this has powerful tannins...   \n",
       "\n",
       "                                           designation  points  price  \\\n",
       "105424                                       Steinbach      90   35.0   \n",
       "30811   Bien Nacido Vineyard Block II Mount Eden Clone      92   46.0   \n",
       "86983                                   Occhi di Ciumi      89   20.0   \n",
       "109619                                             NaN      82   14.0   \n",
       "98442                                              NaN      94    NaN   \n",
       "\n",
       "                 province            region_1       region_2    taster_name  \\\n",
       "105424             Alsace              Alsace            NaN     Roger Voss   \n",
       "30811          California  Santa Maria Valley  Central Coast  Matt Kettmann   \n",
       "86983   Sicily & Sardinia                Etna            NaN  Kerin O’Keefe   \n",
       "109619         California       Central Coast  Central Coast            NaN   \n",
       "98442            Bordeaux      Pessac-Léognan            NaN     Roger Voss   \n",
       "\n",
       "       taster_twitter_handle  \\\n",
       "105424            @vossroger   \n",
       "30811          @mattkettmann   \n",
       "86983           @kerinokeefe   \n",
       "109619                   NaN   \n",
       "98442             @vossroger   \n",
       "\n",
       "                                                    title  \\\n",
       "105424   Joseph Cattin 2010 Steinbach Pinot Noir (Alsace)   \n",
       "30811   Scar of the Sea 2013 Bien Nacido Vineyard Bloc...   \n",
       "86983              Al-Cantàra 2015 Occhi di Ciumi  (Etna)   \n",
       "109619            Cupcake 2008 Chardonnay (Central Coast)   \n",
       "98442     Château Smith Haut Lafitte 2009  Pessac-Léognan   \n",
       "\n",
       "                         variety                      winery  \n",
       "105424                Pinot Noir               Joseph Cattin  \n",
       "30811                 Chardonnay             Scar of the Sea  \n",
       "86983                White Blend                  Al-Cantàra  \n",
       "109619                Chardonnay                     Cupcake  \n",
       "98442   Bordeaux-style Red Blend  Château Smith Haut Lafitte  "
      ]
     },
     "execution_count": 4,
     "metadata": {},
     "output_type": "execute_result"
    }
   ],
   "source": [
    "data_csv.sample(5, random_state=4)"
   ]
  },
  {
   "cell_type": "markdown",
   "metadata": {},
   "source": [
    "The features all seem to be as described. Notably, the points are in integers and price is in decimals. Also, in this random sample of 5 rows I can already see seven data are missing. Much of the longer text data is inconsistent in structure, though all seem to have a year (vintage) which - if present in enough of them - could be useful for determining the age of the wine. Relevantly, the reviews were scraped on 22/02/2017. "
   ]
  },
  {
   "cell_type": "code",
   "execution_count": 5,
   "metadata": {},
   "outputs": [
    {
     "data": {
      "text/html": [
       "<div>\n",
       "<style scoped>\n",
       "    .dataframe tbody tr th:only-of-type {\n",
       "        vertical-align: middle;\n",
       "    }\n",
       "\n",
       "    .dataframe tbody tr th {\n",
       "        vertical-align: top;\n",
       "    }\n",
       "\n",
       "    .dataframe thead th {\n",
       "        text-align: right;\n",
       "    }\n",
       "</style>\n",
       "<table border=\"1\" class=\"dataframe\">\n",
       "  <thead>\n",
       "    <tr style=\"text-align: right;\">\n",
       "      <th></th>\n",
       "      <th>country</th>\n",
       "      <th>description</th>\n",
       "      <th>designation</th>\n",
       "      <th>points</th>\n",
       "      <th>price</th>\n",
       "      <th>province</th>\n",
       "      <th>region_1</th>\n",
       "      <th>region_2</th>\n",
       "      <th>taster_name</th>\n",
       "      <th>taster_twitter_handle</th>\n",
       "      <th>title</th>\n",
       "      <th>variety</th>\n",
       "      <th>winery</th>\n",
       "    </tr>\n",
       "  </thead>\n",
       "  <tbody>\n",
       "    <tr>\n",
       "      <th>105424</th>\n",
       "      <td>France</td>\n",
       "      <td>Steinbach is a village at the extreme southern...</td>\n",
       "      <td>Steinbach</td>\n",
       "      <td>90</td>\n",
       "      <td>35.0</td>\n",
       "      <td>Alsace</td>\n",
       "      <td>Alsace</td>\n",
       "      <td>None</td>\n",
       "      <td>Roger Voss</td>\n",
       "      <td>@vossroger</td>\n",
       "      <td>Joseph Cattin 2010 Steinbach Pinot Noir (Alsace)</td>\n",
       "      <td>Pinot Noir</td>\n",
       "      <td>Joseph Cattin</td>\n",
       "    </tr>\n",
       "    <tr>\n",
       "      <th>30811</th>\n",
       "      <td>US</td>\n",
       "      <td>Salted lemon rinds, ice-cold apple, fresh-sque...</td>\n",
       "      <td>Bien Nacido Vineyard Block II Mount Eden Clone</td>\n",
       "      <td>92</td>\n",
       "      <td>46.0</td>\n",
       "      <td>California</td>\n",
       "      <td>Santa Maria Valley</td>\n",
       "      <td>Central Coast</td>\n",
       "      <td>Matt Kettmann</td>\n",
       "      <td>@mattkettmann</td>\n",
       "      <td>Scar of the Sea 2013 Bien Nacido Vineyard Bloc...</td>\n",
       "      <td>Chardonnay</td>\n",
       "      <td>Scar of the Sea</td>\n",
       "    </tr>\n",
       "    <tr>\n",
       "      <th>86983</th>\n",
       "      <td>Italy</td>\n",
       "      <td>Delicately scented, this offers subtle aromas ...</td>\n",
       "      <td>Occhi di Ciumi</td>\n",
       "      <td>89</td>\n",
       "      <td>20.0</td>\n",
       "      <td>Sicily &amp; Sardinia</td>\n",
       "      <td>Etna</td>\n",
       "      <td>None</td>\n",
       "      <td>Kerin O’Keefe</td>\n",
       "      <td>@kerinokeefe</td>\n",
       "      <td>Al-Cantàra 2015 Occhi di Ciumi  (Etna)</td>\n",
       "      <td>White Blend</td>\n",
       "      <td>Al-Cantàra</td>\n",
       "    </tr>\n",
       "    <tr>\n",
       "      <th>109619</th>\n",
       "      <td>US</td>\n",
       "      <td>As sweet as angel food cake, with sugary vanil...</td>\n",
       "      <td>None</td>\n",
       "      <td>82</td>\n",
       "      <td>14.0</td>\n",
       "      <td>California</td>\n",
       "      <td>Central Coast</td>\n",
       "      <td>Central Coast</td>\n",
       "      <td>None</td>\n",
       "      <td>None</td>\n",
       "      <td>Cupcake 2008 Chardonnay (Central Coast)</td>\n",
       "      <td>Chardonnay</td>\n",
       "      <td>Cupcake</td>\n",
       "    </tr>\n",
       "  </tbody>\n",
       "</table>\n",
       "</div>"
      ],
      "text/plain": [
       "       country                                        description  \\\n",
       "105424  France  Steinbach is a village at the extreme southern...   \n",
       "30811       US  Salted lemon rinds, ice-cold apple, fresh-sque...   \n",
       "86983    Italy  Delicately scented, this offers subtle aromas ...   \n",
       "109619      US  As sweet as angel food cake, with sugary vanil...   \n",
       "\n",
       "                                           designation  points  price  \\\n",
       "105424                                       Steinbach      90   35.0   \n",
       "30811   Bien Nacido Vineyard Block II Mount Eden Clone      92   46.0   \n",
       "86983                                   Occhi di Ciumi      89   20.0   \n",
       "109619                                            None      82   14.0   \n",
       "\n",
       "                 province            region_1       region_2    taster_name  \\\n",
       "105424             Alsace              Alsace           None     Roger Voss   \n",
       "30811          California  Santa Maria Valley  Central Coast  Matt Kettmann   \n",
       "86983   Sicily & Sardinia                Etna           None  Kerin O’Keefe   \n",
       "109619         California       Central Coast  Central Coast           None   \n",
       "\n",
       "       taster_twitter_handle  \\\n",
       "105424            @vossroger   \n",
       "30811          @mattkettmann   \n",
       "86983           @kerinokeefe   \n",
       "109619                  None   \n",
       "\n",
       "                                                    title      variety  \\\n",
       "105424   Joseph Cattin 2010 Steinbach Pinot Noir (Alsace)   Pinot Noir   \n",
       "30811   Scar of the Sea 2013 Bien Nacido Vineyard Bloc...   Chardonnay   \n",
       "86983              Al-Cantàra 2015 Occhi di Ciumi  (Etna)  White Blend   \n",
       "109619            Cupcake 2008 Chardonnay (Central Coast)   Chardonnay   \n",
       "\n",
       "                 winery  \n",
       "105424    Joseph Cattin  \n",
       "30811   Scar of the Sea  \n",
       "86983        Al-Cantàra  \n",
       "109619          Cupcake  "
      ]
     },
     "execution_count": 5,
     "metadata": {},
     "output_type": "execute_result"
    }
   ],
   "source": [
    "data_json.sample(4, random_state=4)"
   ]
  },
  {
   "cell_type": "markdown",
   "metadata": {},
   "source": [
    "Immediately, this data looks the same as `data_csv`. "
   ]
  },
  {
   "cell_type": "code",
   "execution_count": 6,
   "metadata": {},
   "outputs": [
    {
     "data": {
      "text/plain": [
       "True"
      ]
     },
     "execution_count": 6,
     "metadata": {},
     "output_type": "execute_result"
    }
   ],
   "source": [
    "data_json.equals(data_csv)"
   ]
  },
  {
   "cell_type": "markdown",
   "metadata": {},
   "source": [
    "They are exactly the same. I can safely disregard `data_json`. This leaves a single data file, in CSV format, left to continue with. "
   ]
  },
  {
   "cell_type": "code",
   "execution_count": 7,
   "metadata": {},
   "outputs": [
    {
     "data": {
      "text/plain": [
       "(129971, 13)"
      ]
     },
     "execution_count": 7,
     "metadata": {},
     "output_type": "execute_result"
    }
   ],
   "source": [
    "data_csv.shape"
   ]
  },
  {
   "cell_type": "markdown",
   "metadata": {},
   "source": [
    "With 13 features and 129971 samples, there are 1,689,623 pices of data. \n",
    "- **country**: String. Nominal categorical. \n",
    "- **description**: String. Freeform text. \n",
    "- **designation**: String. Freeform text. \n",
    "- **points**: Numeric. Integer ratio. \n",
    "- **price**: Numeric: Continuous ratio. \n",
    "- **province**: String. Nominal categorical. \n",
    "- **region_1**: String. Nominal categorical. \n",
    "- **region_2**: String. Nominal categorical. \n",
    "- **taster_name**: String. Nominal categorical. \n",
    "- **taster_twitter_handle**: String. Nominal categorical. \n",
    "- **title**: String. Freeform text. Contains an integer interval datum that could be parsed. \n",
    "- **variety**: String. Nominal categorical. \n",
    "- **winery**: String. Nominal categorical. "
   ]
  },
  {
   "cell_type": "markdown",
   "metadata": {},
   "source": [
    "## Target variable\n",
    "Datatype?  \n",
    "Descriptive statistics?  \n",
    "Unbalanced? Does it need weighting?  \n",
    "Is it linearly separable?  \n",
    "What sorts of models can predict this?  \n",
    "\n",
    "The target variable is `points`. It's data type is integer ratio. "
   ]
  },
  {
   "cell_type": "code",
   "execution_count": 8,
   "metadata": {},
   "outputs": [
    {
     "data": {
      "text/plain": [
       "count    129971.000000\n",
       "mean         88.447138\n",
       "std           3.039730\n",
       "min          80.000000\n",
       "25%          86.000000\n",
       "50%          88.000000\n",
       "75%          91.000000\n",
       "max         100.000000\n",
       "Name: points, dtype: float64"
      ]
     },
     "execution_count": 8,
     "metadata": {},
     "output_type": "execute_result"
    }
   ],
   "source": [
    "# Descriptive statistics\n",
    "target_data.describe()"
   ]
  },
  {
   "cell_type": "markdown",
   "metadata": {},
   "source": [
    "There is no missing data in the target variable. There are also no scores below 80, which on a 0-100 score system would be farcical - I imagine the dataset was gathered explicitly excluding wines with point scores below that threshold? \n",
    "\n",
    "Having just read the code that scraped the website, I've found that it was hardcoded to scrape all the pages of reviews that were there at the time. I then went to the website itself; [ https://www.winemag.com/?s=&drink_type=wine&page=1&sort_by=rating&sort_dir=asc ], and discoverd that of 249,314 reiviews, only two were below 80. One is 22 points, and the other is 44 and marked as a duplicate. \n",
    "\n",
    "As I read further, I found this explanation of their ratings (table headers and formatting added by me): \n",
    "\n",
    ">| Score range | Quality | Description |\n",
    ">|---|---|---|\n",
    ">| 98–100 | Classic | The pinnacle of quality. |\n",
    ">| 94–97 | Superb | A great achievement. |\n",
    ">| 90–93 | Excellent | Highly recommended. |\n",
    ">| 87–89 | Very Good | Often good value; well recommended. |\n",
    ">| 83–86 | Good | Suitable for everyday consumption; often good value. |\n",
    ">| 80–82 | Acceptable | Can be employed in casual, less-critical circumstances. |\n",
    ">\n",
    ">Products deemed Unacceptable (receiving a rating below 80 points) are not reviewed.\n",
    "\n",
    "Which explains this completely. I don't know why the two sub-80 reviews aren't in this dataset, but they're clearly anomalies and I will discount them. "
   ]
  },
  {
   "cell_type": "code",
   "execution_count": 9,
   "metadata": {},
   "outputs": [
    {
     "data": {
      "text/plain": [
       "<matplotlib.axes._subplots.AxesSubplot at 0x7ff18314a208>"
      ]
     },
     "execution_count": 9,
     "metadata": {},
     "output_type": "execute_result"
    },
    {
     "data": {
      "image/png": "[encoded data removed]",
      "text/plain": [
       "<Figure size 1080x360 with 1 Axes>"
      ]
     },
     "metadata": {
      "needs_background": "light"
     },
     "output_type": "display_data"
    }
   ],
   "source": [
    "target_data.value_counts().sort_index().plot.bar(title='Number of wines with achieving each score', figsize=(15,5))"
   ]
  },
  {
   "cell_type": "code",
   "execution_count": 10,
   "metadata": {},
   "outputs": [
    {
     "name": "stdout",
     "output_type": "stream",
     "text": [
      "Target data skewness: 0.04592022248056047\n",
      "Target data kurtosis: -0.29599796801102096\n"
     ]
    }
   ],
   "source": [
    "stats_describe_target = stats.describe(target_data)\n",
    "print('Target data skewness: {}'.format(stats_describe_target.skewness))\n",
    "print('Target data kurtosis: {}'.format(stats_describe_target.kurtosis))"
   ]
  },
  {
   "cell_type": "markdown",
   "metadata": {},
   "source": [
    "These skewness and kurtosis scores make sense, and the distribution of the target variable does look rather like a normal distribution, give or take. "
   ]
  },
  {
   "cell_type": "code",
   "execution_count": 11,
   "metadata": {},
   "outputs": [
    {
     "data": {
      "image/png": "[encoded data removed]",
      "text/plain": [
       "<Figure size 1080x360 with 1 Axes>"
      ]
     },
     "metadata": {
      "needs_background": "light"
     },
     "output_type": "display_data"
    }
   ],
   "source": [
    "ax = target_data.plot.box(title='Plot of quartiles of target data', figsize=(15,5), vert=False)\n",
    "ax.set_xticks(target_data.value_counts().sort_index().index);"
   ]
  },
  {
   "cell_type": "markdown",
   "metadata": {},
   "source": [
    "This boxplot shows that despite the distribution being fairly normal, it does have outliers. Since they're everything above 98, I'll check how many there are: "
   ]
  },
  {
   "cell_type": "code",
   "execution_count": 12,
   "metadata": {},
   "outputs": [
    {
     "data": {
      "text/plain": [
       "52"
      ]
     },
     "execution_count": 12,
     "metadata": {},
     "output_type": "execute_result"
    }
   ],
   "source": [
    "target_data[target_data>98].size"
   ]
  },
  {
   "cell_type": "markdown",
   "metadata": {},
   "source": [
    "Apparently there are 52 suspected outliers in this dataset, which out of 129971, isn't many. Unless there's a specific reason to remove them, I'll leave them in, and consider any further engineering of them when I have more context, if necessary. \n",
    "\n",
    "Seeing as how this data is integer ratio data, it is evidently linearly separable. I will consider using regression models to make predictive models for this. "
   ]
  },
  {
   "cell_type": "markdown",
   "metadata": {},
   "source": [
    "## Feature data\n",
    "### Numeric\n",
    "Independent or dependent?  \n",
    "What are the descriptive statistics of the data?  \n",
    "Is it sparse or dense?  \n",
    "How much of it is missing?  \n",
    "\n",
    "Some of the features are independent of each other, in so far as anything in the physical universe is independent of anything else, though several are not. taster_name and taster_twitter_handle, which seem to share some similarity, for obvious reasons. It is likely that one of these will be dropped before the analysis, because it's duplicate information. "
   ]
  },
  {
   "cell_type": "code",
   "execution_count": 13,
   "metadata": {},
   "outputs": [
    {
     "data": {
      "text/html": [
       "<div>\n",
       "<style scoped>\n",
       "    .dataframe tbody tr th:only-of-type {\n",
       "        vertical-align: middle;\n",
       "    }\n",
       "\n",
       "    .dataframe tbody tr th {\n",
       "        vertical-align: top;\n",
       "    }\n",
       "\n",
       "    .dataframe thead th {\n",
       "        text-align: right;\n",
       "    }\n",
       "</style>\n",
       "<table border=\"1\" class=\"dataframe\">\n",
       "  <thead>\n",
       "    <tr style=\"text-align: right;\">\n",
       "      <th></th>\n",
       "      <th>price</th>\n",
       "    </tr>\n",
       "  </thead>\n",
       "  <tbody>\n",
       "    <tr>\n",
       "      <th>count</th>\n",
       "      <td>120975.000000</td>\n",
       "    </tr>\n",
       "    <tr>\n",
       "      <th>mean</th>\n",
       "      <td>35.363389</td>\n",
       "    </tr>\n",
       "    <tr>\n",
       "      <th>std</th>\n",
       "      <td>41.022218</td>\n",
       "    </tr>\n",
       "    <tr>\n",
       "      <th>min</th>\n",
       "      <td>4.000000</td>\n",
       "    </tr>\n",
       "    <tr>\n",
       "      <th>25%</th>\n",
       "      <td>17.000000</td>\n",
       "    </tr>\n",
       "    <tr>\n",
       "      <th>50%</th>\n",
       "      <td>25.000000</td>\n",
       "    </tr>\n",
       "    <tr>\n",
       "      <th>75%</th>\n",
       "      <td>42.000000</td>\n",
       "    </tr>\n",
       "    <tr>\n",
       "      <th>max</th>\n",
       "      <td>3300.000000</td>\n",
       "    </tr>\n",
       "  </tbody>\n",
       "</table>\n",
       "</div>"
      ],
      "text/plain": [
       "               price\n",
       "count  120975.000000\n",
       "mean       35.363389\n",
       "std        41.022218\n",
       "min         4.000000\n",
       "25%        17.000000\n",
       "50%        25.000000\n",
       "75%        42.000000\n",
       "max      3300.000000"
      ]
     },
     "execution_count": 13,
     "metadata": {},
     "output_type": "execute_result"
    }
   ],
   "source": [
    "feature_data.describe()"
   ]
  },
  {
   "cell_type": "markdown",
   "metadata": {},
   "source": [
    "Since price is the only numerical feature variable, `pd.describe()` has limited use.  \n",
    "That said, looking at this shows some interesting things: the standard deviation is larger than the mean for a continuous ratio variable, and three percentiles, as well as the standard deviation and the mean, are all two orders of magnitude smaller than the max value. I'd like to see what a boxplot labels as suspected outliers: "
   ]
  },
  {
   "cell_type": "code",
   "execution_count": 39,
   "metadata": {},
   "outputs": [
    {
     "data": {
      "text/plain": [
       "<matplotlib.axes._subplots.AxesSubplot at 0x7ff17df3c198>"
      ]
     },
     "execution_count": 39,
     "metadata": {},
     "output_type": "execute_result"
    },
    {
     "data": {
      "image/png": "[encoded data removed]",
      "text/plain": [
       "<Figure size 1080x360 with 1 Axes>"
      ]
     },
     "metadata": {
      "needs_background": "light"
     },
     "output_type": "display_data"
    }
   ],
   "source": [
    "feature_data.price.plot.box(x='price', figsize=(15,5), vert=False)"
   ]
  },
  {
   "cell_type": "code",
   "execution_count": 49,
   "metadata": {},
   "outputs": [
    {
     "data": {
      "text/plain": [
       "<matplotlib.axes._subplots.AxesSubplot at 0x7ff17dd7ccf8>"
      ]
     },
     "execution_count": 49,
     "metadata": {},
     "output_type": "execute_result"
    },
    {
     "data": {
      "image/png": "[encoded data removed]",
      "text/plain": [
       "<Figure size 1080x360 with 1 Axes>"
      ]
     },
     "metadata": {
      "needs_background": "light"
     },
     "output_type": "display_data"
    }
   ],
   "source": [
    "feature_data[feature_data.price<100].price.plot.box(x='price', figsize=(15,5), vert=False)"
   ]
  },
  {
   "cell_type": "markdown",
   "metadata": {},
   "source": [
    "That's a huge part of the range that's outlier territory, from 72 to 3000. "
   ]
  },
  {
   "cell_type": "code",
   "execution_count": 51,
   "metadata": {},
   "outputs": [
    {
     "data": {
      "text/plain": [
       "111408"
      ]
     },
     "execution_count": 51,
     "metadata": {},
     "output_type": "execute_result"
    }
   ],
   "source": [
    "feature_data[feature_data.price>=72].size"
   ]
  },
  {
   "cell_type": "code",
   "execution_count": 14,
   "metadata": {},
   "outputs": [
    {
     "name": "stdout",
     "output_type": "stream",
     "text": [
      "<class 'pandas.core.frame.DataFrame'>\n",
      "Int64Index: 129971 entries, 0 to 129970\n",
      "Data columns (total 12 columns):\n",
      "country                  129908 non-null object\n",
      "description              129971 non-null object\n",
      "designation              92506 non-null object\n",
      "price                    120975 non-null float64\n",
      "province                 129908 non-null object\n",
      "region_1                 108724 non-null object\n",
      "region_2                 50511 non-null object\n",
      "taster_name              103727 non-null object\n",
      "taster_twitter_handle    98758 non-null object\n",
      "title                    129971 non-null object\n",
      "variety                  129970 non-null object\n",
      "winery                   129971 non-null object\n",
      "dtypes: float64(1), object(11)\n",
      "memory usage: 12.9+ MB\n"
     ]
    }
   ],
   "source": [
    "feature_data.info()"
   ]
  },
  {
   "cell_type": "markdown",
   "metadata": {},
   "source": []
  }
 ],
 "metadata": {
  "kernelspec": {
   "display_name": "Python 3",
   "language": "python",
   "name": "python3"
  },
  "language_info": {
   "codemirror_mode": {
    "name": "ipython",
    "version": 3
   },
   "file_extension": ".py",
   "mimetype": "text/x-python",
   "name": "python",
   "nbconvert_exporter": "python",
   "pygments_lexer": "ipython3",
   "version": "3.6.6"
  }
 },
 "nbformat": 4,
 "nbformat_minor": 2
}
