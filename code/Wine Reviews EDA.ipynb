{
 "cells": [
  {
   "cell_type": "code",
   "execution_count": 1,
   "metadata": {},
   "outputs": [],
   "source": [
    "# Imports and data loading\n",
    "import pandas as pd\n",
    "import numpy as np\n",
    "import matplotlib.pyplot as plt\n",
    "from scipy import stats\n",
    "import matplotlib.pyplot as plt\n",
    "import seaborn as sns"
   ]
  },
  {
   "cell_type": "code",
   "execution_count": 2,
   "metadata": {},
   "outputs": [],
   "source": [
    "first_150k = pd.read_csv('../input/wine-reviews/winemag-data_first150k.csv', index_col=0)\n",
    "data_csv = pd.read_csv('../input/wine-reviews/winemag-data-130k-v2.csv', index_col=0)\n",
    "data_json = pd.read_json('../input/wine-reviews/winemag-data-130k-v2.json')\n",
    "\n",
    "data = data_csv\n",
    "target_data = data['points']\n",
    "feature_data = data.drop('points', axis=1)"
   ]
  },
  {
   "cell_type": "markdown",
   "metadata": {},
   "source": [
    "## Read the manual\n",
    "The 'manual' for this data comes in the form of text descriptions on the kaggle site about this data that I have copied and pasted into a txt file, then formatted. \n",
    "\n",
    ">Here is a CSV version of the data I scraped. This dataset has three new fields  \n",
    "--Title (which you can parse the vintage from), Taster Name, and Taster Twitter Handle. This should also fix the duplicate entries problem in the first version of the dataset and add ~25k unique reviews to play with. \n",
    "\n",
    "So There are two copies of the dataset, one of which I can see is duplicated in .json form. \n",
    "\n",
    "> After watching Somm (a documentary on master sommeliers) I wondered how I could create a predictive model to identify wines through blind tasting like a master sommelier would. The first step in this journey was gathering some data to train a model. I plan to use deep learning to predict the wine variety using words in the description/review. The model still won't be able to taste the wine, but theoretically it could identify the wine based on a description that a sommelier could give. If anyone has any ideas on how to accomplish this, please post them!\n",
    "\n",
    "So their purpose was similar to mine: pick good wines. \n",
    "\n",
    ">winemag-data-130k-v2.csv contains 10 columns and 130k rows of wine reviews.  \n",
    "winemag-data_first150k.csv contains 10 columns and 150k rows of wine reviews.  \n",
    "winemag-data-130k-v2.json contains 6919 nodes of wine reviews.\n",
    "\n",
    "There are three files, one of which is the 'first', and the other two are 'v2', but in different file formats. \n",
    "\n",
    ">The data was scraped from WineEnthusiast during the week of June 15th, 2017. The code for the scraper can be found here if you have any more specific questions about data collection that I didn't address.  \n",
    "**UPDATE 11/24/2017** After feedback from users of the dataset I scraped the reviews again on November 22nd, 2017. This time around I collected the title of each review, which you can parse the year out of, the tasters name, and the taster's Twitter handle. This should also fix the duplicate entry issue.\n",
    "\n",
    "The data was acquired by web scraping, and then an updated version was scraped that removed some issues with the data. I guess that's what 'first' and 'v2' are referring to. \n",
    "\n",
    ">**Inspiration**  \n",
    "I think that this dataset offers some great opportunities for sentiment analysis and other text related predictive models. My overall goal is to create a model that can identify the variety, winery, and location of a wine based on a description. If anyone has any ideas, breakthroughs, or other interesting insights/models please post them.\n",
    "\n",
    "Yes. This is a worthy goal. \n",
    "\n",
    ">Numeric: unnamed, but functions as a count from 0 ID number  \n",
    "**String: country**  \n",
    "The country that the wine is from  \n",
    "**String: description**  \n",
    "A few sentences from a sommelier describing the wine's taste, smell, look, feel, etc.  \n",
    "**String: designation**  \n",
    "The vineyard within the winery where the grapes that made the wine are from  \n",
    "**Numeric: points**  \n",
    "The number of points WineEnthusiast rated the wine on a scale of 1-100 (though they say they only post reviews for wines that score >=80)  \n",
    "**Numeric: price**  \n",
    "The cost for a bottle of the wine  \n",
    "**String: province**  \n",
    "The province or state that the wine is from  \n",
    "**String: region_1**  \n",
    "The wine growing area in a province or state (ie Napa)  \n",
    "**String: region_2**  \n",
    "Sometimes there are more specific regions specified within a wine growing area (ie Rutherford inside the Napa Valley), but this value can sometimes be blank  \n",
    "**String: taster_name**  \n",
    "Name of the person who tasted and reviewed the wine  \n",
    "**String: taster_twitter_handle**  \n",
    "Twitter handle for the person who tasted and reviewed the wine  \n",
    "**String: title**  \n",
    "The title of the wine review, which often contains the vintage if you're interested in extracting that feature  \n",
    "**String: variety**  \n",
    "The type of grapes used to make the wine (ie Pinot Noir)  \n",
    "**String: winery**  \n",
    "The winery that made the wine  \n",
    "\n",
    "Useful data types and descriptions for the 14 columns. One of them is just an ID column, which I'll incorporate into the dataframe as the index upon loading. The rest are useful looking things, including a freeform text description, name, point score, price, location data, reviewer data (who wrote the description and gave the point score), some text data indicating it's name and year the grapes were picked, the variety of grapes, and the winery that produced the wine. \n",
    "\n",
    "Most significantly, above all previous wine-related datasets, these features (besides points and reviewer) are things I can actually find out by reading the label in the shop. This is probably the most useful wine related dataset so far (it's also by far the largest). \n",
    "\n",
    "The text data is all freeform and needs to be processed to make it usable. Some needs simple encoding, others require further processing to be useful. "
   ]
  },
  {
   "cell_type": "markdown",
   "metadata": {},
   "source": [
    "## Basics\n",
    "What does the data look like?  \n",
    "How much of it is there?  \n",
    "What type of data is it? "
   ]
  },
  {
   "cell_type": "code",
   "execution_count": 3,
   "metadata": {},
   "outputs": [
    {
     "data": {
      "text/html": [
       "<div>\n",
       "<style scoped>\n",
       "    .dataframe tbody tr th:only-of-type {\n",
       "        vertical-align: middle;\n",
       "    }\n",
       "\n",
       "    .dataframe tbody tr th {\n",
       "        vertical-align: top;\n",
       "    }\n",
       "\n",
       "    .dataframe thead th {\n",
       "        text-align: right;\n",
       "    }\n",
       "</style>\n",
       "<table border=\"1\" class=\"dataframe\">\n",
       "  <thead>\n",
       "    <tr style=\"text-align: right;\">\n",
       "      <th></th>\n",
       "      <th>country</th>\n",
       "      <th>description</th>\n",
       "      <th>designation</th>\n",
       "      <th>points</th>\n",
       "      <th>price</th>\n",
       "      <th>province</th>\n",
       "      <th>region_1</th>\n",
       "      <th>region_2</th>\n",
       "      <th>variety</th>\n",
       "      <th>winery</th>\n",
       "    </tr>\n",
       "  </thead>\n",
       "  <tbody>\n",
       "    <tr>\n",
       "      <th>31034</th>\n",
       "      <td>US</td>\n",
       "      <td>The aromas seem a bit muddled, with notes of j...</td>\n",
       "      <td>Colter's Creek Estate</td>\n",
       "      <td>84</td>\n",
       "      <td>10.0</td>\n",
       "      <td>Idaho</td>\n",
       "      <td>Idaho</td>\n",
       "      <td>NaN</td>\n",
       "      <td>Riesling</td>\n",
       "      <td>Colter's Creek</td>\n",
       "    </tr>\n",
       "    <tr>\n",
       "      <th>58</th>\n",
       "      <td>US</td>\n",
       "      <td>Cabernet makes up just over half of this blend...</td>\n",
       "      <td>Final Final</td>\n",
       "      <td>90</td>\n",
       "      <td>30.0</td>\n",
       "      <td>Washington</td>\n",
       "      <td>Columbia Valley (WA)</td>\n",
       "      <td>Columbia Valley</td>\n",
       "      <td>Cabernet Sauvignon-Syrah</td>\n",
       "      <td>Efeste</td>\n",
       "    </tr>\n",
       "    <tr>\n",
       "      <th>24657</th>\n",
       "      <td>Italy</td>\n",
       "      <td>Le Macchiole's Bolgheri Rosso blend (Merlot, C...</td>\n",
       "      <td>NaN</td>\n",
       "      <td>90</td>\n",
       "      <td>30.0</td>\n",
       "      <td>Tuscany</td>\n",
       "      <td>Bolgheri</td>\n",
       "      <td>NaN</td>\n",
       "      <td>Red Blend</td>\n",
       "      <td>Le Macchiole</td>\n",
       "    </tr>\n",
       "    <tr>\n",
       "      <th>139801</th>\n",
       "      <td>Italy</td>\n",
       "      <td>A special, gentle wine with caressing persiste...</td>\n",
       "      <td>NaN</td>\n",
       "      <td>92</td>\n",
       "      <td>60.0</td>\n",
       "      <td>Tuscany</td>\n",
       "      <td>Brunello di Montalcino</td>\n",
       "      <td>NaN</td>\n",
       "      <td>Sangiovese</td>\n",
       "      <td>Fornacina</td>\n",
       "    </tr>\n",
       "    <tr>\n",
       "      <th>1820</th>\n",
       "      <td>US</td>\n",
       "      <td>Winemaker Nick Goldschmidt does wonders with t...</td>\n",
       "      <td>Lone Tree Vineyard</td>\n",
       "      <td>90</td>\n",
       "      <td>50.0</td>\n",
       "      <td>California</td>\n",
       "      <td>Alexander Valley</td>\n",
       "      <td>Sonoma</td>\n",
       "      <td>Cabernet Sauvignon</td>\n",
       "      <td>Forefathers</td>\n",
       "    </tr>\n",
       "  </tbody>\n",
       "</table>\n",
       "</div>"
      ],
      "text/plain": [
       "       country                                        description  \\\n",
       "31034       US  The aromas seem a bit muddled, with notes of j...   \n",
       "58          US  Cabernet makes up just over half of this blend...   \n",
       "24657    Italy  Le Macchiole's Bolgheri Rosso blend (Merlot, C...   \n",
       "139801   Italy  A special, gentle wine with caressing persiste...   \n",
       "1820        US  Winemaker Nick Goldschmidt does wonders with t...   \n",
       "\n",
       "                  designation  points  price    province  \\\n",
       "31034   Colter's Creek Estate      84   10.0       Idaho   \n",
       "58                Final Final      90   30.0  Washington   \n",
       "24657                     NaN      90   30.0     Tuscany   \n",
       "139801                    NaN      92   60.0     Tuscany   \n",
       "1820       Lone Tree Vineyard      90   50.0  California   \n",
       "\n",
       "                      region_1         region_2                   variety  \\\n",
       "31034                    Idaho              NaN                  Riesling   \n",
       "58        Columbia Valley (WA)  Columbia Valley  Cabernet Sauvignon-Syrah   \n",
       "24657                 Bolgheri              NaN                 Red Blend   \n",
       "139801  Brunello di Montalcino              NaN                Sangiovese   \n",
       "1820          Alexander Valley           Sonoma        Cabernet Sauvignon   \n",
       "\n",
       "                winery  \n",
       "31034   Colter's Creek  \n",
       "58              Efeste  \n",
       "24657     Le Macchiole  \n",
       "139801       Fornacina  \n",
       "1820       Forefathers  "
      ]
     },
     "execution_count": 3,
     "metadata": {},
     "output_type": "execute_result"
    }
   ],
   "source": [
    "first_150k.sample(5, random_state=4)"
   ]
  },
  {
   "cell_type": "markdown",
   "metadata": {},
   "source": [
    "The first data collected has fewer columns, but is otherwise as described. Since I've already decided not to use the old data, and to work with the more recently collected data (that also has more features), I will not analyse this any further. "
   ]
  },
  {
   "cell_type": "code",
   "execution_count": 4,
   "metadata": {},
   "outputs": [
    {
     "data": {
      "text/html": [
       "<div>\n",
       "<style scoped>\n",
       "    .dataframe tbody tr th:only-of-type {\n",
       "        vertical-align: middle;\n",
       "    }\n",
       "\n",
       "    .dataframe tbody tr th {\n",
       "        vertical-align: top;\n",
       "    }\n",
       "\n",
       "    .dataframe thead th {\n",
       "        text-align: right;\n",
       "    }\n",
       "</style>\n",
       "<table border=\"1\" class=\"dataframe\">\n",
       "  <thead>\n",
       "    <tr style=\"text-align: right;\">\n",
       "      <th></th>\n",
       "      <th>country</th>\n",
       "      <th>description</th>\n",
       "      <th>designation</th>\n",
       "      <th>points</th>\n",
       "      <th>price</th>\n",
       "      <th>province</th>\n",
       "      <th>region_1</th>\n",
       "      <th>region_2</th>\n",
       "      <th>taster_name</th>\n",
       "      <th>taster_twitter_handle</th>\n",
       "      <th>title</th>\n",
       "      <th>variety</th>\n",
       "      <th>winery</th>\n",
       "    </tr>\n",
       "  </thead>\n",
       "  <tbody>\n",
       "    <tr>\n",
       "      <th>105424</th>\n",
       "      <td>France</td>\n",
       "      <td>Steinbach is a village at the extreme southern...</td>\n",
       "      <td>Steinbach</td>\n",
       "      <td>90</td>\n",
       "      <td>35.0</td>\n",
       "      <td>Alsace</td>\n",
       "      <td>Alsace</td>\n",
       "      <td>NaN</td>\n",
       "      <td>Roger Voss</td>\n",
       "      <td>@vossroger</td>\n",
       "      <td>Joseph Cattin 2010 Steinbach Pinot Noir (Alsace)</td>\n",
       "      <td>Pinot Noir</td>\n",
       "      <td>Joseph Cattin</td>\n",
       "    </tr>\n",
       "    <tr>\n",
       "      <th>30811</th>\n",
       "      <td>US</td>\n",
       "      <td>Salted lemon rinds, ice-cold apple, fresh-sque...</td>\n",
       "      <td>Bien Nacido Vineyard Block II Mount Eden Clone</td>\n",
       "      <td>92</td>\n",
       "      <td>46.0</td>\n",
       "      <td>California</td>\n",
       "      <td>Santa Maria Valley</td>\n",
       "      <td>Central Coast</td>\n",
       "      <td>Matt Kettmann</td>\n",
       "      <td>@mattkettmann</td>\n",
       "      <td>Scar of the Sea 2013 Bien Nacido Vineyard Bloc...</td>\n",
       "      <td>Chardonnay</td>\n",
       "      <td>Scar of the Sea</td>\n",
       "    </tr>\n",
       "    <tr>\n",
       "      <th>86983</th>\n",
       "      <td>Italy</td>\n",
       "      <td>Delicately scented, this offers subtle aromas ...</td>\n",
       "      <td>Occhi di Ciumi</td>\n",
       "      <td>89</td>\n",
       "      <td>20.0</td>\n",
       "      <td>Sicily &amp; Sardinia</td>\n",
       "      <td>Etna</td>\n",
       "      <td>NaN</td>\n",
       "      <td>Kerin O’Keefe</td>\n",
       "      <td>@kerinokeefe</td>\n",
       "      <td>Al-Cantàra 2015 Occhi di Ciumi  (Etna)</td>\n",
       "      <td>White Blend</td>\n",
       "      <td>Al-Cantàra</td>\n",
       "    </tr>\n",
       "    <tr>\n",
       "      <th>109619</th>\n",
       "      <td>US</td>\n",
       "      <td>As sweet as angel food cake, with sugary vanil...</td>\n",
       "      <td>NaN</td>\n",
       "      <td>82</td>\n",
       "      <td>14.0</td>\n",
       "      <td>California</td>\n",
       "      <td>Central Coast</td>\n",
       "      <td>Central Coast</td>\n",
       "      <td>NaN</td>\n",
       "      <td>NaN</td>\n",
       "      <td>Cupcake 2008 Chardonnay (Central Coast)</td>\n",
       "      <td>Chardonnay</td>\n",
       "      <td>Cupcake</td>\n",
       "    </tr>\n",
       "    <tr>\n",
       "      <th>98442</th>\n",
       "      <td>France</td>\n",
       "      <td>Very dense and firm, this has powerful tannins...</td>\n",
       "      <td>NaN</td>\n",
       "      <td>94</td>\n",
       "      <td>NaN</td>\n",
       "      <td>Bordeaux</td>\n",
       "      <td>Pessac-Léognan</td>\n",
       "      <td>NaN</td>\n",
       "      <td>Roger Voss</td>\n",
       "      <td>@vossroger</td>\n",
       "      <td>Château Smith Haut Lafitte 2009  Pessac-Léognan</td>\n",
       "      <td>Bordeaux-style Red Blend</td>\n",
       "      <td>Château Smith Haut Lafitte</td>\n",
       "    </tr>\n",
       "  </tbody>\n",
       "</table>\n",
       "</div>"
      ],
      "text/plain": [
       "       country                                        description  \\\n",
       "105424  France  Steinbach is a village at the extreme southern...   \n",
       "30811       US  Salted lemon rinds, ice-cold apple, fresh-sque...   \n",
       "86983    Italy  Delicately scented, this offers subtle aromas ...   \n",
       "109619      US  As sweet as angel food cake, with sugary vanil...   \n",
       "98442   France  Very dense and firm, this has powerful tannins...   \n",
       "\n",
       "                                           designation  points  price  \\\n",
       "105424                                       Steinbach      90   35.0   \n",
       "30811   Bien Nacido Vineyard Block II Mount Eden Clone      92   46.0   \n",
       "86983                                   Occhi di Ciumi      89   20.0   \n",
       "109619                                             NaN      82   14.0   \n",
       "98442                                              NaN      94    NaN   \n",
       "\n",
       "                 province            region_1       region_2    taster_name  \\\n",
       "105424             Alsace              Alsace            NaN     Roger Voss   \n",
       "30811          California  Santa Maria Valley  Central Coast  Matt Kettmann   \n",
       "86983   Sicily & Sardinia                Etna            NaN  Kerin O’Keefe   \n",
       "109619         California       Central Coast  Central Coast            NaN   \n",
       "98442            Bordeaux      Pessac-Léognan            NaN     Roger Voss   \n",
       "\n",
       "       taster_twitter_handle  \\\n",
       "105424            @vossroger   \n",
       "30811          @mattkettmann   \n",
       "86983           @kerinokeefe   \n",
       "109619                   NaN   \n",
       "98442             @vossroger   \n",
       "\n",
       "                                                    title  \\\n",
       "105424   Joseph Cattin 2010 Steinbach Pinot Noir (Alsace)   \n",
       "30811   Scar of the Sea 2013 Bien Nacido Vineyard Bloc...   \n",
       "86983              Al-Cantàra 2015 Occhi di Ciumi  (Etna)   \n",
       "109619            Cupcake 2008 Chardonnay (Central Coast)   \n",
       "98442     Château Smith Haut Lafitte 2009  Pessac-Léognan   \n",
       "\n",
       "                         variety                      winery  \n",
       "105424                Pinot Noir               Joseph Cattin  \n",
       "30811                 Chardonnay             Scar of the Sea  \n",
       "86983                White Blend                  Al-Cantàra  \n",
       "109619                Chardonnay                     Cupcake  \n",
       "98442   Bordeaux-style Red Blend  Château Smith Haut Lafitte  "
      ]
     },
     "execution_count": 4,
     "metadata": {},
     "output_type": "execute_result"
    }
   ],
   "source": [
    "data_csv.sample(5, random_state=4)"
   ]
  },
  {
   "cell_type": "markdown",
   "metadata": {},
   "source": [
    "The features all seem to be as described. Notably, the points are in integers and price is in decimals. Also, in this random sample of 5 rows I can already see seven data are missing. Much of the longer text data is inconsistent in structure, though all seem to have a year (vintage) which - if present in enough of them - could be useful for determining the age of the wine. Relevantly, the reviews were scraped on 22/02/2017. "
   ]
  },
  {
   "cell_type": "code",
   "execution_count": 5,
   "metadata": {},
   "outputs": [
    {
     "data": {
      "text/html": [
       "<div>\n",
       "<style scoped>\n",
       "    .dataframe tbody tr th:only-of-type {\n",
       "        vertical-align: middle;\n",
       "    }\n",
       "\n",
       "    .dataframe tbody tr th {\n",
       "        vertical-align: top;\n",
       "    }\n",
       "\n",
       "    .dataframe thead th {\n",
       "        text-align: right;\n",
       "    }\n",
       "</style>\n",
       "<table border=\"1\" class=\"dataframe\">\n",
       "  <thead>\n",
       "    <tr style=\"text-align: right;\">\n",
       "      <th></th>\n",
       "      <th>country</th>\n",
       "      <th>description</th>\n",
       "      <th>designation</th>\n",
       "      <th>points</th>\n",
       "      <th>price</th>\n",
       "      <th>province</th>\n",
       "      <th>region_1</th>\n",
       "      <th>region_2</th>\n",
       "      <th>taster_name</th>\n",
       "      <th>taster_twitter_handle</th>\n",
       "      <th>title</th>\n",
       "      <th>variety</th>\n",
       "      <th>winery</th>\n",
       "    </tr>\n",
       "  </thead>\n",
       "  <tbody>\n",
       "    <tr>\n",
       "      <th>105424</th>\n",
       "      <td>France</td>\n",
       "      <td>Steinbach is a village at the extreme southern...</td>\n",
       "      <td>Steinbach</td>\n",
       "      <td>90</td>\n",
       "      <td>35.0</td>\n",
       "      <td>Alsace</td>\n",
       "      <td>Alsace</td>\n",
       "      <td>None</td>\n",
       "      <td>Roger Voss</td>\n",
       "      <td>@vossroger</td>\n",
       "      <td>Joseph Cattin 2010 Steinbach Pinot Noir (Alsace)</td>\n",
       "      <td>Pinot Noir</td>\n",
       "      <td>Joseph Cattin</td>\n",
       "    </tr>\n",
       "    <tr>\n",
       "      <th>30811</th>\n",
       "      <td>US</td>\n",
       "      <td>Salted lemon rinds, ice-cold apple, fresh-sque...</td>\n",
       "      <td>Bien Nacido Vineyard Block II Mount Eden Clone</td>\n",
       "      <td>92</td>\n",
       "      <td>46.0</td>\n",
       "      <td>California</td>\n",
       "      <td>Santa Maria Valley</td>\n",
       "      <td>Central Coast</td>\n",
       "      <td>Matt Kettmann</td>\n",
       "      <td>@mattkettmann</td>\n",
       "      <td>Scar of the Sea 2013 Bien Nacido Vineyard Bloc...</td>\n",
       "      <td>Chardonnay</td>\n",
       "      <td>Scar of the Sea</td>\n",
       "    </tr>\n",
       "    <tr>\n",
       "      <th>86983</th>\n",
       "      <td>Italy</td>\n",
       "      <td>Delicately scented, this offers subtle aromas ...</td>\n",
       "      <td>Occhi di Ciumi</td>\n",
       "      <td>89</td>\n",
       "      <td>20.0</td>\n",
       "      <td>Sicily &amp; Sardinia</td>\n",
       "      <td>Etna</td>\n",
       "      <td>None</td>\n",
       "      <td>Kerin O’Keefe</td>\n",
       "      <td>@kerinokeefe</td>\n",
       "      <td>Al-Cantàra 2015 Occhi di Ciumi  (Etna)</td>\n",
       "      <td>White Blend</td>\n",
       "      <td>Al-Cantàra</td>\n",
       "    </tr>\n",
       "    <tr>\n",
       "      <th>109619</th>\n",
       "      <td>US</td>\n",
       "      <td>As sweet as angel food cake, with sugary vanil...</td>\n",
       "      <td>None</td>\n",
       "      <td>82</td>\n",
       "      <td>14.0</td>\n",
       "      <td>California</td>\n",
       "      <td>Central Coast</td>\n",
       "      <td>Central Coast</td>\n",
       "      <td>None</td>\n",
       "      <td>None</td>\n",
       "      <td>Cupcake 2008 Chardonnay (Central Coast)</td>\n",
       "      <td>Chardonnay</td>\n",
       "      <td>Cupcake</td>\n",
       "    </tr>\n",
       "    <tr>\n",
       "      <th>98442</th>\n",
       "      <td>France</td>\n",
       "      <td>Very dense and firm, this has powerful tannins...</td>\n",
       "      <td>None</td>\n",
       "      <td>94</td>\n",
       "      <td>NaN</td>\n",
       "      <td>Bordeaux</td>\n",
       "      <td>Pessac-Léognan</td>\n",
       "      <td>None</td>\n",
       "      <td>Roger Voss</td>\n",
       "      <td>@vossroger</td>\n",
       "      <td>Château Smith Haut Lafitte 2009  Pessac-Léognan</td>\n",
       "      <td>Bordeaux-style Red Blend</td>\n",
       "      <td>Château Smith Haut Lafitte</td>\n",
       "    </tr>\n",
       "  </tbody>\n",
       "</table>\n",
       "</div>"
      ],
      "text/plain": [
       "       country                                        description  \\\n",
       "105424  France  Steinbach is a village at the extreme southern...   \n",
       "30811       US  Salted lemon rinds, ice-cold apple, fresh-sque...   \n",
       "86983    Italy  Delicately scented, this offers subtle aromas ...   \n",
       "109619      US  As sweet as angel food cake, with sugary vanil...   \n",
       "98442   France  Very dense and firm, this has powerful tannins...   \n",
       "\n",
       "                                           designation  points  price  \\\n",
       "105424                                       Steinbach      90   35.0   \n",
       "30811   Bien Nacido Vineyard Block II Mount Eden Clone      92   46.0   \n",
       "86983                                   Occhi di Ciumi      89   20.0   \n",
       "109619                                            None      82   14.0   \n",
       "98442                                             None      94    NaN   \n",
       "\n",
       "                 province            region_1       region_2    taster_name  \\\n",
       "105424             Alsace              Alsace           None     Roger Voss   \n",
       "30811          California  Santa Maria Valley  Central Coast  Matt Kettmann   \n",
       "86983   Sicily & Sardinia                Etna           None  Kerin O’Keefe   \n",
       "109619         California       Central Coast  Central Coast           None   \n",
       "98442            Bordeaux      Pessac-Léognan           None     Roger Voss   \n",
       "\n",
       "       taster_twitter_handle  \\\n",
       "105424            @vossroger   \n",
       "30811          @mattkettmann   \n",
       "86983           @kerinokeefe   \n",
       "109619                  None   \n",
       "98442             @vossroger   \n",
       "\n",
       "                                                    title  \\\n",
       "105424   Joseph Cattin 2010 Steinbach Pinot Noir (Alsace)   \n",
       "30811   Scar of the Sea 2013 Bien Nacido Vineyard Bloc...   \n",
       "86983              Al-Cantàra 2015 Occhi di Ciumi  (Etna)   \n",
       "109619            Cupcake 2008 Chardonnay (Central Coast)   \n",
       "98442     Château Smith Haut Lafitte 2009  Pessac-Léognan   \n",
       "\n",
       "                         variety                      winery  \n",
       "105424                Pinot Noir               Joseph Cattin  \n",
       "30811                 Chardonnay             Scar of the Sea  \n",
       "86983                White Blend                  Al-Cantàra  \n",
       "109619                Chardonnay                     Cupcake  \n",
       "98442   Bordeaux-style Red Blend  Château Smith Haut Lafitte  "
      ]
     },
     "execution_count": 5,
     "metadata": {},
     "output_type": "execute_result"
    }
   ],
   "source": [
    "data_json.sample(5, random_state=4)"
   ]
  },
  {
   "cell_type": "markdown",
   "metadata": {},
   "source": [
    "Immediately, this data looks the same as `data_csv`, except that 'NaN' is replaced by 'None' in the cases of missing data. "
   ]
  },
  {
   "cell_type": "code",
   "execution_count": 6,
   "metadata": {},
   "outputs": [
    {
     "data": {
      "text/plain": [
       "True"
      ]
     },
     "execution_count": 6,
     "metadata": {},
     "output_type": "execute_result"
    }
   ],
   "source": [
    "data_json.equals(data_csv)"
   ]
  },
  {
   "cell_type": "markdown",
   "metadata": {},
   "source": [
    "They are exactly the same, and the 'NaN'-'None' difference is a formatting difference between csv and json data. I can safely disregard `data_json`. This leaves a single data file, in CSV format, left to continue with. "
   ]
  },
  {
   "cell_type": "code",
   "execution_count": 7,
   "metadata": {},
   "outputs": [
    {
     "data": {
      "text/plain": [
       "(129971, 13)"
      ]
     },
     "execution_count": 7,
     "metadata": {},
     "output_type": "execute_result"
    }
   ],
   "source": [
    "data_csv.shape"
   ]
  },
  {
   "cell_type": "markdown",
   "metadata": {},
   "source": [
    "With 13 features and 129,971 samples, there are 1,689,623 pices of data. \n",
    "- **country**: String. Nominal categorical. \n",
    "- **description**: String. Freeform text. \n",
    "- **designation**: String. Freeform text. \n",
    "- **points**: Numeric. Integer ratio. \n",
    "- **price**: Numeric. Continuous ratio. \n",
    "- **province**: String. Nominal categorical. \n",
    "- **region_1**: String. Nominal categorical. \n",
    "- **region_2**: String. Nominal categorical. \n",
    "- **taster_name**: String. Nominal categorical. \n",
    "- **taster_twitter_handle**: String. Nominal categorical. \n",
    "- **title**: String. Freeform text. Contains an integer interval datum that could be parsed. \n",
    "- **variety**: String. Nominal categorical. \n",
    "- **winery**: String. Nominal categorical. "
   ]
  },
  {
   "cell_type": "markdown",
   "metadata": {},
   "source": [
    "## Target variable\n",
    "Datatype?  \n",
    "Descriptive statistics?  \n",
    "Unbalanced? Does it need weighting?  \n",
    "Is it linearly separable?  \n",
    "What sorts of models can predict this?  \n",
    "\n",
    "The target variable is `points`. It's data type is integer ratio. "
   ]
  },
  {
   "cell_type": "code",
   "execution_count": 8,
   "metadata": {},
   "outputs": [
    {
     "data": {
      "text/plain": [
       "count    129971.000000\n",
       "mean         88.447138\n",
       "std           3.039730\n",
       "min          80.000000\n",
       "25%          86.000000\n",
       "50%          88.000000\n",
       "75%          91.000000\n",
       "max         100.000000\n",
       "Name: points, dtype: float64"
      ]
     },
     "execution_count": 8,
     "metadata": {},
     "output_type": "execute_result"
    }
   ],
   "source": [
    "# Descriptive statistics\n",
    "target_data.describe()"
   ]
  },
  {
   "cell_type": "markdown",
   "metadata": {},
   "source": [
    "There is no missing data in the target variable. There are also no scores below 80, which on a 0-100 score system would be farcical - I imagine the dataset was gathered explicitly excluding wines with point scores below that threshold? \n",
    "\n",
    "Having just read the code that scraped the website, I've found that it was hardcoded to scrape all the pages of reviews that were there at the time. I then went to the website itself; [ https://www.winemag.com/?s=&drink_type=wine&page=1&sort_by=rating&sort_dir=asc ], and discoverd that of 249,314 reiviews, only two were below 80. One is 22 points, and the other is 44 and marked as a duplicate. \n",
    "\n",
    "As I read further, I found this explanation of their ratings (table headers and formatting added by me): \n",
    "\n",
    ">| Score range | Quality | Description |\n",
    ">|---|---|---|\n",
    ">| 98–100 | Classic | The pinnacle of quality. |\n",
    ">| 94–97 | Superb | A great achievement. |\n",
    ">| 90–93 | Excellent | Highly recommended. |\n",
    ">| 87–89 | Very Good | Often good value; well recommended. |\n",
    ">| 83–86 | Good | Suitable for everyday consumption; often good value. |\n",
    ">| 80–82 | Acceptable | Can be employed in casual, less-critical circumstances. |\n",
    ">\n",
    ">Products deemed Unacceptable (receiving a rating below 80 points) are not reviewed.\n",
    "\n",
    "Which explains this completely. I don't know why the two sub-80 reviews aren't in this dataset, but they're clearly anomalies and I will discount them. "
   ]
  },
  {
   "cell_type": "code",
   "execution_count": 9,
   "metadata": {},
   "outputs": [
    {
     "data": {
      "text/plain": [
       "<matplotlib.axes._subplots.AxesSubplot at 0x7ff2d45d58d0>"
      ]
     },
     "execution_count": 9,
     "metadata": {},
     "output_type": "execute_result"
    },
    {
     "data": {
      "image/png": "[encoded data removed]",
      "text/plain": [
       "<Figure size 1080x360 with 1 Axes>"
      ]
     },
     "metadata": {
      "needs_background": "light"
     },
     "output_type": "display_data"
    }
   ],
   "source": [
    "target_data.value_counts().sort_index().plot.bar(title='Number of wines achieving each score', figsize=(15,5))"
   ]
  },
  {
   "cell_type": "code",
   "execution_count": 10,
   "metadata": {},
   "outputs": [
    {
     "name": "stdout",
     "output_type": "stream",
     "text": [
      "Target data skewness: 0.04592022248056047\n",
      "Target data kurtosis: -0.29599796801102096\n"
     ]
    }
   ],
   "source": [
    "stats_describe_target = stats.describe(target_data)\n",
    "print('Target data skewness: {}'.format(stats_describe_target.skewness))\n",
    "print('Target data kurtosis: {}'.format(stats_describe_target.kurtosis))"
   ]
  },
  {
   "cell_type": "markdown",
   "metadata": {},
   "source": [
    "These skewness and kurtosis scores make sense, and the distribution of the target variable does look rather like a normal distribution, give or take. "
   ]
  },
  {
   "cell_type": "code",
   "execution_count": 11,
   "metadata": {},
   "outputs": [
    {
     "data": {
      "image/png": "[encoded data removed]",
      "text/plain": [
       "<Figure size 1080x360 with 1 Axes>"
      ]
     },
     "metadata": {
      "needs_background": "light"
     },
     "output_type": "display_data"
    }
   ],
   "source": [
    "ax_1 = target_data.plot.box(title='Plot of quartiles of target data', figsize=(15,5), vert=False, widths=0.5)\n",
    "ax_1.set_xticks(target_data.value_counts().sort_index().index);"
   ]
  },
  {
   "cell_type": "markdown",
   "metadata": {},
   "source": [
    "This boxplot shows that despite the distribution being fairly normal, it does have outliers - fortunately it doesn't look like there are too many. Since they're everything above 98, I'll check how many there are: "
   ]
  },
  {
   "cell_type": "code",
   "execution_count": 12,
   "metadata": {},
   "outputs": [
    {
     "data": {
      "text/plain": [
       "52"
      ]
     },
     "execution_count": 12,
     "metadata": {},
     "output_type": "execute_result"
    }
   ],
   "source": [
    "target_data[target_data>98].size"
   ]
  },
  {
   "cell_type": "markdown",
   "metadata": {},
   "source": [
    "Apparently there are 52 suspected outliers in this dataset, which out of 129,971, isn't many. Unless there's a specific reason to remove them, I'll leave them in, and consider any further engineering of them when I have more context, if necessary. \n",
    "\n",
    "Seeing as how this data is integer ratio data, it is evidently linearly separable. I will consider using regression models to make predictive models for this. "
   ]
  },
  {
   "cell_type": "markdown",
   "metadata": {},
   "source": [
    "## Feature data\n",
    "### Numeric\n",
    "Independent or dependent?  \n",
    "What are the descriptive statistics of the data?  \n",
    "Is it sparse or dense?  \n",
    "How much of it is missing?  \n",
    "\n",
    "Some of the features are independent of each other, in so far as anything in the physical universe is independent of anything else, though several are not. taster_name and taster_twitter_handle, which seem to share some similarity, for obvious reasons. It is likely that one of these will be dropped before the analysis, because it's duplicate information. "
   ]
  },
  {
   "cell_type": "code",
   "execution_count": 13,
   "metadata": {},
   "outputs": [
    {
     "data": {
      "text/html": [
       "<div>\n",
       "<style scoped>\n",
       "    .dataframe tbody tr th:only-of-type {\n",
       "        vertical-align: middle;\n",
       "    }\n",
       "\n",
       "    .dataframe tbody tr th {\n",
       "        vertical-align: top;\n",
       "    }\n",
       "\n",
       "    .dataframe thead th {\n",
       "        text-align: right;\n",
       "    }\n",
       "</style>\n",
       "<table border=\"1\" class=\"dataframe\">\n",
       "  <thead>\n",
       "    <tr style=\"text-align: right;\">\n",
       "      <th></th>\n",
       "      <th>price</th>\n",
       "    </tr>\n",
       "  </thead>\n",
       "  <tbody>\n",
       "    <tr>\n",
       "      <th>count</th>\n",
       "      <td>120975.000000</td>\n",
       "    </tr>\n",
       "    <tr>\n",
       "      <th>mean</th>\n",
       "      <td>35.363389</td>\n",
       "    </tr>\n",
       "    <tr>\n",
       "      <th>std</th>\n",
       "      <td>41.022218</td>\n",
       "    </tr>\n",
       "    <tr>\n",
       "      <th>min</th>\n",
       "      <td>4.000000</td>\n",
       "    </tr>\n",
       "    <tr>\n",
       "      <th>25%</th>\n",
       "      <td>17.000000</td>\n",
       "    </tr>\n",
       "    <tr>\n",
       "      <th>50%</th>\n",
       "      <td>25.000000</td>\n",
       "    </tr>\n",
       "    <tr>\n",
       "      <th>75%</th>\n",
       "      <td>42.000000</td>\n",
       "    </tr>\n",
       "    <tr>\n",
       "      <th>max</th>\n",
       "      <td>3300.000000</td>\n",
       "    </tr>\n",
       "  </tbody>\n",
       "</table>\n",
       "</div>"
      ],
      "text/plain": [
       "               price\n",
       "count  120975.000000\n",
       "mean       35.363389\n",
       "std        41.022218\n",
       "min         4.000000\n",
       "25%        17.000000\n",
       "50%        25.000000\n",
       "75%        42.000000\n",
       "max      3300.000000"
      ]
     },
     "execution_count": 13,
     "metadata": {},
     "output_type": "execute_result"
    }
   ],
   "source": [
    "feature_data.describe()"
   ]
  },
  {
   "cell_type": "markdown",
   "metadata": {},
   "source": [
    "Since price is the only numerical feature variable, `pd.describe()` has limited use.  \n",
    "That said, looking at this shows some interesting things: the standard deviation is larger than the mean for a continuous ratio variable, and three percentiles, as well as the standard deviation and the mean, are all two orders of magnitude smaller than the max value. I'd like to see what a boxplot labels as suspected outliers: "
   ]
  },
  {
   "cell_type": "code",
   "execution_count": 14,
   "metadata": {},
   "outputs": [
    {
     "data": {
      "text/plain": [
       "<matplotlib.axes._subplots.AxesSubplot at 0x7ff2d457d5c0>"
      ]
     },
     "execution_count": 14,
     "metadata": {},
     "output_type": "execute_result"
    },
    {
     "data": {
      "image/png": "[encoded data removed]",
      "text/plain": [
       "<Figure size 1080x360 with 1 Axes>"
      ]
     },
     "metadata": {
      "needs_background": "light"
     },
     "output_type": "display_data"
    }
   ],
   "source": [
    "feature_data.price.plot.box(x='price', figsize=(15,5), vert=False, widths=0.5)"
   ]
  },
  {
   "cell_type": "code",
   "execution_count": 15,
   "metadata": {},
   "outputs": [
    {
     "data": {
      "text/plain": [
       "<matplotlib.axes._subplots.AxesSubplot at 0x7ff2d451f7b8>"
      ]
     },
     "execution_count": 15,
     "metadata": {},
     "output_type": "execute_result"
    },
    {
     "data": {
      "image/png": "[encoded data removed]",
      "text/plain": [
       "<Figure size 1080x360 with 1 Axes>"
      ]
     },
     "metadata": {
      "needs_background": "light"
     },
     "output_type": "display_data"
    }
   ],
   "source": [
    "feature_data[feature_data.price<100].price.plot.box(x='price', figsize=(15,5), vert=False, widths=0.5)"
   ]
  },
  {
   "cell_type": "markdown",
   "metadata": {},
   "source": [
    "That's a huge part of the range that's outlier territory, from 72 to 3000+. "
   ]
  },
  {
   "cell_type": "code",
   "execution_count": 16,
   "metadata": {},
   "outputs": [
    {
     "data": {
      "text/plain": [
       "(9284, 12)"
      ]
     },
     "execution_count": 16,
     "metadata": {},
     "output_type": "execute_result"
    }
   ],
   "source": [
    "feature_data[feature_data.price>=72].shape"
   ]
  },
  {
   "cell_type": "markdown",
   "metadata": {},
   "source": [
    "9284/129971=0.07, which make 7% of the price feature outliers. That's a large amount. \n",
    "\n",
    "Now that I've had a cursory look at the only numeric feature variable available, I'll take a wider look at the rest of the feature variables. "
   ]
  },
  {
   "cell_type": "code",
   "execution_count": 17,
   "metadata": {},
   "outputs": [
    {
     "name": "stdout",
     "output_type": "stream",
     "text": [
      "<class 'pandas.core.frame.DataFrame'>\n",
      "Int64Index: 129971 entries, 0 to 129970\n",
      "Data columns (total 12 columns):\n",
      "country                  129908 non-null object\n",
      "description              129971 non-null object\n",
      "designation              92506 non-null object\n",
      "price                    120975 non-null float64\n",
      "province                 129908 non-null object\n",
      "region_1                 108724 non-null object\n",
      "region_2                 50511 non-null object\n",
      "taster_name              103727 non-null object\n",
      "taster_twitter_handle    98758 non-null object\n",
      "title                    129971 non-null object\n",
      "variety                  129970 non-null object\n",
      "winery                   129971 non-null object\n",
      "dtypes: float64(1), object(11)\n",
      "memory usage: 12.9+ MB\n"
     ]
    }
   ],
   "source": [
    "feature_data.info()"
   ]
  },
  {
   "cell_type": "markdown",
   "metadata": {},
   "source": [
    "Of the features; \n",
    "- country\n",
    "- description\n",
    "- province\n",
    "- title\n",
    "- variety\n",
    "- winery \n",
    "\n",
    "appear to be mostly non-null data, whereas; \n",
    "- designation\n",
    "- price\n",
    "- region_1\n",
    "- taster_name\n",
    "\n",
    "have what could be a usable amount of data present, but;\n",
    "- designation\n",
    "- region_2\n",
    "- taster_twitter_handle\n",
    "\n",
    "have more than 30,000 missing data points, and that's a lot of data to have to delete or usefully interpolate. \n",
    "\n",
    "On the upside, as it stands this isn't a sparse dataset. On the downside, as it stands most (10 out of 11) of the features require transformation of some form or another beyond straightforward standardisation. \n",
    "\n",
    "Given that some exclusionary choices might have to be made, it would be helpful to know about the variety of different values for the (straightforwardly, at least) categorical features. "
   ]
  },
  {
   "cell_type": "code",
   "execution_count": 18,
   "metadata": {},
   "outputs": [
    {
     "data": {
      "text/plain": [
       "country                     43\n",
       "province                   425\n",
       "region_1                  1229\n",
       "region_2                    17\n",
       "taster_name                 19\n",
       "taster_twitter_handle       15\n",
       "variety                    707\n",
       "winery                   16757\n",
       "dtype: int64"
      ]
     },
     "execution_count": 18,
     "metadata": {},
     "output_type": "execute_result"
    }
   ],
   "source": [
    "categorical_features = 'country', 'province', 'region_1', 'region_2', 'taster_name', 'taster_twitter_handle', 'variety', 'winery'\n",
    "raw_cat_features = feature_data.loc[:, categorical_features]\n",
    "raw_cat_features.T.apply(lambda x: x.nunique(), axis=1).sort_index()"
   ]
  },
  {
   "cell_type": "markdown",
   "metadata": {},
   "source": [
    "Putting that next to some other numbers that describe how much of it is there: \n",
    "\n",
    "|Feature|Non-null|Null|Percentage null|Count of unique values|\n",
    "|---|---|---|---|---|\n",
    "|country|129,908|63|0.05%|43|\n",
    "|province|129,908|63|0.05%|425|\n",
    "|region_1|108,724|21,247|16.35%|1229|\n",
    "|region_2|50,511|79,460|61.14%|17|\n",
    "|taster_name|103,727|26,244|20.19%|19|\n",
    "|taster_twitter_handle|98,758|31,213|24.02%|15|\n",
    "|variety|129,970|1|0.00%|707|\n",
    "|winery|129,971|0|0.00%|16757|"
   ]
  },
  {
   "cell_type": "markdown",
   "metadata": {},
   "source": [
    "'Common wisdom' suggests that features with more than somewhere in the range of 25-30% missing data should be discarded, and those with less should be considered for imputation or setting nulls to zero. In this case that would include region_2 and no others by default, though given how much is missing from taster_twitter_handle and how much of a duplicate it is of taster_name, I would consider removing it as well. "
   ]
  },
  {
   "cell_type": "code",
   "execution_count": 19,
   "metadata": {},
   "outputs": [
    {
     "name": "stdout",
     "output_type": "stream",
     "text": [
      "Number of rows with no null values: 32413\n"
     ]
    }
   ],
   "source": [
    "df_non_null = raw_cat_features.dropna(subset=categorical_features, axis='index', how='any')\n",
    "print('Number of rows with no null values: {}'.format(df_non_null.shape[0]))"
   ]
  },
  {
   "cell_type": "markdown",
   "metadata": {},
   "source": [
    "Removing ~100,000 rows (75%) from the dataset is too much. If I only consider the more populous columns, however: "
   ]
  },
  {
   "cell_type": "code",
   "execution_count": 20,
   "metadata": {},
   "outputs": [
    {
     "name": "stdout",
     "output_type": "stream",
     "text": [
      "Number of rows left with no null values after dropping region_2 and taster_twitter_handle: 82847\n"
     ]
    }
   ],
   "source": [
    "df_non_null_subset = raw_cat_features.dropna(subset=['country', 'province', 'region_1', 'taster_name', 'variety', 'winery'], axis='index', how='any')\n",
    "print('Number of rows left with no null values after dropping region_2 and taster_twitter_handle: {}'.format(df_non_null_subset.shape[0]))"
   ]
  },
  {
   "cell_type": "markdown",
   "metadata": {},
   "source": [
    "Removing 47,124 rows (36%) of the rows is less extreme, but I'd still rather not throw away a third of the data. Imputation it is. \n",
    "\n",
    "A relevant and meaningful question to consider before/along side this sort of decision is how to represent the data that I'm considering imputing? Most of it's text, which means categorical, and it's representation affects both the outcome of an analysis and how it is imputed - are countries represented as a single feature and each country is a different integer? How does this implicitly ordered definition interact with model learning? Should they be represented with a new feature for each country, and that is defined by a 0/1? Will imputations try to make wines have more than one country? Will it add so many new features as to cast the curse of dimensionality? \n",
    "\n",
    "Another relevant question to ask, is what happens if I just remove the features with the missing data? Will I really miss out on all tha tmuch if I drop 'region_2' and 'taster_twitter_handle'? Perhaps I will not. \n",
    "\n",
    "What I will do is take a quicker and easier approach, and if that doesn't get me what I want, then I'll revisit it.  \n",
    "For now though, I'll carry on with exploring the features. \n",
    "\n",
    "### Graphical"
   ]
  },
  {
   "cell_type": "code",
   "execution_count": 21,
   "metadata": {},
   "outputs": [
    {
     "data": {
      "text/plain": [
       "<matplotlib.axes._subplots.AxesSubplot at 0x7ff2d44de4a8>"
      ]
     },
     "execution_count": 21,
     "metadata": {},
     "output_type": "execute_result"
    },
    {
     "data": {
      "image/png": "[encoded data removed]",
      "text/plain": [
       "<Figure size 864x576 with 1 Axes>"
      ]
     },
     "metadata": {
      "needs_background": "light"
     },
     "output_type": "display_data"
    }
   ],
   "source": [
    "feature_data.country.value_counts().plot.bar(title='country Value Counts Bar Chart', figsize=(12,8))"
   ]
  },
  {
   "cell_type": "code",
   "execution_count": 22,
   "metadata": {},
   "outputs": [
    {
     "data": {
      "text/plain": [
       "Czech Republic            12\n",
       "Cyprus                    11\n",
       "India                      9\n",
       "Switzerland                7\n",
       "Luxembourg                 6\n",
       "Bosnia and Herzegovina     2\n",
       "Armenia                    2\n",
       "Egypt                      1\n",
       "China                      1\n",
       "Slovakia                   1\n",
       "Name: country, dtype: int64"
      ]
     },
     "execution_count": 22,
     "metadata": {},
     "output_type": "execute_result"
    }
   ],
   "source": [
    "feature_data.country.value_counts().tail(10)"
   ]
  },
  {
   "cell_type": "markdown",
   "metadata": {},
   "source": [
    "The US has a huge lead over the others in the number of wines, and this could dilue the usefulness of it as a predictor. Also, the last three countries have only one wine, which makes them not only hugely biased as predictor values, but also useless for testing - if they're trained on, they aren't in the test set, and if they're in the test set, they can't be trained on. "
   ]
  },
  {
   "cell_type": "code",
   "execution_count": 23,
   "metadata": {},
   "outputs": [
    {
     "data": {
      "text/plain": [
       "California                  36247\n",
       "Washington                   8639\n",
       "Bordeaux                     5941\n",
       "Tuscany                      5897\n",
       "Oregon                       5373\n",
       "Burgundy                     3980\n",
       "Northern Spain               3851\n",
       "Piedmont                     3729\n",
       "Mendoza Province             3264\n",
       "Veneto                       2716\n",
       "New York                     2688\n",
       "Alsace                       2440\n",
       "Northeastern Italy           2138\n",
       "Loire Valley                 1856\n",
       "Sicily & Sardinia            1797\n",
       "Champagne                    1613\n",
       "Southwest France             1503\n",
       "South Australia              1349\n",
       "Southern Italy               1349\n",
       "Provence                     1346\n",
       "Douro                        1281\n",
       "Central Italy                1233\n",
       "Catalonia                    1164\n",
       "Rhône Valley                 1081\n",
       "Beaujolais                   1044\n",
       "Mosel                        1039\n",
       "Alentejano                    937\n",
       "Colchagua Valley              830\n",
       "Marlborough                   798\n",
       "Virginia                      777\n",
       "                            ...  \n",
       "Markopoulo                      1\n",
       "Rhode Island                    1\n",
       "Krk                             1\n",
       "Alenteo                         1\n",
       "Table wine                      1\n",
       "Canada Other                    1\n",
       "Ticino                          1\n",
       "Cape Agulhas                    1\n",
       "Muzla                           1\n",
       "Monemvasia                      1\n",
       "Piekenierskloof                 1\n",
       "Vlootenburg                     1\n",
       "Viile Timis                     1\n",
       "Neuchâtel                       1\n",
       "Pitsilia Mountains              1\n",
       "Dolenjska                       1\n",
       "Dalmatian Coast                 1\n",
       "Egypt                           1\n",
       "Coelemu                         1\n",
       "Hrvatsko Primorje               1\n",
       "Urla-Thrace                     1\n",
       "Ceres Plateau                   1\n",
       "Krania Olympus                  1\n",
       "Gladstone                       1\n",
       "Imathia                         1\n",
       "Beotia                          1\n",
       "Croatia                         1\n",
       "Slovenska Istra                 1\n",
       "Muscat of Patras                1\n",
       "Casablanca-Curicó Valley        1\n",
       "Name: province, Length: 425, dtype: int64"
      ]
     },
     "execution_count": 23,
     "metadata": {},
     "output_type": "execute_result"
    }
   ],
   "source": [
    "feature_data.province.value_counts()"
   ]
  },
  {
   "cell_type": "markdown",
   "metadata": {},
   "source": [
    "Well, obviously that can't be converted into 425 binary features. Also obvious: if California were listed as it's own country, it would be the largest wine producing country in the world. It produces more wine than any other actual country, and more than the rest of the USA put together. \n",
    "\n",
    "There are 54 provinces with only one wine, and 200 with less than or equal to ten wines. This will introduce the problem of imbalanced representation - a province with only one example will obviously introduce bias around that instance of that feature, and a province with 36,247 examples (~28% of the entire dataset) will both be heavily over represented, and possibly useless - unless all wines from California are somehow uniformally better or worse because of being from California, then it'll be useless because of it's commonness. If it does carry meaning, it may be because it _isn't_ another province, or because of how it can interact with other variables - which is only going to show up in more complex models. "
   ]
  },
  {
   "cell_type": "code",
   "execution_count": 24,
   "metadata": {},
   "outputs": [
    {
     "data": {
      "text/plain": [
       "Napa Valley                                 4480\n",
       "Columbia Valley (WA)                        4124\n",
       "Russian River Valley                        3091\n",
       "California                                  2629\n",
       "Paso Robles                                 2350\n",
       "Willamette Valley                           2301\n",
       "Mendoza                                     2301\n",
       "Alsace                                      2163\n",
       "Champagne                                   1613\n",
       "Barolo                                      1599\n",
       "Finger Lakes                                1565\n",
       "Sonoma Coast                                1474\n",
       "Brunello di Montalcino                      1470\n",
       "Rioja                                       1469\n",
       "Sonoma County                               1246\n",
       "Toscana                                     1197\n",
       "Walla Walla Valley (WA)                     1066\n",
       "Chianti Classico                            1062\n",
       "Santa Barbara County                        1000\n",
       "Carneros                                     999\n",
       "Yakima Valley                                997\n",
       "Sta. Rita Hills                              975\n",
       "Dry Creek Valley                             939\n",
       "Sicilia                                      925\n",
       "Côtes de Provence                            859\n",
       "Santa Ynez Valley                            812\n",
       "Santa Lucia Highlands                        806\n",
       "Lodi                                         803\n",
       "Barbaresco                                   794\n",
       "Alexander Valley                             784\n",
       "                                            ... \n",
       "Apremont                                       1\n",
       "Grave del Friuli                               1\n",
       "Monferrato Bianco                              1\n",
       "Colline Lucchesi                               1\n",
       "Lake-Sonoma-Napa                               1\n",
       "Primitivo del Tarantino                        1\n",
       "Coteaux du Lyonnais                            1\n",
       "Coda di Volpe d'Irpinia                        1\n",
       "Moulis                                         1\n",
       "Criots-Bâtard-Montrachet                       1\n",
       "Landes                                         1\n",
       "Langhorne Creek-Limestone Coast                1\n",
       "Falanghina del Molise                          1\n",
       "Vino de Calidad de Tierras de León             1\n",
       "Vin de Pays de la Haute Vallée du Gassac       1\n",
       "Mendocino-Amador                               1\n",
       "Mâcon-Mancey                                   1\n",
       "Montlouis-sur-Loire                            1\n",
       "Napa-Monterey-Mendocino                        1\n",
       "Currency Creek                                 1\n",
       "Napa-Sonoma-Marin                              1\n",
       "Jujuy                                          1\n",
       "Geelong                                        1\n",
       "Riverland                                      1\n",
       "Côtes de Montravel                             1\n",
       "Paestum                                        1\n",
       "McLaren Vale-Langhorne Creek                   1\n",
       "Rosso di Cerignola                             1\n",
       "Strevi                                         1\n",
       "Vin de Pays de Montferrand                     1\n",
       "Name: region_1, Length: 1229, dtype: int64"
      ]
     },
     "execution_count": 24,
     "metadata": {},
     "output_type": "execute_result"
    }
   ],
   "source": [
    "feature_data.region_1.value_counts()"
   ]
  },
  {
   "cell_type": "code",
   "execution_count": 25,
   "metadata": {},
   "outputs": [],
   "source": [
    "region_1_value_counts = feature_data.region_1.value_counts()"
   ]
  },
  {
   "cell_type": "code",
   "execution_count": 26,
   "metadata": {},
   "outputs": [
    {
     "data": {
      "image/png": "[encoded data removed]",
      "text/plain": [
       "<Figure size 1080x360 with 1 Axes>"
      ]
     },
     "metadata": {
      "needs_background": "light"
     },
     "output_type": "display_data"
    }
   ],
   "source": [
    "ax_2 = region_1_value_counts.plot.box(title='region_1 Value Counts Boxplot', figsize=(15,5), vert=False, widths=0.5)\n",
    "ax_2.set_xticks([0, 100, 200, 300, 1000, 2000, 3000, 4000, 5000]);\n",
    "ax_2.set_xticklabels([0, 100, 200, 300, 1000, 2000, 3000, 4000, 5000], rotation=90);"
   ]
  },
  {
   "cell_type": "markdown",
   "metadata": {},
   "source": [
    "That's covered in outliers, and they start around 125. Running with that for now, I'll find out how much of this feature is made up of outliers. "
   ]
  },
  {
   "cell_type": "code",
   "execution_count": 27,
   "metadata": {},
   "outputs": [
    {
     "name": "stdout",
     "output_type": "stream",
     "text": [
      "region_1 value counts <= 125: 1059, 86.17%.\n",
      "region_1 value counts >  125: 170, 13.83%.\n"
     ]
    }
   ],
   "source": [
    "less_than_125 = len(region_1_value_counts[region_1_value_counts<=125])\n",
    "greater_than_125 = len(region_1_value_counts[region_1_value_counts>125])\n",
    "total_region_1_value_counts = len(region_1_value_counts)\n",
    "\n",
    "print('region_1 value counts <= 125: {}, {}%.'.format(less_than_125, '{:.2f}'.format((less_than_125/total_region_1_value_counts)*100)))\n",
    "print('region_1 value counts >  125: {}, {}%.'.format(greater_than_125, '{:.2f}'.format((greater_than_125/total_region_1_value_counts)*100)))"
   ]
  },
  {
   "cell_type": "markdown",
   "metadata": {},
   "source": [
    "So, ~14% is outliers, which isn't the end of the world. Just to get another view on this, I'll display it in terms of area under a line. "
   ]
  },
  {
   "cell_type": "code",
   "execution_count": 28,
   "metadata": {},
   "outputs": [
    {
     "data": {
      "text/plain": [
       "Text(0, 0.5, 'Number of wines in region')"
      ]
     },
     "execution_count": 28,
     "metadata": {},
     "output_type": "execute_result"
    },
    {
     "data": {
      "image/png": "[encoded data removed]",
      "text/plain": [
       "<Figure size 1080x360 with 1 Axes>"
      ]
     },
     "metadata": {
      "needs_background": "light"
     },
     "output_type": "display_data"
    }
   ],
   "source": [
    "ax_3 = region_1_value_counts.plot.line(title='region_1 Value Counts Line Chart', figsize=(15,5))\n",
    "ax_3.set_xticks([0, 100, 200, 300, 1000, 1250]);\n",
    "ax_3.set_xticklabels([0, 100, 200, 300, 1000, 1250], rotation=90);\n",
    "ax_3.set_xlabel('Number of regions with that many or more wines')\n",
    "ax_3.set_ylabel('Number of wines in region')"
   ]
  },
  {
   "cell_type": "markdown",
   "metadata": {},
   "source": [
    "That's some extreme right skew going on there. Given that this is a categorical variable, there isn't a lot I can do directly (like standardisation of numerical features). I can't find any reason to discard this feature. "
   ]
  },
  {
   "cell_type": "code",
   "execution_count": 29,
   "metadata": {},
   "outputs": [],
   "source": [
    "region_2_value_counts = feature_data.region_2.value_counts()"
   ]
  },
  {
   "cell_type": "code",
   "execution_count": 30,
   "metadata": {},
   "outputs": [
    {
     "data": {
      "text/plain": [
       "Central Coast        11065\n",
       "Sonoma                9028\n",
       "Columbia Valley       8103\n",
       "Napa                  6814\n",
       "Willamette Valley     3423\n",
       "California Other      2663\n",
       "Finger Lakes          1777\n",
       "Sierra Foothills      1462\n",
       "Napa-Sonoma           1169\n",
       "Central Valley        1062\n",
       "Southern Oregon        917\n",
       "Oregon Other           727\n",
       "Long Island            680\n",
       "North Coast            584\n",
       "Washington Other       534\n",
       "South Coast            272\n",
       "New York Other         231\n",
       "Name: region_2, dtype: int64"
      ]
     },
     "execution_count": 30,
     "metadata": {},
     "output_type": "execute_result"
    }
   ],
   "source": [
    "region_2_value_counts"
   ]
  },
  {
   "cell_type": "markdown",
   "metadata": {},
   "source": [
    "That is a _lot_ less variation. It also looks like just a lot less in general, which makes sense because ~61% of it's missing. That, combined with already having a location related feature that is has far fewer missing data and is more specific, immediately inclines me to discard this feature altogether. First, though, I should at least take a look. "
   ]
  },
  {
   "cell_type": "code",
   "execution_count": 31,
   "metadata": {},
   "outputs": [
    {
     "data": {
      "text/plain": [
       "<matplotlib.axes._subplots.AxesSubplot at 0x7ff2d4459240>"
      ]
     },
     "execution_count": 31,
     "metadata": {},
     "output_type": "execute_result"
    },
    {
     "data": {
      "image/png": "[encoded data removed]",
      "text/plain": [
       "<Figure size 1080x360 with 1 Axes>"
      ]
     },
     "metadata": {
      "needs_background": "light"
     },
     "output_type": "display_data"
    }
   ],
   "source": [
    "region_2_value_counts.plot.bar(title='region_2 Value Counts Bar Chart', figsize=(15,5))"
   ]
  },
  {
   "cell_type": "markdown",
   "metadata": {},
   "source": [
    "It has just occured to me to check the number of unique combinations of region_1 and region_2 (where region_2 is not null) is equal to the number of unique region_1 samples (where region_2 is not null). "
   ]
  },
  {
   "cell_type": "code",
   "execution_count": 32,
   "metadata": {},
   "outputs": [
    {
     "name": "stdout",
     "output_type": "stream",
     "text": [
      "(202, 2)\n",
      "(203, 3)\n"
     ]
    }
   ],
   "source": [
    "non_null_region_2_feature_data = feature_data.dropna(subset=['region_2'], axis='index', how='any')\n",
    "region_1_unique_where_region_2_non_null = non_null_region_2_feature_data.groupby(['region_1']).size().reset_index().rename(columns={0:'count'})\n",
    "region_1_and_2_unique_where_region_2_non_null = non_null_region_2_feature_data.groupby(['region_1', 'region_2']).size().reset_index().rename(columns={0:'count'})\n",
    "print(region_1_unique_where_region_2_non_null.shape)\n",
    "print(region_1_and_2_unique_where_region_2_non_null.shape)"
   ]
  },
  {
   "cell_type": "markdown",
   "metadata": {},
   "source": [
    "Two things that have just come to my attention; \n",
    "1. Those are different numbers, and I'll find out why next. \n",
    "2. region_2 has value anyway, and it's lack can just be set as 0 to make it easier for the algorithm to ignore it when it's missing. "
   ]
  },
  {
   "cell_type": "code",
   "execution_count": 33,
   "metadata": {},
   "outputs": [
    {
     "data": {
      "text/html": [
       "<div>\n",
       "<style scoped>\n",
       "    .dataframe tbody tr th:only-of-type {\n",
       "        vertical-align: middle;\n",
       "    }\n",
       "\n",
       "    .dataframe tbody tr th {\n",
       "        vertical-align: top;\n",
       "    }\n",
       "\n",
       "    .dataframe thead th {\n",
       "        text-align: right;\n",
       "    }\n",
       "</style>\n",
       "<table border=\"1\" class=\"dataframe\">\n",
       "  <thead>\n",
       "    <tr style=\"text-align: right;\">\n",
       "      <th></th>\n",
       "      <th>region_1</th>\n",
       "      <th>region_2</th>\n",
       "      <th>count</th>\n",
       "    </tr>\n",
       "  </thead>\n",
       "  <tbody>\n",
       "    <tr>\n",
       "      <th>102</th>\n",
       "      <td>Napa-Sonoma</td>\n",
       "      <td>Napa-Sonoma</td>\n",
       "      <td>18</td>\n",
       "    </tr>\n",
       "    <tr>\n",
       "      <th>103</th>\n",
       "      <td>Napa-Sonoma</td>\n",
       "      <td>North Coast</td>\n",
       "      <td>1</td>\n",
       "    </tr>\n",
       "  </tbody>\n",
       "</table>\n",
       "</div>"
      ],
      "text/plain": [
       "        region_1     region_2  count\n",
       "102  Napa-Sonoma  Napa-Sonoma     18\n",
       "103  Napa-Sonoma  North Coast      1"
      ]
     },
     "execution_count": 33,
     "metadata": {},
     "output_type": "execute_result"
    }
   ],
   "source": [
    "# I'm leaving this in because I used it, but I'm commenting it out because it's a huge and otherwise useless printout. \n",
    "# unique_regions = pd.DataFrame([region_1_unique_where_region_2_non_null.region_1, region_1_and_2_unique_where_region_2_non_null.region_1])\n",
    "# with pd.option_context('display.max_rows', None, 'display.max_columns', None):\n",
    "#     print(unique_regions)\n",
    "\n",
    "# Napa-Sonoma\n",
    "region_1_and_2_unique_where_region_2_non_null[region_1_and_2_unique_where_region_2_non_null.region_1=='Napa-Sonoma']"
   ]
  },
  {
   "cell_type": "markdown",
   "metadata": {},
   "source": [
    "Given that both 'Napa-Sonoma' and 'North Coast' are both used as values for region_2 by many other data samples, I'll leave this as is and retain the information. "
   ]
  },
  {
   "cell_type": "code",
   "execution_count": 34,
   "metadata": {},
   "outputs": [],
   "source": [
    "taster_name_value_counts = feature_data.taster_name.value_counts()"
   ]
  },
  {
   "cell_type": "code",
   "execution_count": 35,
   "metadata": {},
   "outputs": [
    {
     "data": {
      "text/plain": [
       "Roger Voss            25514\n",
       "Michael Schachner     15134\n",
       "Kerin O’Keefe         10776\n",
       "Virginie Boone         9537\n",
       "Paul Gregutt           9532\n",
       "Matt Kettmann          6332\n",
       "Joe Czerwinski         5147\n",
       "Sean P. Sullivan       4966\n",
       "Anna Lee C. Iijima     4415\n",
       "Jim Gordon             4177\n",
       "Anne Krebiehl MW       3685\n",
       "Lauren Buzzeo          1835\n",
       "Susan Kostrzewa        1085\n",
       "Mike DeSimone           514\n",
       "Jeff Jenssen            491\n",
       "Alexander Peartree      415\n",
       "Carrie Dykes            139\n",
       "Fiona Adams              27\n",
       "Christina Pickard         6\n",
       "Name: taster_name, dtype: int64"
      ]
     },
     "execution_count": 35,
     "metadata": {},
     "output_type": "execute_result"
    }
   ],
   "source": [
    "taster_name_value_counts"
   ]
  },
  {
   "cell_type": "code",
   "execution_count": 36,
   "metadata": {},
   "outputs": [
    {
     "data": {
      "text/plain": [
       "103727"
      ]
     },
     "execution_count": 36,
     "metadata": {},
     "output_type": "execute_result"
    }
   ],
   "source": [
    "taster_name_value_counts.sum()"
   ]
  },
  {
   "cell_type": "code",
   "execution_count": 37,
   "metadata": {},
   "outputs": [
    {
     "data": {
      "text/plain": [
       "<matplotlib.axes._subplots.AxesSubplot at 0x7ff2d4397128>"
      ]
     },
     "execution_count": 37,
     "metadata": {},
     "output_type": "execute_result"
    },
    {
     "data": {
      "image/png": "[encoded data removed]",
      "text/plain": [
       "<Figure size 1080x360 with 1 Axes>"
      ]
     },
     "metadata": {
      "needs_background": "light"
     },
     "output_type": "display_data"
    }
   ],
   "source": [
    "taster_name_value_counts.plot.bar(title='taster_name Value Counts Bar Chart', figsize=(15,5))"
   ]
  },
  {
   "cell_type": "markdown",
   "metadata": {},
   "source": [
    "The same general shape as region_1 and region_2, and not so awful. Roger Voss is responsible for approximately a quarter of all reviews with a named reviewer, and approxoimatly 20% of all reviews. "
   ]
  },
  {
   "cell_type": "code",
   "execution_count": 38,
   "metadata": {},
   "outputs": [],
   "source": [
    "taster_twitter_handle_value_counts = feature_data.taster_twitter_handle.value_counts()"
   ]
  },
  {
   "cell_type": "code",
   "execution_count": 39,
   "metadata": {},
   "outputs": [
    {
     "data": {
      "text/plain": [
       "@vossroger          25514\n",
       "@wineschach         15134\n",
       "@kerinokeefe        10776\n",
       "@vboone              9537\n",
       "@paulgwine           9532\n",
       "@mattkettmann        6332\n",
       "@JoeCz               5147\n",
       "@wawinereport        4966\n",
       "@gordone_cellars     4177\n",
       "@AnneInVino          3685\n",
       "@laurbuzz            1835\n",
       "@suskostrzewa        1085\n",
       "@worldwineguys       1005\n",
       "@bkfiona               27\n",
       "@winewchristina         6\n",
       "Name: taster_twitter_handle, dtype: int64"
      ]
     },
     "execution_count": 39,
     "metadata": {},
     "output_type": "execute_result"
    }
   ],
   "source": [
    "taster_twitter_handle_value_counts"
   ]
  },
  {
   "cell_type": "code",
   "execution_count": 40,
   "metadata": {},
   "outputs": [
    {
     "data": {
      "text/plain": [
       "98758"
      ]
     },
     "execution_count": 40,
     "metadata": {},
     "output_type": "execute_result"
    }
   ],
   "source": [
    "taster_twitter_handle_value_counts.sum()"
   ]
  },
  {
   "cell_type": "code",
   "execution_count": 41,
   "metadata": {},
   "outputs": [
    {
     "data": {
      "text/plain": [
       "<matplotlib.axes._subplots.AxesSubplot at 0x7ff2d440d400>"
      ]
     },
     "execution_count": 41,
     "metadata": {},
     "output_type": "execute_result"
    },
    {
     "data": {
      "image/png": "[encoded data removed]",
      "text/plain": [
       "<Figure size 1080x360 with 1 Axes>"
      ]
     },
     "metadata": {
      "needs_background": "light"
     },
     "output_type": "display_data"
    }
   ],
   "source": [
    "taster_twitter_handle_value_counts.plot.bar(title='taster_twitter_handle Value Counts Bar Chart', figsize=(15,5))"
   ]
  },
  {
   "cell_type": "markdown",
   "metadata": {},
   "source": [
    "Unsurprisingly similar to the taster_name feature, but the real question is how information do we get for the price of another dimension? "
   ]
  },
  {
   "cell_type": "code",
   "execution_count": 42,
   "metadata": {},
   "outputs": [
    {
     "name": "stdout",
     "output_type": "stream",
     "text": [
      "(16, 2)\n",
      "(16, 3)\n"
     ]
    }
   ],
   "source": [
    "non_null_name_data = feature_data.dropna(subset=['taster_name', 'taster_twitter_handle'], axis='index', how='any')\n",
    "name_unique_where_twitter_not_null = non_null_name_data.groupby(['taster_name']).size().reset_index().rename(columns={0:'count'})\n",
    "name_and_twitter_unique_where_twitter_not_null = non_null_name_data.groupby(['taster_name', 'taster_twitter_handle']).size().reset_index().rename(columns={0:'count'})\n",
    "print(name_unique_where_twitter_not_null.shape)\n",
    "print(name_and_twitter_unique_where_twitter_not_null.shape)"
   ]
  },
  {
   "cell_type": "code",
   "execution_count": 43,
   "metadata": {},
   "outputs": [
    {
     "name": "stdout",
     "output_type": "stream",
     "text": [
      "(16, 3)\n",
      "(16, 2)\n"
     ]
    }
   ],
   "source": [
    "non_null_taster_data = feature_data.dropna(subset=['taster_name', 'taster_twitter_handle'], axis='index', how='any')\n",
    "twitter_unique_where_name_not_null = non_null_name_data.groupby(['taster_twitter_handle']).size().reset_index().rename(columns={0:'count'})\n",
    "twitter_and_name_unique_where_name_not_null = non_null_name_data.groupby(['taster_twitter_handle', 'taster_name']).size().reset_index().rename(columns={0:'count'})\n",
    "print(name_and_twitter_unique_where_twitter_not_null.shape)\n",
    "print(name_unique_where_twitter_not_null.shape)"
   ]
  },
  {
   "cell_type": "code",
   "execution_count": 44,
   "metadata": {},
   "outputs": [
    {
     "name": "stdout",
     "output_type": "stream",
     "text": [
      "(25514, 2)\n",
      "(25514, 2)\n"
     ]
    }
   ],
   "source": [
    "taster_designations = feature_data[['taster_name', 'taster_twitter_handle']]\n",
    "print(taster_designations[taster_designations.taster_name=='Roger Voss'].shape)\n",
    "print(taster_designations[taster_designations.taster_twitter_handle=='@vossroger'].shape)"
   ]
  },
  {
   "cell_type": "code",
   "execution_count": 45,
   "metadata": {},
   "outputs": [
    {
     "name": "stdout",
     "output_type": "stream",
     "text": [
      "Taster names: \n",
      "Roger Voss,         @vossroger:       (25514, 2)\n",
      "Michael Schachner,  @wineschach:      (15134, 2)\n",
      "Kerin O’Keefe,      @kerinokeefe:     (10776, 2)\n",
      "Virginie Boone,     @vboone:          (9537, 2)\n",
      "Paul Gregutt,       @paulgwine :      (9532, 2)\n",
      "Matt Kettmann,      @mattkettmann:    (6332, 2)\n",
      "Joe Czerwinski,     @JoeCz:           (5147, 2)\n",
      "Sean P. Sullivan,   @wawinereport:    (4966, 2)\n",
      "Anna Lee C. Iijima, nan:              (4415, 2)\n",
      "Jim Gordon,         @gordone_cellars: (4177, 2)\n",
      "Anne Krebiehl MW,   @AnneInVino:      (3685, 2)\n",
      "Lauren Buzzeo,      @laurbuzz:        (1835, 2)\n",
      "Susan Kostrzewa,    @suskostrzewa:    (1085, 2)\n",
      "Mike DeSimone,      @worldwineguys:   (514, 2)\n",
      "Jeff Jenssen,       @worldwineguys:   (491, 2)\n",
      "Alexander Peartree, nan:              (415, 2)\n",
      "Carrie Dykes,       nan:              (139, 2)\n",
      "Fiona Adams,        @bkfiona:         (27, 2)\n",
      "Christina Pickard,  @winewchristina:  (6, 2)\n",
      "\n",
      "Taster twitters: \n",
      "Roger Voss,         @vossroger:       (25514, 2)\n",
      "Michael Schachner,  @wineschach:      (15134, 2)\n",
      "Kerin O’Keefe,      @kerinokeefe:     (10776, 2)\n",
      "Virginie Boone,     @vboone:          (9537, 2)\n",
      "Paul Gregutt,       @paulgwine :      (9532, 2)\n",
      "Matt Kettmann,      @mattkettmann:    (6332, 2)\n",
      "Joe Czerwinski,     @JoeCz:           (5147, 2)\n",
      "Sean P. Sullivan,   @wawinereport:    (4966, 2)\n",
      "Jim Gordon,         @gordone_cellars: (4177, 2)\n",
      "Anne Krebiehl MW,   @AnneInVino:      (3685, 2)\n",
      "Lauren Buzzeo,      @laurbuzz:        (1835, 2)\n",
      "Susan Kostrzewa,    @suskostrzewa:    (1085, 2)\n",
      "Mike DeSimone,      @worldwineguys:   (1005, 2)\n",
      "Fiona Adams,        @bkfiona:         (27, 2)\n",
      "Christina Pickard,  @winewchristina:  (6, 2)\n"
     ]
    }
   ],
   "source": [
    "print('Taster names: ')\n",
    "for name in taster_name_value_counts.index:\n",
    "    print((taster_designations[taster_designations.taster_name==name].sample(1).iloc[0,0] + \", \").ljust(20) + (str(taster_designations[taster_designations.taster_name==name].sample(1).iloc[0,1]) + \": \").ljust(18) + str(taster_designations[taster_designations.taster_name==name].shape))\n",
    "\n",
    "print('\\nTaster twitters: ')\n",
    "for twitter in taster_twitter_handle_value_counts.index:\n",
    "    print((taster_designations[taster_designations.taster_twitter_handle==twitter].sample(1).iloc[0,0] + \", \").ljust(20) + (str(taster_designations[taster_designations.taster_twitter_handle==twitter].sample(1).iloc[0,1]) + \": \").ljust(18) + str(taster_designations[taster_designations.taster_twitter_handle==twitter].shape))"
   ]
  },
  {
   "cell_type": "markdown",
   "metadata": {},
   "source": [
    "I've discovered something interesting: while there are more names than twitter handles, and there are no twitter handles without names, there are some twitter handles with _multiple_ names - look at the two lists above and check out @worldwineguys. They've got two reviewers, and that means that for the purposes of this dataset, twitter handles aren't unique reviewer names - they're organisational names, which means they stay. "
   ]
  },
  {
   "cell_type": "code",
   "execution_count": 46,
   "metadata": {},
   "outputs": [],
   "source": [
    "variety_value_counts = feature_data.variety.value_counts()"
   ]
  },
  {
   "cell_type": "code",
   "execution_count": 47,
   "metadata": {},
   "outputs": [
    {
     "data": {
      "text/plain": [
       "Pinot Noir                    13272\n",
       "Chardonnay                    11753\n",
       "Cabernet Sauvignon             9472\n",
       "Red Blend                      8946\n",
       "Bordeaux-style Red Blend       6915\n",
       "Riesling                       5189\n",
       "Sauvignon Blanc                4967\n",
       "Syrah                          4142\n",
       "Rosé                           3564\n",
       "Merlot                         3102\n",
       "Nebbiolo                       2804\n",
       "Zinfandel                      2714\n",
       "Sangiovese                     2707\n",
       "Malbec                         2652\n",
       "Portuguese Red                 2466\n",
       "White Blend                    2360\n",
       "Sparkling Blend                2153\n",
       "Tempranillo                    1810\n",
       "Rhône-style Red Blend          1471\n",
       "Pinot Gris                     1455\n",
       "Champagne Blend                1396\n",
       "Cabernet Franc                 1353\n",
       "Grüner Veltliner               1345\n",
       "Portuguese White               1159\n",
       "Bordeaux-style White Blend     1066\n",
       "Pinot Grigio                   1052\n",
       "Gamay                          1025\n",
       "Gewürztraminer                 1012\n",
       "Viognier                        996\n",
       "Shiraz                          836\n",
       "                              ...  \n",
       "Tsolikouri                        1\n",
       "Pignolo                           1\n",
       "Tinto Velasco                     1\n",
       "Siegerrebe                        1\n",
       "Chardonnay-Riesling               1\n",
       "Babosa Negro                      1\n",
       "Cabernet Sauvignon-Barbera        1\n",
       "Espadeiro                         1\n",
       "Tinta Amarela                     1\n",
       "Sauvignon Blanc-Assyrtiko         1\n",
       "Tempranillo-Tannat                1\n",
       "Biancale                          1\n",
       "Cococciola                        1\n",
       "Cabernet-Malbec                   1\n",
       "Parraleta                         1\n",
       "Zelen                             1\n",
       "Verdosilla                        1\n",
       "Molinara                          1\n",
       "Petit Meslier                     1\n",
       "Malagouzia-Chardonnay             1\n",
       "Biancolella                       1\n",
       "Forcallà                          1\n",
       "Favorita                          1\n",
       "Vidadillo                         1\n",
       "Misket                            1\n",
       "Verdil                            1\n",
       "Sauvignon Musqué                  1\n",
       "Ondenc                            1\n",
       "Grenache Gris                     1\n",
       "Carcajolu                         1\n",
       "Name: variety, Length: 707, dtype: int64"
      ]
     },
     "execution_count": 47,
     "metadata": {},
     "output_type": "execute_result"
    }
   ],
   "source": [
    "variety_value_counts"
   ]
  },
  {
   "cell_type": "code",
   "execution_count": 48,
   "metadata": {},
   "outputs": [
    {
     "data": {
      "text/plain": [
       "129970"
      ]
     },
     "execution_count": 48,
     "metadata": {},
     "output_type": "execute_result"
    }
   ],
   "source": [
    "variety_value_counts.sum()"
   ]
  },
  {
   "cell_type": "code",
   "execution_count": 49,
   "metadata": {},
   "outputs": [
    {
     "data": {
      "text/plain": [
       "Text(0, 0.5, 'Number of wines of a particular variety')"
      ]
     },
     "execution_count": 49,
     "metadata": {},
     "output_type": "execute_result"
    },
    {
     "data": {
      "image/png": "[encoded data removed]",
      "text/plain": [
       "<Figure size 1080x360 with 1 Axes>"
      ]
     },
     "metadata": {
      "needs_background": "light"
     },
     "output_type": "display_data"
    }
   ],
   "source": [
    "ax_4 = variety_value_counts.plot.line(title='variety Value Counts Line Chart', figsize=(15,5))\n",
    "\n",
    "ax_4.set_xticks([0, 100, 200, 300, 400, 500, 600, 700, 800]);\n",
    "ax_4.set_xticklabels([0, 100, 200, 300, 400, 500, 600, 700, 800]);\n",
    "ax_4.set_xlabel('Number of varieties having that number of wines or more')\n",
    "ax_4.set_ylabel('Number of wines of a particular variety')"
   ]
  },
  {
   "cell_type": "markdown",
   "metadata": {},
   "source": [
    "Similar to region_1, with the same conclusion. A lot of right skew, still a relevant feature, not much engineering to be done. "
   ]
  },
  {
   "cell_type": "code",
   "execution_count": 50,
   "metadata": {},
   "outputs": [],
   "source": [
    "winery_value_counts = feature_data.winery.value_counts()"
   ]
  },
  {
   "cell_type": "code",
   "execution_count": 51,
   "metadata": {},
   "outputs": [
    {
     "data": {
      "text/plain": [
       "Wines & Winemakers              222\n",
       "Testarossa                      218\n",
       "DFJ Vinhos                      215\n",
       "Williams Selyem                 211\n",
       "Louis Latour                    199\n",
       "Georges Duboeuf                 196\n",
       "Chateau Ste. Michelle           194\n",
       "Concha y Toro                   164\n",
       "Columbia Crest                  159\n",
       "Kendall-Jackson                 130\n",
       "Siduri                          126\n",
       "Gary Farrell                    125\n",
       "Lynmar                          118\n",
       "Montes                          117\n",
       "Albert Bichot                   117\n",
       "Trapiche                        113\n",
       "Undurraga                       113\n",
       "Casa Santos Lima                113\n",
       "Jean-Luc and Paul Aegerter      113\n",
       "Robert Mondavi                  112\n",
       "Santa Ema                       112\n",
       "Chanson Père et Fils            109\n",
       "Fess Parker                     108\n",
       "V. Sattui                       107\n",
       "Iron Horse                      106\n",
       "Foxen                           105\n",
       "Louis Jadot                     104\n",
       "Chehalem                        102\n",
       "Feudi di San Gregorio           102\n",
       "Maryhill                        102\n",
       "                               ... \n",
       "Gran Rigau                        1\n",
       "Jonquille                         1\n",
       "Spenker                           1\n",
       "Capel Vale                        1\n",
       "Château la Nauze                  1\n",
       "Château Rémandine                 1\n",
       "Pico Madama                       1\n",
       "Bodegas Medrano Irazu             1\n",
       "Luko                              1\n",
       "Rincón de Guadalupe               1\n",
       "Lois Rae                          1\n",
       "Château Guillotin                 1\n",
       "Johannes Kunz                     1\n",
       "Capitoni                          1\n",
       "Grillo                            1\n",
       "Domaine Roses Camille             1\n",
       "Blue Pirate                       1\n",
       "Tenuta Solar                      1\n",
       "Concadoro                         1\n",
       "Moffett                           1\n",
       "Caves Cooperatives de Donnas      1\n",
       "Château La Fleur Ribeyrolles      1\n",
       "Leconfield                        1\n",
       "Fontana                           1\n",
       "Emineo                            1\n",
       "Cà ed Balos                       1\n",
       "Duende                            1\n",
       "Kahn                              1\n",
       "13 Celsius                        1\n",
       "Züm                               1\n",
       "Name: winery, Length: 16757, dtype: int64"
      ]
     },
     "execution_count": 51,
     "metadata": {},
     "output_type": "execute_result"
    }
   ],
   "source": [
    "winery_value_counts"
   ]
  },
  {
   "cell_type": "code",
   "execution_count": 52,
   "metadata": {},
   "outputs": [
    {
     "data": {
      "text/plain": [
       "129971"
      ]
     },
     "execution_count": 52,
     "metadata": {},
     "output_type": "execute_result"
    }
   ],
   "source": [
    "winery_value_counts.sum()"
   ]
  },
  {
   "cell_type": "code",
   "execution_count": 53,
   "metadata": {},
   "outputs": [
    {
     "data": {
      "text/plain": [
       "Text(0, 0.5, 'Number of wines of a particular variety')"
      ]
     },
     "execution_count": 53,
     "metadata": {},
     "output_type": "execute_result"
    },
    {
     "data": {
      "image/png": "[encoded data removed]",
      "text/plain": [
       "<Figure size 1080x360 with 1 Axes>"
      ]
     },
     "metadata": {
      "needs_background": "light"
     },
     "output_type": "display_data"
    }
   ],
   "source": [
    "ax_5 = winery_value_counts.plot.line(title='winery Value Counts Line Chart', figsize=(15,5))\n",
    "\n",
    "ax_5.set_xticks([0, 100, 200, 300, 400, 500, 600, 700, 800]);\n",
    "ax_5.set_xticklabels([0, 100, 200, 300, 400, 500, 600, 700, 800]);\n",
    "ax_5.set_xlabel('Number of varieties having that number of wines or more')\n",
    "ax_5.set_ylabel('Number of wines of a particular variety')"
   ]
  },
  {
   "cell_type": "markdown",
   "metadata": {},
   "source": [
    "XXXXXXXXXXXXXXXXXXXXXXXXXXXXPUT TITLES ON EVERY GRAPHICXXXXXXXXXXXXXXXXXXXXXXXXXXXXXXXXXXXXXXXXXXXXXXXXXXXXX"
   ]
  },
  {
   "cell_type": "code",
   "execution_count": 54,
   "metadata": {},
   "outputs": [
    {
     "name": "stdout",
     "output_type": "stream",
     "text": [
      "Number of rows with no null values: 82847\n"
     ]
    }
   ],
   "source": [
    "df_non_null_reduced_features = raw_cat_features.dropna(subset=['country', 'province','region_1','taster_name','variety','winery'], axis='index', how='any')\n",
    "print('Number of rows with no null values: {}'.format(df_non_null_reduced_features.shape[0]))"
   ]
  }
 ],
 "metadata": {
  "kernelspec": {
   "display_name": "Python 3",
   "language": "python",
   "name": "python3"
  },
  "language_info": {
   "codemirror_mode": {
    "name": "ipython",
    "version": 3
   },
   "file_extension": ".py",
   "mimetype": "text/x-python",
   "name": "python",
   "nbconvert_exporter": "python",
   "pygments_lexer": "ipython3",
   "version": "3.6.6"
  }
 },
 "nbformat": 4,
 "nbformat_minor": 2
}
