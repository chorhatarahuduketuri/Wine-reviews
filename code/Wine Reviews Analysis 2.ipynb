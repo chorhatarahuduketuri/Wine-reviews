{
 "cells": [
  {
   "cell_type": "code",
   "execution_count": 1,
   "metadata": {},
   "outputs": [],
   "source": [
    "# Imports \n",
    "import pandas as pd\n",
    "from joblib import load"
   ]
  },
  {
   "cell_type": "markdown",
   "metadata": {},
   "source": [
    "Due to the time it takes to run the previous notebook, I'm starting a new one and using the results from the GridSearchCV runs to carry on here. \n",
    "\n",
    "# Recap\n",
    "Since this is a new notebook, I'll restate the relevant goals from the previous notebook: \n",
    "\n",
    "---\n",
    "### The Solution(s)?\n",
    "1. I could do what I did with the other wine related datasets and train a tree model to get which are the ~3-5 most important factors, and what ranges they should lie in. While I think this will work - and I intend to do it - it also tends to always end up focussing on only one particular ordered set of questions with the same answers; country A, variety B, price C, etc. which doesn't tell me anything about good wines from country F (and I assume that country F must have some good wine or other? Additionally, since several of the features are nominal, non-ordinal data, but they have been represented ordinally, decision trees will not be able to select features out of order from their representation, and this will limit the usefulness of the trained models regardless of how accurate they are. \n",
    "\n",
    "2. I could use some sort of relatively simple model (e.g. linear regression) and try to determine from the coefficients what features are important, and what values are better, but attempts to determine feature relevance in that way usually fail, as coefficients do not correlate with feature importance. I could use some sort of feature selection to further reduce the number of features I have, and make the result easier to understand somehow? The effectiveness of that is unclear, but unlikely. Then again, [scikit-learn's `SelectFromModel`](https://scikit-learn.org/stable/modules/generated/sklearn.feature_selection.SelectFromModel.html \"scikit-learn docs\") exists to do just that - automatically - so maybe that's worth a look. This still doesn't actually tell me what _values_ of features mean good wine though, so I probably won't do this. \n",
    "---\n",
    "\n",
    "Now that I've got the results, I'll first take a look at them and any graphics of their estimators and coefficients that seem relevant. "
   ]
  },
  {
   "cell_type": "markdown",
   "metadata": {},
   "source": [
    "Let's see what the results were: \n",
    "\n",
    "## Label encoded decision tree regressor\n",
    "Start time: 09:52:40.319247  \n",
    "End time: 10:44:32.850237  \n",
    "Time elapsed: 0:51:52.530990  \n",
    "\n",
    "DecisionTreeRegressor GridSearchCV label_encoded best score: 0.3728115322561326  \n",
    "DecisionTreeRegressor GridSearchCV label_encoded best estimator:  \n",
    "- criterion='mae'\n",
    "- max_depth=9\n",
    "- max_leaf_nodes=39\n",
    "\n",
    "DecisionTreeRegressor GridSearchCV label_encoded best estimator test mae: 1.8624319084110423  \n",
    "\n",
    "![Label Encoded GridSearchCV Decision Tree Regressor](../output/label_encoded_gridsearchcv_decisiontreeregressor.png)\n",
    "\n",
    "country: 5  \n",
    "price: 14  \n",
    "province: 6  \n",
    "region_1: 2  \n",
    "region_2: 1  \n",
    "variety: 1  \n",
    "winery: 0  \n",
    "vintage: 9  \n",
    "\n",
    "## Label encoded non null decision tree regressor\n",
    "Start time: 10:44:33.542068  \n",
    "End time: 11:35:03.498803  \n",
    "Time elapsed: 0:50:29.956735  \n",
    "\n",
    "DecisionTreeRegressor GridSearchCV label_encoded_non_null best score: 0.3728115322561326  \n",
    "DecisionTreeRegressor GridSearchCV label_encoded_non_null best estimator:  \n",
    "- criterion='mae'\n",
    "- max_depth=9\n",
    "- max_leaf_nodes=39\n",
    "\n",
    "DecisionTreeRegressor GridSearchCV label_encoded_non_null best estimator test mae: 1.8624319084110423  \n",
    "\n",
    "![Label Encoded Non-Null GridSearchCV Decision Tree Regressor](../output/label_encoded_non_null_gridsearchcv_decisiontreeregressor.png)\n",
    "\n",
    "country: 5\n",
    "price: 14\n",
    "province: 6\n",
    "region_1: 2\n",
    "region_2: 1\n",
    "variety: 1\n",
    "winery: 0\n",
    "vintage: 9\n",
    "\n",
    "## Mixed encoding non null decision tree regressor\n",
    "Start time: 11:35:04.171638  \n",
    "End time: 15:06:48.229524  \n",
    "Time elapsed: 3:31:44.057886  \n",
    "\n",
    "DecisionTreeRegressor GridSearchCV mixed_encoding best score: 0.37408604425045067  \n",
    "DecisionTreeRegressor GridSearchCV mixed_encoding best estimator:  \n",
    "- criterion='mae'\n",
    "- max_depth=9\n",
    "- max_leaf_nodes=39\n",
    "\n",
    "DecisionTreeRegressor GridSearchCV mixed_encoding best estimator test mae: 1.8606161327055057  \n",
    "\n",
    "![Mixed Encoding GridSearchCV Decision Tree Regressor](../output/mixed_encoding_gridsearchcv_decisiontreeregressor.png)\n",
    "\n",
    "country: 0  \n",
    "price: 13  \n",
    "province: 6  \n",
    "region_1: 2  \n",
    "region_2: 0  \n",
    "variety: 1  \n",
    "winery: 0  \n",
    "vintage: 7  \n",
    "South Africa:  \n",
    "Austria: 4  \n",
    "Portugal: 1  \n",
    "Germany: 1  \n",
    "US: 1  \n",
    "Central Coast: 1  "
   ]
  },
  {
   "cell_type": "markdown",
   "metadata": {},
   "source": [
    "Skip this part if you agree that looking at long lists of numbers is boring.  \n",
    "Scroll down to the graphs.  \n",
    "_On your way, do note how only two of the mixed encoding coeffieicnts aren't negative._  \n",
    "\n",
    "## Label encoded linear regression\n",
    "Start time: 14:22:27.445136  \n",
    "End time: 14:22:27.475975  \n",
    "Time elapsed: 0:00:00.030839  \n",
    "\n",
    "Linear regression label_encoded test mae: 2.2236270134283433  \n",
    "Linear regression label_encoded coefficients:  \n",
    "- country: -0.05181204\n",
    "- price: 1.18341613\n",
    "- province: 0.0160254\n",
    "- region_1: -0.02184531\n",
    "- region_2: 0.12735333\n",
    "- variety: -0.03476417\n",
    "- winery: -0.03688167\n",
    "- vintage: 0.18030469\n",
    "\n",
    "\n",
    "\n",
    "## Label encoded non null linear regression\n",
    "Start time: 14:22:54.769536  \n",
    "End time: 14:22:54.802231  \n",
    "Time elapsed: 0:00:00.032695  \n",
    "\n",
    "Linear regression label_encoded_non_null test mae: 2.2236270134283433  \n",
    "Linear regression label_encoded_non_null coefficients:  \n",
    "- country: -0.05181204\n",
    "- price: 1.18341613\n",
    "- province: 0.0160254\n",
    "- regoin_1: -0.02184531\n",
    "- region_2: 0.12735333\n",
    "- variety: -0.03476417\n",
    "- winery: -0.03688167\n",
    "- vintage: 0.18030469\n",
    "\n",
    "\n",
    "\n",
    "## Mixed encoding linear regression\n",
    "Start time: 14:23:17.089874  \n",
    "End time: 14:23:17.725354  \n",
    "Time elapsed: 0:00:00.635480  \n",
    "\n",
    "Linear regression mixed_encoding test mae: 31901654.235031657  \n",
    "Linear regression mixed_encoding coefficients:  \n",
    "- price: 1.10959813e+00\n",
    "- province: -1.45252901e-01\n",
    "- region_1: -4.63884083e-02\n",
    "- variety: -8.29298886e-03\n",
    "- winery: -1.94926655e-02\n",
    "- vintage: 1.61539922e-01\n",
    "- Argentina: -2.20930113e+11\n",
    "- Armenia: -4.21967277e+09\n",
    "- Australia: -1.73600537e+11\n",
    "- Austria: -2.08261605e+11\n",
    "- Bosnia and Herzegovina: -5.96748785e+09\n",
    "- Brazil: -2.66822146e+10\n",
    "- Bulgaria: -4.30096463e+10\n",
    "- Canada: -5.70293605e+10\n",
    "- Chile: -2.37356815e+11\n",
    "- China: -4.21967277e+09\n",
    "- Croatia: -3.18486784e+10\n",
    "- Cyprus: -1.19346084e+10\n",
    "- Czech Republic: -1.33431609e+10\n",
    "- Egypt: -4.21967277e+09\n",
    "- England: -3.26755514e+10\n",
    "- France: -4.95940517e+11\n",
    "- Georgia: -3.50390065e+10\n",
    "- Germany: -1.70453252e+11\n",
    "- Greece: -7.76715073e+10\n",
    "- Hungary: -4.52244808e+10\n",
    "- India: -1.03357801e+10\n",
    "- Israel: -8.17730548e+10\n",
    "- Italy: -4.71260979e+11\n",
    "- Lebanon: -2.19231385e+10\n",
    "- Luxembourg: -7.30861265e+09\n",
    "- Macedonia: -1.19346084e+10\n",
    "- Mexico: -2.98300919e+10\n",
    "- Moldova: -2.73408533e+10\n",
    "- Morocco: -1.88691111e+10\n",
    "- NaN: -3.01267615e+10\n",
    "- New Zealand: -1.35224372e+11\n",
    "- Peru: -1.46165505e+10\n",
    "- Portugal: -2.69630010e+11\n",
    "- Romania: -4.00130516e+10\n",
    "- Serbia: -1.33431609e+10\n",
    "- Slovakia: -2.80870116e+11\n",
    "- Slovenia: -3.50390065e+10\n",
    "- South Africa: -1.36251274e+11\n",
    "- Spain: -2.89052025e+11\n",
    "- Switzerland: -1.03357801e+10\n",
    "- Turkey: -3.40089194e+10\n",
    "- US: -6.50217506e+11\n",
    "- Ukraine: -1.26584988e+10\n",
    "- Uruguay: -3.77266036e+10\n",
    "- California Other: -6.27878887e+10\n",
    "- Central Coast: -1.23224187e+11\n",
    "- Central Valley: -3.95179005e+10\n",
    "- Columbia Valley: -1.06154609e+11\n",
    "- Finger Lakes: -5.11695682e+10\n",
    "- Long Island: -3.16420880e+10\n",
    "- NaN: -2.14905790e+11\n",
    "- Napa: -9.82620098e+10\n",
    "- Napa-Sonoma: -4.18994908e+10\n",
    "- New York Other: -1.86584760e+10\n",
    "- North Coast: -3.04342750e+10\n",
    "- Oregon Other: -3.30141409e+10\n",
    "- Sierra Foothills: -4.65145325e+10\n",
    "- Sonoma: -1.12309778e+11\n",
    "- South Coast: -2.00929021e+10\n",
    "- Southern Oregon: -3.70309347e+10\n",
    "- Washington Other: -2.80709043e+10\n",
    "- Willamette Valley: -7.03495437e+10"
   ]
  },
  {
   "cell_type": "markdown",
   "metadata": {},
   "source": [
    "label_encoded:\n",
    "country\n",
    "price\n",
    "province\n",
    "region_1\n",
    "region_2\n",
    "variety\n",
    "winery\n",
    "vintage\n",
    "\n",
    "X_train_label_encoded_non_null:\n",
    "country\n",
    "price\n",
    "province\n",
    "region_1\n",
    "region_2\n",
    "variety\n",
    "winery\n",
    "vintage\n",
    "\n",
    "mixed_encoding: \n",
    "price\n",
    "province\n",
    "region_1\n",
    "variety\n",
    "winery\n",
    "vintage\n",
    "Argentina\n",
    "Armenia\n",
    "Australia\n",
    "Austria\n",
    "Bosnia and Herzegovina\n",
    "Brazil\n",
    "Bulgaria\n",
    "Canada\n",
    "Chile\n",
    "China\n",
    "Croatia\n",
    "Cyprus\n",
    "Czech Republic\n",
    "Egypt\n",
    "England\n",
    "France\n",
    "Georgia\n",
    "Germany\n",
    "Greece\n",
    "Hungary\n",
    "India\n",
    "Israel\n",
    "Italy\n",
    "Lebanon\n",
    "Luxembourg\n",
    "Macedonia\n",
    "Mexico\n",
    "Moldova\n",
    "Morocco\n",
    "NaN\n",
    "New Zealand\n",
    "Peru\n",
    "Portugal\n",
    "Romania\n",
    "Serbia\n",
    "Slovakia\n",
    "Slovenia\n",
    "South Africa\n",
    "Spain\n",
    "Switzerland\n",
    "Turkey\n",
    "US\n",
    "Ukraine\n",
    "Uruguay\n",
    "California Other\n",
    "Central Coast\n",
    "Central Valley\n",
    "Columbia Valley\n",
    "Finger Lakes\n",
    "Long Island\n",
    "NaN\n",
    "Napa\n",
    "Napa-Sonoma\n",
    "New York Other\n",
    "North Coast\n",
    "Oregon Other\n",
    "Sierra Foothills\n",
    "Sonoma\n",
    "South Coast\n",
    "Southern Oregon\n",
    "Washington Other\n",
    "Willamette Valley"
   ]
  },
  {
   "cell_type": "code",
   "execution_count": 2,
   "metadata": {},
   "outputs": [],
   "source": [
    "label_encoded_data = {'country': -0.05181204, 'price': 1.18341613, 'province': 0.0160254, 'region_1': -0.02184531, 'region_2': 0.12735333, 'variety': -0.03476417, 'winery': -0.03688167, 'vintage': 0.18030469}\n",
    "label_encoded_linear_regression_series = pd.Series(data = label_encoded_data)\n",
    "\n",
    "label_encoded_non_null_data = {'country': -0.05181204, 'price': 1.18341613, 'province': 0.0160254, 'regoin_1': -0.02184531, 'region_2': 0.12735333, 'variety': -0.03476417, 'winery': -0.03688167, 'vintage': 0.18030469}\n",
    "label_encoded_non_null_linear_regression_series = pd.Series(data = label_encoded_non_null_data)\n",
    "\n",
    "mixed_encoding_data = {'price': 1.10959813e+00, 'province': -1.45252901e-01, 'region_1': -4.63884083e-02, 'variety': -8.29298886e-03, 'winery': -1.94926655e-02, 'vintage': 1.61539922e-01, 'Argentina': -2.20930113e+11, 'Armenia': -4.21967277e+09, 'Australia': -1.73600537e+11, 'Austria': -2.08261605e+11, 'Bosnia and Herzegovina': -5.96748785e+09, 'Brazil': -2.66822146e+10, 'Bulgaria': -4.30096463e+10, 'Canada': -5.70293605e+10, 'Chile': -2.37356815e+11, 'China': -4.21967277e+09, 'Croatia': -3.18486784e+10, 'Cyprus': -1.19346084e+10, 'Czech Republic': -1.33431609e+10, 'Egypt': -4.21967277e+09, 'England': -3.26755514e+10, 'France': -4.95940517e+11, 'Georgia': -3.50390065e+10, 'Germany': -1.70453252e+11, 'Greece': -7.76715073e+10, 'Hungary': -4.52244808e+10, 'India': -1.03357801e+10, 'Israel': -8.17730548e+10, 'Italy': -4.71260979e+11, 'Lebanon': -2.19231385e+10, 'Luxembourg': -7.30861265e+09, 'Macedonia': -1.19346084e+10, 'Mexico': -2.98300919e+10, 'Moldova': -2.73408533e+10, 'Morocco': -1.88691111e+10, 'NaN': -3.01267615e+10, 'New Zealand': -1.35224372e+11, 'Peru': -1.46165505e+10, 'Portugal': -2.69630010e+11, 'Romania': -4.00130516e+10, 'Serbia': -1.33431609e+10, 'Slovakia': -2.80870116e+11, 'Slovenia': -3.50390065e+10, 'South Africa': -1.36251274e+11, 'Spain': -2.89052025e+11, 'Switzerland': -1.03357801e+10, 'Turkey': -3.40089194e+10, 'US': -6.50217506e+11, 'Ukraine': -1.26584988e+10, 'Uruguay': -3.77266036e+10, 'California Other': -6.27878887e+10, 'Central Coast': -1.23224187e+11, 'Central Valley': -3.95179005e+10, 'Columbia Valley': -1.06154609e+11, 'Finger Lakes': -5.11695682e+10, 'Long Island': -3.16420880e+10, 'NaN': -2.14905790e+11, 'Napa': -9.82620098e+10, 'Napa-Sonoma': -4.18994908e+10, 'New York Other': -1.86584760e+10, 'North Coast': -3.04342750e+10, 'Oregon Other': -3.30141409e+10, 'Sierra Foothills': -4.65145325e+10, 'Sonoma': -1.12309778e+11, 'South Coast': -2.00929021e+10, 'Southern Oregon': -3.70309347e+10, 'Washington Other': -2.80709043e+10, 'Willamette Valley': -7.03495437e+10}\n",
    "mixed_encoding_linear_regression_series = pd.Series(data = mixed_encoding_data)"
   ]
  },
  {
   "cell_type": "code",
   "execution_count": 3,
   "metadata": {},
   "outputs": [
    {
     "data": {
      "text/plain": [
       "<matplotlib.axes._subplots.AxesSubplot at 0x7fe822676898>"
      ]
     },
     "execution_count": 3,
     "metadata": {},
     "output_type": "execute_result"
    }
   ],
   "source": [
    "label_encoded_linear_regression_series.plot.bar(title='Label Encoded Linear Regression Coefficients', figsize=(15,5))"
   ]
  },
  {
   "cell_type": "markdown",
   "metadata": {},
   "source": [
    "The coefficients for the label encoded data indicate fairly strongly that price is the most important factor in determining the quality of the wine. Vintage is a distant second, and region_2 third. "
   ]
  },
  {
   "cell_type": "code",
   "execution_count": 4,
   "metadata": {},
   "outputs": [
    {
     "data": {
      "text/plain": [
       "<matplotlib.axes._subplots.AxesSubplot at 0x7fe822392ef0>"
      ]
     },
     "execution_count": 4,
     "metadata": {},
     "output_type": "execute_result"
    },
    {
     "data": {
      "image/png": "[encoded data removed]",
      "text/plain": [
       "<Figure size 1080x360 with 1 Axes>"
      ]
     },
     "metadata": {
      "needs_background": "light"
     },
     "output_type": "display_data"
    }
   ],
   "source": [
    "label_encoded_non_null_linear_regression_series.plot.bar(title='Label Encoded Non-Null Linear Regression Coefficients', figsize=(15,5))"
   ]
  },
  {
   "cell_type": "markdown",
   "metadata": {},
   "source": [
    "The coefficients for the label encoded non-null data indicate the exact same thing as those of the label encoded model - since they are exactly the same. "
   ]
  },
  {
   "cell_type": "code",
   "execution_count": 5,
   "metadata": {},
   "outputs": [
    {
     "data": {
      "text/plain": [
       "<matplotlib.axes._subplots.AxesSubplot at 0x7fe820034ef0>"
      ]
     },
     "execution_count": 5,
     "metadata": {},
     "output_type": "execute_result"
    },
    {
     "data": {
      "image/png": "[encoded data removed]",
      "text/plain": [
       "<Figure size 1080x360 with 1 Axes>"
      ]
     },
     "metadata": {
      "needs_background": "light"
     },
     "output_type": "display_data"
    }
   ],
   "source": [
    "mixed_encoding_linear_regression_series.plot.bar(title='Mixed Encoding Linear Regression Coefficients', figsize=(15,5))"
   ]
  },
  {
   "cell_type": "markdown",
   "metadata": {},
   "source": [
    "The coefficients of the mixed encoding model are over too extreme a range to be able to tell much from a bar chart, but what you can tell is that every country and region_2 value is both negative and has a huge magnitude (x10<sup>-9</sup> to x10<sup>-11</sup>).  \n",
    "Notably, the only values that are too small to be seen on the bar chart are those that are label encoded. Let's take a closer look at those.  "
   ]
  },
  {
   "cell_type": "code",
   "execution_count": 6,
   "metadata": {},
   "outputs": [
    {
     "data": {
      "text/plain": [
       "<matplotlib.axes._subplots.AxesSubplot at 0x7fe81fe32550>"
      ]
     },
     "execution_count": 6,
     "metadata": {},
     "output_type": "execute_result"
    },
    {
     "data": {
      "image/png": "[encoded data removed]",
      "text/plain": [
       "<Figure size 1080x360 with 1 Axes>"
      ]
     },
     "metadata": {
      "needs_background": "light"
     },
     "output_type": "display_data"
    }
   ],
   "source": [
    "reduced_mixed_encoding_linear_regression_series = mixed_encoding_linear_regression_series[['price', 'province', 'region_1', 'variety', 'winery', 'vintage']]\n",
    "reduced_mixed_encoding_linear_regression_series.plot.bar(title='Reduced Mixed Encoding Linear Regression Coefficients', figsize=(15,5))"
   ]
  },
  {
   "cell_type": "markdown",
   "metadata": {},
   "source": [
    "Again, the most important factors in determining a wine's quality are it's price, and it's vintage.  \n",
    "\n",
    "This means that the most important factors for a good wine are it's price, it's alcohol content, and to a limited extent how old it is, and possibly that the younger it is the better. "
   ]
  }
 ],
 "metadata": {
  "kernelspec": {
   "display_name": "Python 3",
   "language": "python",
   "name": "python3"
  },
  "language_info": {
   "codemirror_mode": {
    "name": "ipython",
    "version": 3
   },
   "file_extension": ".py",
   "mimetype": "text/x-python",
   "name": "python",
   "nbconvert_exporter": "python",
   "pygments_lexer": "ipython3",
   "version": "3.6.7"
  }
 },
 "nbformat": 4,
 "nbformat_minor": 2
}
